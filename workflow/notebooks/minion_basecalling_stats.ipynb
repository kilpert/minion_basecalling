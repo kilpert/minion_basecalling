{
 "cells": [
  {
   "cell_type": "markdown",
   "id": "7b51fc5e",
   "metadata": {},
   "source": [
    "# MinION basecalling stats"
   ]
  },
  {
   "cell_type": "code",
   "execution_count": 46,
   "id": "96a75c8a",
   "metadata": {},
   "outputs": [],
   "source": [
    "import pandas as pd\n",
    "import plotly.offline as pyo\n",
    "import plotly.graph_objects as go\n",
    "import plotly.express as px"
   ]
  },
  {
   "cell_type": "code",
   "execution_count": 47,
   "id": "80f427b6",
   "metadata": {},
   "outputs": [
    {
     "data": {
      "text/plain": [
       "'/run/user/1000/gvfs/sftp:host=minion.local,user=kilpert/vol/minion/minion_basecalling/workflow/notebooks'"
      ]
     },
     "execution_count": 47,
     "metadata": {},
     "output_type": "execute_result"
    }
   ],
   "source": [
    "import os\n",
    "os.getcwd()"
   ]
  },
  {
   "cell_type": "code",
   "execution_count": 48,
   "id": "c43fdbf7",
   "metadata": {},
   "outputs": [
    {
     "data": {
      "text/plain": [
       "'kilpert-pc'"
      ]
     },
     "execution_count": 48,
     "metadata": {},
     "output_type": "execute_result"
    }
   ],
   "source": [
    "import socket\n",
    "hostname = socket.gethostname()\n",
    "hostname"
   ]
  },
  {
   "cell_type": "code",
   "execution_count": 49,
   "id": "99f2cc77",
   "metadata": {},
   "outputs": [],
   "source": [
    "if hostname.endswith(\"-pc\"):\n",
    "    ##stats_tsv = \"../../results/001_20220412_FAME3/dna_r9.4.1_450bps_fast/guppy_basecaller_fastq_alias/001_20220412_FAME3.flowcell.fastq_stats.tsv\"\n",
    "    stats_tsv = \"../../results/001_20220412_FAME3/dna_r9.4.1_450bps_sup/guppy_basecaller_fastq_alias/001_20220412_FAME3.flowcell.fastq_stats.tsv\"\n",
    "    run_name = os.path.basename(stats_tsv).split(\".\")[0]\n",
    "    outfile = f\"{run_name}.fastq_stats.html\"\n",
    "else:\n",
    "    stats_tsv = snakemake.input.tsv\n",
    "    run_name = snakemake.params.run\n",
    "    outfile = snakemake.output"
   ]
  },
  {
   "cell_type": "code",
   "execution_count": 50,
   "id": "461519bd",
   "metadata": {},
   "outputs": [
    {
     "data": {
      "text/plain": [
       "'../../results/001_20220412_FAME3/dna_r9.4.1_450bps_sup/guppy_basecaller_fastq_alias/001_20220412_FAME3.flowcell.fastq_stats.tsv'"
      ]
     },
     "execution_count": 50,
     "metadata": {},
     "output_type": "execute_result"
    }
   ],
   "source": [
    "stats_tsv"
   ]
  },
  {
   "cell_type": "code",
   "execution_count": 51,
   "id": "78ac371b",
   "metadata": {},
   "outputs": [
    {
     "data": {
      "text/plain": [
       "'001_20220412_FAME3'"
      ]
     },
     "execution_count": 51,
     "metadata": {},
     "output_type": "execute_result"
    }
   ],
   "source": [
    "run_name"
   ]
  },
  {
   "cell_type": "code",
   "execution_count": 52,
   "id": "42b345fa",
   "metadata": {},
   "outputs": [
    {
     "data": {
      "text/plain": [
       "'001_20220412_FAME3.fastq_stats.html'"
      ]
     },
     "execution_count": 52,
     "metadata": {},
     "output_type": "execute_result"
    }
   ],
   "source": [
    "outfile"
   ]
  },
  {
   "cell_type": "markdown",
   "id": "71ff77f2",
   "metadata": {},
   "source": [
    "## Data"
   ]
  },
  {
   "cell_type": "code",
   "execution_count": 53,
   "id": "89cf4167",
   "metadata": {},
   "outputs": [
    {
     "data": {
      "text/html": [
       "<div>\n",
       "<style scoped>\n",
       "    .dataframe tbody tr th:only-of-type {\n",
       "        vertical-align: middle;\n",
       "    }\n",
       "\n",
       "    .dataframe tbody tr th {\n",
       "        vertical-align: top;\n",
       "    }\n",
       "\n",
       "    .dataframe thead th {\n",
       "        text-align: right;\n",
       "    }\n",
       "</style>\n",
       "<table border=\"1\" class=\"dataframe\">\n",
       "  <thead>\n",
       "    <tr style=\"text-align: right;\">\n",
       "      <th></th>\n",
       "      <th>sample</th>\n",
       "      <th>qc</th>\n",
       "      <th>reads</th>\n",
       "      <th>bases</th>\n",
       "    </tr>\n",
       "  </thead>\n",
       "  <tbody>\n",
       "    <tr>\n",
       "      <th>0</th>\n",
       "      <td>PAY002</td>\n",
       "      <td>fail</td>\n",
       "      <td>4371</td>\n",
       "      <td>5606222.0</td>\n",
       "    </tr>\n",
       "    <tr>\n",
       "      <th>1</th>\n",
       "      <td>PAY004</td>\n",
       "      <td>fail</td>\n",
       "      <td>8498</td>\n",
       "      <td>26436426.0</td>\n",
       "    </tr>\n",
       "    <tr>\n",
       "      <th>2</th>\n",
       "      <td>PAY005</td>\n",
       "      <td>fail</td>\n",
       "      <td>11408</td>\n",
       "      <td>45417195.0</td>\n",
       "    </tr>\n",
       "    <tr>\n",
       "      <th>3</th>\n",
       "      <td>PAY004_F1-R1</td>\n",
       "      <td>fail</td>\n",
       "      <td>30030</td>\n",
       "      <td>24660597.0</td>\n",
       "    </tr>\n",
       "    <tr>\n",
       "      <th>4</th>\n",
       "      <td>PAY011</td>\n",
       "      <td>fail</td>\n",
       "      <td>9502</td>\n",
       "      <td>19315887.0</td>\n",
       "    </tr>\n",
       "    <tr>\n",
       "      <th>...</th>\n",
       "      <td>...</td>\n",
       "      <td>...</td>\n",
       "      <td>...</td>\n",
       "      <td>...</td>\n",
       "    </tr>\n",
       "    <tr>\n",
       "      <th>189</th>\n",
       "      <td>barcode93</td>\n",
       "      <td>pass</td>\n",
       "      <td>2</td>\n",
       "      <td>2593.0</td>\n",
       "    </tr>\n",
       "    <tr>\n",
       "      <th>190</th>\n",
       "      <td>barcode94</td>\n",
       "      <td>pass</td>\n",
       "      <td>3</td>\n",
       "      <td>10084.0</td>\n",
       "    </tr>\n",
       "    <tr>\n",
       "      <th>191</th>\n",
       "      <td>barcode95</td>\n",
       "      <td>pass</td>\n",
       "      <td>3</td>\n",
       "      <td>8841.0</td>\n",
       "    </tr>\n",
       "    <tr>\n",
       "      <th>192</th>\n",
       "      <td>barcode96</td>\n",
       "      <td>pass</td>\n",
       "      <td>4</td>\n",
       "      <td>9131.0</td>\n",
       "    </tr>\n",
       "    <tr>\n",
       "      <th>193</th>\n",
       "      <td>unclassified</td>\n",
       "      <td>pass</td>\n",
       "      <td>61879</td>\n",
       "      <td>142797652.0</td>\n",
       "    </tr>\n",
       "  </tbody>\n",
       "</table>\n",
       "<p>194 rows × 4 columns</p>\n",
       "</div>"
      ],
      "text/plain": [
       "           sample    qc  reads        bases\n",
       "0          PAY002  fail   4371    5606222.0\n",
       "1          PAY004  fail   8498   26436426.0\n",
       "2          PAY005  fail  11408   45417195.0\n",
       "3    PAY004_F1-R1  fail  30030   24660597.0\n",
       "4          PAY011  fail   9502   19315887.0\n",
       "..            ...   ...    ...          ...\n",
       "189     barcode93  pass      2       2593.0\n",
       "190     barcode94  pass      3      10084.0\n",
       "191     barcode95  pass      3       8841.0\n",
       "192     barcode96  pass      4       9131.0\n",
       "193  unclassified  pass  61879  142797652.0\n",
       "\n",
       "[194 rows x 4 columns]"
      ]
     },
     "execution_count": 53,
     "metadata": {},
     "output_type": "execute_result"
    }
   ],
   "source": [
    "df = pd.read_csv(stats_tsv, sep=\"\\t\")\n",
    "df"
   ]
  },
  {
   "cell_type": "markdown",
   "id": "39fd86d7",
   "metadata": {},
   "source": [
    "## Fill NA in bases"
   ]
  },
  {
   "cell_type": "code",
   "execution_count": 54,
   "id": "af3e680e",
   "metadata": {},
   "outputs": [
    {
     "data": {
      "text/plain": [
       "3"
      ]
     },
     "execution_count": 54,
     "metadata": {},
     "output_type": "execute_result"
    }
   ],
   "source": [
    "sum(df[\"bases\"].isna())"
   ]
  },
  {
   "cell_type": "code",
   "execution_count": 55,
   "id": "0bc66869",
   "metadata": {},
   "outputs": [],
   "source": [
    "df[\"bases\"] = df[\"bases\"].fillna(0)"
   ]
  },
  {
   "cell_type": "code",
   "execution_count": 56,
   "id": "2143ded8",
   "metadata": {},
   "outputs": [
    {
     "data": {
      "text/plain": [
       "0"
      ]
     },
     "execution_count": 56,
     "metadata": {},
     "output_type": "execute_result"
    }
   ],
   "source": [
    "sum(df[\"bases\"].isna())"
   ]
  },
  {
   "cell_type": "markdown",
   "id": "d0522816",
   "metadata": {},
   "source": [
    "## Reads"
   ]
  },
  {
   "cell_type": "code",
   "execution_count": 57,
   "id": "d5a27be9",
   "metadata": {},
   "outputs": [
    {
     "data": {
      "application/vnd.plotly.v1+json": {
       "config": {
        "displaylogo": false,
        "plotlyServerURL": "https://plot.ly"
       },
       "data": [
        {
         "marker": {
          "color": "blue"
         },
         "name": "pass",
         "type": "bar",
         "x": [
          "PAY002",
          "PAY004",
          "PAY005",
          "PAY004_F1-R1",
          "PAY011",
          "PAY013",
          "PAY015",
          "PAY016",
          "PAY017",
          "PAY023",
          "PAY031",
          "PAY039",
          "PAY100",
          "Pad213_17",
          "LEC013",
          "LEC015",
          "LEC019",
          "LEC022",
          "LEC035",
          "LEC040",
          "LEC043",
          "LEC043_F1-R1",
          "LEC046",
          "LEC048",
          "VA33_211",
          "VA33_211_F1-R1",
          "VA33_213",
          "VA33_228",
          "VA33_235",
          "M00_234",
          "barcode31",
          "barcode32",
          "barcode33",
          "barcode34",
          "barcode35",
          "barcode36",
          "barcode37",
          "barcode38",
          "barcode39",
          "barcode40",
          "barcode41",
          "barcode42",
          "barcode43",
          "barcode44",
          "barcode45",
          "barcode46",
          "barcode47",
          "barcode48",
          "barcode49",
          "barcode50",
          "barcode51",
          "barcode52",
          "barcode53",
          "barcode54",
          "barcode55",
          "barcode56",
          "barcode57",
          "barcode58",
          "barcode59",
          "barcode60",
          "barcode61",
          "barcode62",
          "barcode63",
          "barcode64",
          "barcode65",
          "barcode66",
          "barcode67",
          "barcode68",
          "barcode69",
          "barcode70",
          "barcode71",
          "barcode72",
          "barcode73",
          "barcode74",
          "barcode75",
          "barcode76",
          "barcode77",
          "barcode78",
          "barcode79",
          "barcode80",
          "barcode81",
          "barcode82",
          "barcode83",
          "barcode84",
          "barcode85",
          "barcode86",
          "barcode87",
          "barcode88",
          "barcode89",
          "barcode90",
          "barcode91",
          "barcode92",
          "barcode93",
          "barcode94",
          "barcode95",
          "barcode96",
          "unclassified",
          "PAY002",
          "PAY004",
          "PAY005",
          "PAY004_F1-R1",
          "PAY011",
          "PAY013",
          "PAY015",
          "PAY016",
          "PAY017",
          "PAY023",
          "PAY031",
          "PAY039",
          "PAY100",
          "Pad213_17",
          "LEC013",
          "LEC015",
          "LEC019",
          "LEC022",
          "LEC035",
          "LEC040",
          "LEC043",
          "LEC043_F1-R1",
          "LEC046",
          "LEC048",
          "VA33_211",
          "VA33_211_F1-R1",
          "VA33_213",
          "VA33_228",
          "VA33_235",
          "M00_234",
          "barcode31",
          "barcode32",
          "barcode33",
          "barcode34",
          "barcode35",
          "barcode36",
          "barcode37",
          "barcode38",
          "barcode39",
          "barcode40",
          "barcode41",
          "barcode42",
          "barcode43",
          "barcode44",
          "barcode45",
          "barcode46",
          "barcode47",
          "barcode48",
          "barcode49",
          "barcode50",
          "barcode51",
          "barcode52",
          "barcode53",
          "barcode54",
          "barcode55",
          "barcode56",
          "barcode57",
          "barcode58",
          "barcode59",
          "barcode60",
          "barcode61",
          "barcode62",
          "barcode63",
          "barcode64",
          "barcode65",
          "barcode66",
          "barcode67",
          "barcode68",
          "barcode69",
          "barcode70",
          "barcode71",
          "barcode72",
          "barcode73",
          "barcode74",
          "barcode75",
          "barcode76",
          "barcode77",
          "barcode78",
          "barcode79",
          "barcode80",
          "barcode81",
          "barcode82",
          "barcode83",
          "barcode84",
          "barcode85",
          "barcode86",
          "barcode87",
          "barcode88",
          "barcode89",
          "barcode90",
          "barcode91",
          "barcode92",
          "barcode93",
          "barcode94",
          "barcode95",
          "barcode96",
          "unclassified"
         ],
         "y": [
          60285,
          66805,
          62628,
          324798,
          124851,
          178714,
          91241,
          126913,
          160380,
          81996,
          92844,
          99331,
          110811,
          89591,
          105368,
          76088,
          62801,
          40169,
          70380,
          122301,
          40359,
          623197,
          83985,
          102303,
          42138,
          367028,
          24582,
          71787,
          31446,
          168175,
          8,
          13,
          14,
          4,
          3,
          2,
          3,
          12,
          3,
          2,
          3,
          7,
          1,
          3,
          8,
          33,
          4,
          9,
          4,
          4,
          2,
          5,
          6,
          9,
          4,
          6,
          3,
          9,
          2,
          7,
          4,
          5,
          1,
          8,
          2,
          7,
          5,
          2,
          79,
          1,
          7,
          7,
          4,
          16,
          3,
          19,
          4,
          16,
          4,
          3,
          3,
          3,
          74,
          7,
          1,
          4,
          3,
          1,
          14,
          1,
          4,
          1,
          2,
          3,
          3,
          4,
          61879
         ]
        },
        {
         "marker": {
          "color": "red"
         },
         "name": "fail",
         "type": "bar",
         "x": [
          "PAY002",
          "PAY004",
          "PAY005",
          "PAY004_F1-R1",
          "PAY011",
          "PAY013",
          "PAY015",
          "PAY016",
          "PAY017",
          "PAY023",
          "PAY031",
          "PAY039",
          "PAY100",
          "Pad213_17",
          "LEC013",
          "LEC015",
          "LEC019",
          "LEC022",
          "LEC035",
          "LEC040",
          "LEC043",
          "LEC043_F1-R1",
          "LEC046",
          "LEC048",
          "VA33_211",
          "VA33_211_F1-R1",
          "VA33_213",
          "VA33_228",
          "VA33_235",
          "M00_234",
          "barcode31",
          "barcode32",
          "barcode33",
          "barcode34",
          "barcode35",
          "barcode36",
          "barcode37",
          "barcode38",
          "barcode39",
          "barcode40",
          "barcode41",
          "barcode42",
          "barcode43",
          "barcode44",
          "barcode45",
          "barcode46",
          "barcode47",
          "barcode48",
          "barcode49",
          "barcode50",
          "barcode51",
          "barcode52",
          "barcode53",
          "barcode54",
          "barcode55",
          "barcode56",
          "barcode57",
          "barcode58",
          "barcode59",
          "barcode60",
          "barcode61",
          "barcode62",
          "barcode63",
          "barcode64",
          "barcode65",
          "barcode66",
          "barcode67",
          "barcode68",
          "barcode69",
          "barcode70",
          "barcode71",
          "barcode72",
          "barcode73",
          "barcode74",
          "barcode75",
          "barcode76",
          "barcode77",
          "barcode78",
          "barcode79",
          "barcode80",
          "barcode81",
          "barcode82",
          "barcode83",
          "barcode84",
          "barcode85",
          "barcode86",
          "barcode87",
          "barcode88",
          "barcode89",
          "barcode90",
          "barcode91",
          "barcode92",
          "barcode93",
          "barcode94",
          "barcode95",
          "barcode96",
          "unclassified",
          "PAY002",
          "PAY004",
          "PAY005",
          "PAY004_F1-R1",
          "PAY011",
          "PAY013",
          "PAY015",
          "PAY016",
          "PAY017",
          "PAY023",
          "PAY031",
          "PAY039",
          "PAY100",
          "Pad213_17",
          "LEC013",
          "LEC015",
          "LEC019",
          "LEC022",
          "LEC035",
          "LEC040",
          "LEC043",
          "LEC043_F1-R1",
          "LEC046",
          "LEC048",
          "VA33_211",
          "VA33_211_F1-R1",
          "VA33_213",
          "VA33_228",
          "VA33_235",
          "M00_234",
          "barcode31",
          "barcode32",
          "barcode33",
          "barcode34",
          "barcode35",
          "barcode36",
          "barcode37",
          "barcode38",
          "barcode39",
          "barcode40",
          "barcode41",
          "barcode42",
          "barcode43",
          "barcode44",
          "barcode45",
          "barcode46",
          "barcode47",
          "barcode48",
          "barcode49",
          "barcode50",
          "barcode51",
          "barcode52",
          "barcode53",
          "barcode54",
          "barcode55",
          "barcode56",
          "barcode57",
          "barcode58",
          "barcode59",
          "barcode60",
          "barcode61",
          "barcode62",
          "barcode63",
          "barcode64",
          "barcode65",
          "barcode66",
          "barcode67",
          "barcode68",
          "barcode69",
          "barcode70",
          "barcode71",
          "barcode72",
          "barcode73",
          "barcode74",
          "barcode75",
          "barcode76",
          "barcode77",
          "barcode78",
          "barcode79",
          "barcode80",
          "barcode81",
          "barcode82",
          "barcode83",
          "barcode84",
          "barcode85",
          "barcode86",
          "barcode87",
          "barcode88",
          "barcode89",
          "barcode90",
          "barcode91",
          "barcode92",
          "barcode93",
          "barcode94",
          "barcode95",
          "barcode96",
          "unclassified"
         ],
         "y": [
          4371,
          8498,
          11408,
          30030,
          9502,
          16709,
          9632,
          22879,
          11677,
          7795,
          7119,
          7020,
          14397,
          10927,
          10470,
          7923,
          7868,
          9029,
          9702,
          17277,
          12487,
          57746,
          17110,
          19284,
          2105,
          30933,
          1376,
          3826,
          1546,
          9881,
          128,
          65,
          39,
          83,
          25,
          26,
          70,
          56,
          47,
          21,
          23,
          71,
          21,
          14,
          75,
          162,
          19,
          49,
          55,
          38,
          18,
          54,
          60,
          50,
          33,
          54,
          18,
          37,
          41,
          42,
          26,
          34,
          17,
          36,
          30,
          34,
          39,
          34,
          216,
          23,
          49,
          49,
          36,
          85,
          46,
          59,
          30,
          76,
          32,
          79,
          27,
          33,
          59,
          47,
          24,
          23,
          13,
          20,
          55,
          5,
          65,
          13,
          14,
          35,
          25,
          59,
          435865
         ]
        }
       ],
       "layout": {
        "template": {
         "data": {
          "bar": [
           {
            "error_x": {
             "color": "#2a3f5f"
            },
            "error_y": {
             "color": "#2a3f5f"
            },
            "marker": {
             "line": {
              "color": "#E5ECF6",
              "width": 0.5
             },
             "pattern": {
              "fillmode": "overlay",
              "size": 10,
              "solidity": 0.2
             }
            },
            "type": "bar"
           }
          ],
          "barpolar": [
           {
            "marker": {
             "line": {
              "color": "#E5ECF6",
              "width": 0.5
             },
             "pattern": {
              "fillmode": "overlay",
              "size": 10,
              "solidity": 0.2
             }
            },
            "type": "barpolar"
           }
          ],
          "carpet": [
           {
            "aaxis": {
             "endlinecolor": "#2a3f5f",
             "gridcolor": "white",
             "linecolor": "white",
             "minorgridcolor": "white",
             "startlinecolor": "#2a3f5f"
            },
            "baxis": {
             "endlinecolor": "#2a3f5f",
             "gridcolor": "white",
             "linecolor": "white",
             "minorgridcolor": "white",
             "startlinecolor": "#2a3f5f"
            },
            "type": "carpet"
           }
          ],
          "choropleth": [
           {
            "colorbar": {
             "outlinewidth": 0,
             "ticks": ""
            },
            "type": "choropleth"
           }
          ],
          "contour": [
           {
            "colorbar": {
             "outlinewidth": 0,
             "ticks": ""
            },
            "colorscale": [
             [
              0,
              "#0d0887"
             ],
             [
              0.1111111111111111,
              "#46039f"
             ],
             [
              0.2222222222222222,
              "#7201a8"
             ],
             [
              0.3333333333333333,
              "#9c179e"
             ],
             [
              0.4444444444444444,
              "#bd3786"
             ],
             [
              0.5555555555555556,
              "#d8576b"
             ],
             [
              0.6666666666666666,
              "#ed7953"
             ],
             [
              0.7777777777777778,
              "#fb9f3a"
             ],
             [
              0.8888888888888888,
              "#fdca26"
             ],
             [
              1,
              "#f0f921"
             ]
            ],
            "type": "contour"
           }
          ],
          "contourcarpet": [
           {
            "colorbar": {
             "outlinewidth": 0,
             "ticks": ""
            },
            "type": "contourcarpet"
           }
          ],
          "heatmap": [
           {
            "colorbar": {
             "outlinewidth": 0,
             "ticks": ""
            },
            "colorscale": [
             [
              0,
              "#0d0887"
             ],
             [
              0.1111111111111111,
              "#46039f"
             ],
             [
              0.2222222222222222,
              "#7201a8"
             ],
             [
              0.3333333333333333,
              "#9c179e"
             ],
             [
              0.4444444444444444,
              "#bd3786"
             ],
             [
              0.5555555555555556,
              "#d8576b"
             ],
             [
              0.6666666666666666,
              "#ed7953"
             ],
             [
              0.7777777777777778,
              "#fb9f3a"
             ],
             [
              0.8888888888888888,
              "#fdca26"
             ],
             [
              1,
              "#f0f921"
             ]
            ],
            "type": "heatmap"
           }
          ],
          "heatmapgl": [
           {
            "colorbar": {
             "outlinewidth": 0,
             "ticks": ""
            },
            "colorscale": [
             [
              0,
              "#0d0887"
             ],
             [
              0.1111111111111111,
              "#46039f"
             ],
             [
              0.2222222222222222,
              "#7201a8"
             ],
             [
              0.3333333333333333,
              "#9c179e"
             ],
             [
              0.4444444444444444,
              "#bd3786"
             ],
             [
              0.5555555555555556,
              "#d8576b"
             ],
             [
              0.6666666666666666,
              "#ed7953"
             ],
             [
              0.7777777777777778,
              "#fb9f3a"
             ],
             [
              0.8888888888888888,
              "#fdca26"
             ],
             [
              1,
              "#f0f921"
             ]
            ],
            "type": "heatmapgl"
           }
          ],
          "histogram": [
           {
            "marker": {
             "pattern": {
              "fillmode": "overlay",
              "size": 10,
              "solidity": 0.2
             }
            },
            "type": "histogram"
           }
          ],
          "histogram2d": [
           {
            "colorbar": {
             "outlinewidth": 0,
             "ticks": ""
            },
            "colorscale": [
             [
              0,
              "#0d0887"
             ],
             [
              0.1111111111111111,
              "#46039f"
             ],
             [
              0.2222222222222222,
              "#7201a8"
             ],
             [
              0.3333333333333333,
              "#9c179e"
             ],
             [
              0.4444444444444444,
              "#bd3786"
             ],
             [
              0.5555555555555556,
              "#d8576b"
             ],
             [
              0.6666666666666666,
              "#ed7953"
             ],
             [
              0.7777777777777778,
              "#fb9f3a"
             ],
             [
              0.8888888888888888,
              "#fdca26"
             ],
             [
              1,
              "#f0f921"
             ]
            ],
            "type": "histogram2d"
           }
          ],
          "histogram2dcontour": [
           {
            "colorbar": {
             "outlinewidth": 0,
             "ticks": ""
            },
            "colorscale": [
             [
              0,
              "#0d0887"
             ],
             [
              0.1111111111111111,
              "#46039f"
             ],
             [
              0.2222222222222222,
              "#7201a8"
             ],
             [
              0.3333333333333333,
              "#9c179e"
             ],
             [
              0.4444444444444444,
              "#bd3786"
             ],
             [
              0.5555555555555556,
              "#d8576b"
             ],
             [
              0.6666666666666666,
              "#ed7953"
             ],
             [
              0.7777777777777778,
              "#fb9f3a"
             ],
             [
              0.8888888888888888,
              "#fdca26"
             ],
             [
              1,
              "#f0f921"
             ]
            ],
            "type": "histogram2dcontour"
           }
          ],
          "mesh3d": [
           {
            "colorbar": {
             "outlinewidth": 0,
             "ticks": ""
            },
            "type": "mesh3d"
           }
          ],
          "parcoords": [
           {
            "line": {
             "colorbar": {
              "outlinewidth": 0,
              "ticks": ""
             }
            },
            "type": "parcoords"
           }
          ],
          "pie": [
           {
            "automargin": true,
            "type": "pie"
           }
          ],
          "scatter": [
           {
            "fillpattern": {
             "fillmode": "overlay",
             "size": 10,
             "solidity": 0.2
            },
            "type": "scatter"
           }
          ],
          "scatter3d": [
           {
            "line": {
             "colorbar": {
              "outlinewidth": 0,
              "ticks": ""
             }
            },
            "marker": {
             "colorbar": {
              "outlinewidth": 0,
              "ticks": ""
             }
            },
            "type": "scatter3d"
           }
          ],
          "scattercarpet": [
           {
            "marker": {
             "colorbar": {
              "outlinewidth": 0,
              "ticks": ""
             }
            },
            "type": "scattercarpet"
           }
          ],
          "scattergeo": [
           {
            "marker": {
             "colorbar": {
              "outlinewidth": 0,
              "ticks": ""
             }
            },
            "type": "scattergeo"
           }
          ],
          "scattergl": [
           {
            "marker": {
             "colorbar": {
              "outlinewidth": 0,
              "ticks": ""
             }
            },
            "type": "scattergl"
           }
          ],
          "scattermapbox": [
           {
            "marker": {
             "colorbar": {
              "outlinewidth": 0,
              "ticks": ""
             }
            },
            "type": "scattermapbox"
           }
          ],
          "scatterpolar": [
           {
            "marker": {
             "colorbar": {
              "outlinewidth": 0,
              "ticks": ""
             }
            },
            "type": "scatterpolar"
           }
          ],
          "scatterpolargl": [
           {
            "marker": {
             "colorbar": {
              "outlinewidth": 0,
              "ticks": ""
             }
            },
            "type": "scatterpolargl"
           }
          ],
          "scatterternary": [
           {
            "marker": {
             "colorbar": {
              "outlinewidth": 0,
              "ticks": ""
             }
            },
            "type": "scatterternary"
           }
          ],
          "surface": [
           {
            "colorbar": {
             "outlinewidth": 0,
             "ticks": ""
            },
            "colorscale": [
             [
              0,
              "#0d0887"
             ],
             [
              0.1111111111111111,
              "#46039f"
             ],
             [
              0.2222222222222222,
              "#7201a8"
             ],
             [
              0.3333333333333333,
              "#9c179e"
             ],
             [
              0.4444444444444444,
              "#bd3786"
             ],
             [
              0.5555555555555556,
              "#d8576b"
             ],
             [
              0.6666666666666666,
              "#ed7953"
             ],
             [
              0.7777777777777778,
              "#fb9f3a"
             ],
             [
              0.8888888888888888,
              "#fdca26"
             ],
             [
              1,
              "#f0f921"
             ]
            ],
            "type": "surface"
           }
          ],
          "table": [
           {
            "cells": {
             "fill": {
              "color": "#EBF0F8"
             },
             "line": {
              "color": "white"
             }
            },
            "header": {
             "fill": {
              "color": "#C8D4E3"
             },
             "line": {
              "color": "white"
             }
            },
            "type": "table"
           }
          ]
         },
         "layout": {
          "annotationdefaults": {
           "arrowcolor": "#2a3f5f",
           "arrowhead": 0,
           "arrowwidth": 1
          },
          "autotypenumbers": "strict",
          "coloraxis": {
           "colorbar": {
            "outlinewidth": 0,
            "ticks": ""
           }
          },
          "colorscale": {
           "diverging": [
            [
             0,
             "#8e0152"
            ],
            [
             0.1,
             "#c51b7d"
            ],
            [
             0.2,
             "#de77ae"
            ],
            [
             0.3,
             "#f1b6da"
            ],
            [
             0.4,
             "#fde0ef"
            ],
            [
             0.5,
             "#f7f7f7"
            ],
            [
             0.6,
             "#e6f5d0"
            ],
            [
             0.7,
             "#b8e186"
            ],
            [
             0.8,
             "#7fbc41"
            ],
            [
             0.9,
             "#4d9221"
            ],
            [
             1,
             "#276419"
            ]
           ],
           "sequential": [
            [
             0,
             "#0d0887"
            ],
            [
             0.1111111111111111,
             "#46039f"
            ],
            [
             0.2222222222222222,
             "#7201a8"
            ],
            [
             0.3333333333333333,
             "#9c179e"
            ],
            [
             0.4444444444444444,
             "#bd3786"
            ],
            [
             0.5555555555555556,
             "#d8576b"
            ],
            [
             0.6666666666666666,
             "#ed7953"
            ],
            [
             0.7777777777777778,
             "#fb9f3a"
            ],
            [
             0.8888888888888888,
             "#fdca26"
            ],
            [
             1,
             "#f0f921"
            ]
           ],
           "sequentialminus": [
            [
             0,
             "#0d0887"
            ],
            [
             0.1111111111111111,
             "#46039f"
            ],
            [
             0.2222222222222222,
             "#7201a8"
            ],
            [
             0.3333333333333333,
             "#9c179e"
            ],
            [
             0.4444444444444444,
             "#bd3786"
            ],
            [
             0.5555555555555556,
             "#d8576b"
            ],
            [
             0.6666666666666666,
             "#ed7953"
            ],
            [
             0.7777777777777778,
             "#fb9f3a"
            ],
            [
             0.8888888888888888,
             "#fdca26"
            ],
            [
             1,
             "#f0f921"
            ]
           ]
          },
          "colorway": [
           "#636efa",
           "#EF553B",
           "#00cc96",
           "#ab63fa",
           "#FFA15A",
           "#19d3f3",
           "#FF6692",
           "#B6E880",
           "#FF97FF",
           "#FECB52"
          ],
          "font": {
           "color": "#2a3f5f"
          },
          "geo": {
           "bgcolor": "white",
           "lakecolor": "white",
           "landcolor": "#E5ECF6",
           "showlakes": true,
           "showland": true,
           "subunitcolor": "white"
          },
          "hoverlabel": {
           "align": "left"
          },
          "hovermode": "closest",
          "mapbox": {
           "style": "light"
          },
          "paper_bgcolor": "white",
          "plot_bgcolor": "#E5ECF6",
          "polar": {
           "angularaxis": {
            "gridcolor": "white",
            "linecolor": "white",
            "ticks": ""
           },
           "bgcolor": "#E5ECF6",
           "radialaxis": {
            "gridcolor": "white",
            "linecolor": "white",
            "ticks": ""
           }
          },
          "scene": {
           "xaxis": {
            "backgroundcolor": "#E5ECF6",
            "gridcolor": "white",
            "gridwidth": 2,
            "linecolor": "white",
            "showbackground": true,
            "ticks": "",
            "zerolinecolor": "white"
           },
           "yaxis": {
            "backgroundcolor": "#E5ECF6",
            "gridcolor": "white",
            "gridwidth": 2,
            "linecolor": "white",
            "showbackground": true,
            "ticks": "",
            "zerolinecolor": "white"
           },
           "zaxis": {
            "backgroundcolor": "#E5ECF6",
            "gridcolor": "white",
            "gridwidth": 2,
            "linecolor": "white",
            "showbackground": true,
            "ticks": "",
            "zerolinecolor": "white"
           }
          },
          "shapedefaults": {
           "line": {
            "color": "#2a3f5f"
           }
          },
          "ternary": {
           "aaxis": {
            "gridcolor": "white",
            "linecolor": "white",
            "ticks": ""
           },
           "baxis": {
            "gridcolor": "white",
            "linecolor": "white",
            "ticks": ""
           },
           "bgcolor": "#E5ECF6",
           "caxis": {
            "gridcolor": "white",
            "linecolor": "white",
            "ticks": ""
           }
          },
          "title": {
           "x": 0.05
          },
          "xaxis": {
           "automargin": true,
           "gridcolor": "white",
           "linecolor": "white",
           "ticks": "",
           "title": {
            "standoff": 15
           },
           "zerolinecolor": "white",
           "zerolinewidth": 2
          },
          "yaxis": {
           "automargin": true,
           "gridcolor": "white",
           "linecolor": "white",
           "ticks": "",
           "title": {
            "standoff": 15
           },
           "zerolinecolor": "white",
           "zerolinewidth": 2
          }
         }
        },
        "title": {
         "text": "001_20220412_FAME3 - Reads (n)"
        },
        "yaxis": {
         "title": {
          "text": "Reads (n)"
         }
        }
       }
      },
      "text/html": [
       "<div>                            <div id=\"0f99745c-e547-48a0-a1d6-95d89751159c\" class=\"plotly-graph-div\" style=\"height:525px; width:100%;\"></div>            <script type=\"text/javascript\">                require([\"plotly\"], function(Plotly) {                    window.PLOTLYENV=window.PLOTLYENV || {};                                    if (document.getElementById(\"0f99745c-e547-48a0-a1d6-95d89751159c\")) {                    Plotly.newPlot(                        \"0f99745c-e547-48a0-a1d6-95d89751159c\",                        [{\"marker\":{\"color\":\"blue\"},\"name\":\"pass\",\"x\":[\"PAY002\",\"PAY004\",\"PAY005\",\"PAY004_F1-R1\",\"PAY011\",\"PAY013\",\"PAY015\",\"PAY016\",\"PAY017\",\"PAY023\",\"PAY031\",\"PAY039\",\"PAY100\",\"Pad213_17\",\"LEC013\",\"LEC015\",\"LEC019\",\"LEC022\",\"LEC035\",\"LEC040\",\"LEC043\",\"LEC043_F1-R1\",\"LEC046\",\"LEC048\",\"VA33_211\",\"VA33_211_F1-R1\",\"VA33_213\",\"VA33_228\",\"VA33_235\",\"M00_234\",\"barcode31\",\"barcode32\",\"barcode33\",\"barcode34\",\"barcode35\",\"barcode36\",\"barcode37\",\"barcode38\",\"barcode39\",\"barcode40\",\"barcode41\",\"barcode42\",\"barcode43\",\"barcode44\",\"barcode45\",\"barcode46\",\"barcode47\",\"barcode48\",\"barcode49\",\"barcode50\",\"barcode51\",\"barcode52\",\"barcode53\",\"barcode54\",\"barcode55\",\"barcode56\",\"barcode57\",\"barcode58\",\"barcode59\",\"barcode60\",\"barcode61\",\"barcode62\",\"barcode63\",\"barcode64\",\"barcode65\",\"barcode66\",\"barcode67\",\"barcode68\",\"barcode69\",\"barcode70\",\"barcode71\",\"barcode72\",\"barcode73\",\"barcode74\",\"barcode75\",\"barcode76\",\"barcode77\",\"barcode78\",\"barcode79\",\"barcode80\",\"barcode81\",\"barcode82\",\"barcode83\",\"barcode84\",\"barcode85\",\"barcode86\",\"barcode87\",\"barcode88\",\"barcode89\",\"barcode90\",\"barcode91\",\"barcode92\",\"barcode93\",\"barcode94\",\"barcode95\",\"barcode96\",\"unclassified\",\"PAY002\",\"PAY004\",\"PAY005\",\"PAY004_F1-R1\",\"PAY011\",\"PAY013\",\"PAY015\",\"PAY016\",\"PAY017\",\"PAY023\",\"PAY031\",\"PAY039\",\"PAY100\",\"Pad213_17\",\"LEC013\",\"LEC015\",\"LEC019\",\"LEC022\",\"LEC035\",\"LEC040\",\"LEC043\",\"LEC043_F1-R1\",\"LEC046\",\"LEC048\",\"VA33_211\",\"VA33_211_F1-R1\",\"VA33_213\",\"VA33_228\",\"VA33_235\",\"M00_234\",\"barcode31\",\"barcode32\",\"barcode33\",\"barcode34\",\"barcode35\",\"barcode36\",\"barcode37\",\"barcode38\",\"barcode39\",\"barcode40\",\"barcode41\",\"barcode42\",\"barcode43\",\"barcode44\",\"barcode45\",\"barcode46\",\"barcode47\",\"barcode48\",\"barcode49\",\"barcode50\",\"barcode51\",\"barcode52\",\"barcode53\",\"barcode54\",\"barcode55\",\"barcode56\",\"barcode57\",\"barcode58\",\"barcode59\",\"barcode60\",\"barcode61\",\"barcode62\",\"barcode63\",\"barcode64\",\"barcode65\",\"barcode66\",\"barcode67\",\"barcode68\",\"barcode69\",\"barcode70\",\"barcode71\",\"barcode72\",\"barcode73\",\"barcode74\",\"barcode75\",\"barcode76\",\"barcode77\",\"barcode78\",\"barcode79\",\"barcode80\",\"barcode81\",\"barcode82\",\"barcode83\",\"barcode84\",\"barcode85\",\"barcode86\",\"barcode87\",\"barcode88\",\"barcode89\",\"barcode90\",\"barcode91\",\"barcode92\",\"barcode93\",\"barcode94\",\"barcode95\",\"barcode96\",\"unclassified\"],\"y\":[60285,66805,62628,324798,124851,178714,91241,126913,160380,81996,92844,99331,110811,89591,105368,76088,62801,40169,70380,122301,40359,623197,83985,102303,42138,367028,24582,71787,31446,168175,8,13,14,4,3,2,3,12,3,2,3,7,1,3,8,33,4,9,4,4,2,5,6,9,4,6,3,9,2,7,4,5,1,8,2,7,5,2,79,1,7,7,4,16,3,19,4,16,4,3,3,3,74,7,1,4,3,1,14,1,4,1,2,3,3,4,61879],\"type\":\"bar\"},{\"marker\":{\"color\":\"red\"},\"name\":\"fail\",\"x\":[\"PAY002\",\"PAY004\",\"PAY005\",\"PAY004_F1-R1\",\"PAY011\",\"PAY013\",\"PAY015\",\"PAY016\",\"PAY017\",\"PAY023\",\"PAY031\",\"PAY039\",\"PAY100\",\"Pad213_17\",\"LEC013\",\"LEC015\",\"LEC019\",\"LEC022\",\"LEC035\",\"LEC040\",\"LEC043\",\"LEC043_F1-R1\",\"LEC046\",\"LEC048\",\"VA33_211\",\"VA33_211_F1-R1\",\"VA33_213\",\"VA33_228\",\"VA33_235\",\"M00_234\",\"barcode31\",\"barcode32\",\"barcode33\",\"barcode34\",\"barcode35\",\"barcode36\",\"barcode37\",\"barcode38\",\"barcode39\",\"barcode40\",\"barcode41\",\"barcode42\",\"barcode43\",\"barcode44\",\"barcode45\",\"barcode46\",\"barcode47\",\"barcode48\",\"barcode49\",\"barcode50\",\"barcode51\",\"barcode52\",\"barcode53\",\"barcode54\",\"barcode55\",\"barcode56\",\"barcode57\",\"barcode58\",\"barcode59\",\"barcode60\",\"barcode61\",\"barcode62\",\"barcode63\",\"barcode64\",\"barcode65\",\"barcode66\",\"barcode67\",\"barcode68\",\"barcode69\",\"barcode70\",\"barcode71\",\"barcode72\",\"barcode73\",\"barcode74\",\"barcode75\",\"barcode76\",\"barcode77\",\"barcode78\",\"barcode79\",\"barcode80\",\"barcode81\",\"barcode82\",\"barcode83\",\"barcode84\",\"barcode85\",\"barcode86\",\"barcode87\",\"barcode88\",\"barcode89\",\"barcode90\",\"barcode91\",\"barcode92\",\"barcode93\",\"barcode94\",\"barcode95\",\"barcode96\",\"unclassified\",\"PAY002\",\"PAY004\",\"PAY005\",\"PAY004_F1-R1\",\"PAY011\",\"PAY013\",\"PAY015\",\"PAY016\",\"PAY017\",\"PAY023\",\"PAY031\",\"PAY039\",\"PAY100\",\"Pad213_17\",\"LEC013\",\"LEC015\",\"LEC019\",\"LEC022\",\"LEC035\",\"LEC040\",\"LEC043\",\"LEC043_F1-R1\",\"LEC046\",\"LEC048\",\"VA33_211\",\"VA33_211_F1-R1\",\"VA33_213\",\"VA33_228\",\"VA33_235\",\"M00_234\",\"barcode31\",\"barcode32\",\"barcode33\",\"barcode34\",\"barcode35\",\"barcode36\",\"barcode37\",\"barcode38\",\"barcode39\",\"barcode40\",\"barcode41\",\"barcode42\",\"barcode43\",\"barcode44\",\"barcode45\",\"barcode46\",\"barcode47\",\"barcode48\",\"barcode49\",\"barcode50\",\"barcode51\",\"barcode52\",\"barcode53\",\"barcode54\",\"barcode55\",\"barcode56\",\"barcode57\",\"barcode58\",\"barcode59\",\"barcode60\",\"barcode61\",\"barcode62\",\"barcode63\",\"barcode64\",\"barcode65\",\"barcode66\",\"barcode67\",\"barcode68\",\"barcode69\",\"barcode70\",\"barcode71\",\"barcode72\",\"barcode73\",\"barcode74\",\"barcode75\",\"barcode76\",\"barcode77\",\"barcode78\",\"barcode79\",\"barcode80\",\"barcode81\",\"barcode82\",\"barcode83\",\"barcode84\",\"barcode85\",\"barcode86\",\"barcode87\",\"barcode88\",\"barcode89\",\"barcode90\",\"barcode91\",\"barcode92\",\"barcode93\",\"barcode94\",\"barcode95\",\"barcode96\",\"unclassified\"],\"y\":[4371,8498,11408,30030,9502,16709,9632,22879,11677,7795,7119,7020,14397,10927,10470,7923,7868,9029,9702,17277,12487,57746,17110,19284,2105,30933,1376,3826,1546,9881,128,65,39,83,25,26,70,56,47,21,23,71,21,14,75,162,19,49,55,38,18,54,60,50,33,54,18,37,41,42,26,34,17,36,30,34,39,34,216,23,49,49,36,85,46,59,30,76,32,79,27,33,59,47,24,23,13,20,55,5,65,13,14,35,25,59,435865],\"type\":\"bar\"}],                        {\"title\":{\"text\":\"001_20220412_FAME3 - Reads (n)\"},\"yaxis\":{\"title\":{\"text\":\"Reads (n)\"}},\"template\":{\"data\":{\"histogram2dcontour\":[{\"type\":\"histogram2dcontour\",\"colorbar\":{\"outlinewidth\":0,\"ticks\":\"\"},\"colorscale\":[[0.0,\"#0d0887\"],[0.1111111111111111,\"#46039f\"],[0.2222222222222222,\"#7201a8\"],[0.3333333333333333,\"#9c179e\"],[0.4444444444444444,\"#bd3786\"],[0.5555555555555556,\"#d8576b\"],[0.6666666666666666,\"#ed7953\"],[0.7777777777777778,\"#fb9f3a\"],[0.8888888888888888,\"#fdca26\"],[1.0,\"#f0f921\"]]}],\"choropleth\":[{\"type\":\"choropleth\",\"colorbar\":{\"outlinewidth\":0,\"ticks\":\"\"}}],\"histogram2d\":[{\"type\":\"histogram2d\",\"colorbar\":{\"outlinewidth\":0,\"ticks\":\"\"},\"colorscale\":[[0.0,\"#0d0887\"],[0.1111111111111111,\"#46039f\"],[0.2222222222222222,\"#7201a8\"],[0.3333333333333333,\"#9c179e\"],[0.4444444444444444,\"#bd3786\"],[0.5555555555555556,\"#d8576b\"],[0.6666666666666666,\"#ed7953\"],[0.7777777777777778,\"#fb9f3a\"],[0.8888888888888888,\"#fdca26\"],[1.0,\"#f0f921\"]]}],\"heatmap\":[{\"type\":\"heatmap\",\"colorbar\":{\"outlinewidth\":0,\"ticks\":\"\"},\"colorscale\":[[0.0,\"#0d0887\"],[0.1111111111111111,\"#46039f\"],[0.2222222222222222,\"#7201a8\"],[0.3333333333333333,\"#9c179e\"],[0.4444444444444444,\"#bd3786\"],[0.5555555555555556,\"#d8576b\"],[0.6666666666666666,\"#ed7953\"],[0.7777777777777778,\"#fb9f3a\"],[0.8888888888888888,\"#fdca26\"],[1.0,\"#f0f921\"]]}],\"heatmapgl\":[{\"type\":\"heatmapgl\",\"colorbar\":{\"outlinewidth\":0,\"ticks\":\"\"},\"colorscale\":[[0.0,\"#0d0887\"],[0.1111111111111111,\"#46039f\"],[0.2222222222222222,\"#7201a8\"],[0.3333333333333333,\"#9c179e\"],[0.4444444444444444,\"#bd3786\"],[0.5555555555555556,\"#d8576b\"],[0.6666666666666666,\"#ed7953\"],[0.7777777777777778,\"#fb9f3a\"],[0.8888888888888888,\"#fdca26\"],[1.0,\"#f0f921\"]]}],\"contourcarpet\":[{\"type\":\"contourcarpet\",\"colorbar\":{\"outlinewidth\":0,\"ticks\":\"\"}}],\"contour\":[{\"type\":\"contour\",\"colorbar\":{\"outlinewidth\":0,\"ticks\":\"\"},\"colorscale\":[[0.0,\"#0d0887\"],[0.1111111111111111,\"#46039f\"],[0.2222222222222222,\"#7201a8\"],[0.3333333333333333,\"#9c179e\"],[0.4444444444444444,\"#bd3786\"],[0.5555555555555556,\"#d8576b\"],[0.6666666666666666,\"#ed7953\"],[0.7777777777777778,\"#fb9f3a\"],[0.8888888888888888,\"#fdca26\"],[1.0,\"#f0f921\"]]}],\"surface\":[{\"type\":\"surface\",\"colorbar\":{\"outlinewidth\":0,\"ticks\":\"\"},\"colorscale\":[[0.0,\"#0d0887\"],[0.1111111111111111,\"#46039f\"],[0.2222222222222222,\"#7201a8\"],[0.3333333333333333,\"#9c179e\"],[0.4444444444444444,\"#bd3786\"],[0.5555555555555556,\"#d8576b\"],[0.6666666666666666,\"#ed7953\"],[0.7777777777777778,\"#fb9f3a\"],[0.8888888888888888,\"#fdca26\"],[1.0,\"#f0f921\"]]}],\"mesh3d\":[{\"type\":\"mesh3d\",\"colorbar\":{\"outlinewidth\":0,\"ticks\":\"\"}}],\"scatter\":[{\"fillpattern\":{\"fillmode\":\"overlay\",\"size\":10,\"solidity\":0.2},\"type\":\"scatter\"}],\"parcoords\":[{\"type\":\"parcoords\",\"line\":{\"colorbar\":{\"outlinewidth\":0,\"ticks\":\"\"}}}],\"scatterpolargl\":[{\"type\":\"scatterpolargl\",\"marker\":{\"colorbar\":{\"outlinewidth\":0,\"ticks\":\"\"}}}],\"bar\":[{\"error_x\":{\"color\":\"#2a3f5f\"},\"error_y\":{\"color\":\"#2a3f5f\"},\"marker\":{\"line\":{\"color\":\"#E5ECF6\",\"width\":0.5},\"pattern\":{\"fillmode\":\"overlay\",\"size\":10,\"solidity\":0.2}},\"type\":\"bar\"}],\"scattergeo\":[{\"type\":\"scattergeo\",\"marker\":{\"colorbar\":{\"outlinewidth\":0,\"ticks\":\"\"}}}],\"scatterpolar\":[{\"type\":\"scatterpolar\",\"marker\":{\"colorbar\":{\"outlinewidth\":0,\"ticks\":\"\"}}}],\"histogram\":[{\"marker\":{\"pattern\":{\"fillmode\":\"overlay\",\"size\":10,\"solidity\":0.2}},\"type\":\"histogram\"}],\"scattergl\":[{\"type\":\"scattergl\",\"marker\":{\"colorbar\":{\"outlinewidth\":0,\"ticks\":\"\"}}}],\"scatter3d\":[{\"type\":\"scatter3d\",\"line\":{\"colorbar\":{\"outlinewidth\":0,\"ticks\":\"\"}},\"marker\":{\"colorbar\":{\"outlinewidth\":0,\"ticks\":\"\"}}}],\"scattermapbox\":[{\"type\":\"scattermapbox\",\"marker\":{\"colorbar\":{\"outlinewidth\":0,\"ticks\":\"\"}}}],\"scatterternary\":[{\"type\":\"scatterternary\",\"marker\":{\"colorbar\":{\"outlinewidth\":0,\"ticks\":\"\"}}}],\"scattercarpet\":[{\"type\":\"scattercarpet\",\"marker\":{\"colorbar\":{\"outlinewidth\":0,\"ticks\":\"\"}}}],\"carpet\":[{\"aaxis\":{\"endlinecolor\":\"#2a3f5f\",\"gridcolor\":\"white\",\"linecolor\":\"white\",\"minorgridcolor\":\"white\",\"startlinecolor\":\"#2a3f5f\"},\"baxis\":{\"endlinecolor\":\"#2a3f5f\",\"gridcolor\":\"white\",\"linecolor\":\"white\",\"minorgridcolor\":\"white\",\"startlinecolor\":\"#2a3f5f\"},\"type\":\"carpet\"}],\"table\":[{\"cells\":{\"fill\":{\"color\":\"#EBF0F8\"},\"line\":{\"color\":\"white\"}},\"header\":{\"fill\":{\"color\":\"#C8D4E3\"},\"line\":{\"color\":\"white\"}},\"type\":\"table\"}],\"barpolar\":[{\"marker\":{\"line\":{\"color\":\"#E5ECF6\",\"width\":0.5},\"pattern\":{\"fillmode\":\"overlay\",\"size\":10,\"solidity\":0.2}},\"type\":\"barpolar\"}],\"pie\":[{\"automargin\":true,\"type\":\"pie\"}]},\"layout\":{\"autotypenumbers\":\"strict\",\"colorway\":[\"#636efa\",\"#EF553B\",\"#00cc96\",\"#ab63fa\",\"#FFA15A\",\"#19d3f3\",\"#FF6692\",\"#B6E880\",\"#FF97FF\",\"#FECB52\"],\"font\":{\"color\":\"#2a3f5f\"},\"hovermode\":\"closest\",\"hoverlabel\":{\"align\":\"left\"},\"paper_bgcolor\":\"white\",\"plot_bgcolor\":\"#E5ECF6\",\"polar\":{\"bgcolor\":\"#E5ECF6\",\"angularaxis\":{\"gridcolor\":\"white\",\"linecolor\":\"white\",\"ticks\":\"\"},\"radialaxis\":{\"gridcolor\":\"white\",\"linecolor\":\"white\",\"ticks\":\"\"}},\"ternary\":{\"bgcolor\":\"#E5ECF6\",\"aaxis\":{\"gridcolor\":\"white\",\"linecolor\":\"white\",\"ticks\":\"\"},\"baxis\":{\"gridcolor\":\"white\",\"linecolor\":\"white\",\"ticks\":\"\"},\"caxis\":{\"gridcolor\":\"white\",\"linecolor\":\"white\",\"ticks\":\"\"}},\"coloraxis\":{\"colorbar\":{\"outlinewidth\":0,\"ticks\":\"\"}},\"colorscale\":{\"sequential\":[[0.0,\"#0d0887\"],[0.1111111111111111,\"#46039f\"],[0.2222222222222222,\"#7201a8\"],[0.3333333333333333,\"#9c179e\"],[0.4444444444444444,\"#bd3786\"],[0.5555555555555556,\"#d8576b\"],[0.6666666666666666,\"#ed7953\"],[0.7777777777777778,\"#fb9f3a\"],[0.8888888888888888,\"#fdca26\"],[1.0,\"#f0f921\"]],\"sequentialminus\":[[0.0,\"#0d0887\"],[0.1111111111111111,\"#46039f\"],[0.2222222222222222,\"#7201a8\"],[0.3333333333333333,\"#9c179e\"],[0.4444444444444444,\"#bd3786\"],[0.5555555555555556,\"#d8576b\"],[0.6666666666666666,\"#ed7953\"],[0.7777777777777778,\"#fb9f3a\"],[0.8888888888888888,\"#fdca26\"],[1.0,\"#f0f921\"]],\"diverging\":[[0,\"#8e0152\"],[0.1,\"#c51b7d\"],[0.2,\"#de77ae\"],[0.3,\"#f1b6da\"],[0.4,\"#fde0ef\"],[0.5,\"#f7f7f7\"],[0.6,\"#e6f5d0\"],[0.7,\"#b8e186\"],[0.8,\"#7fbc41\"],[0.9,\"#4d9221\"],[1,\"#276419\"]]},\"xaxis\":{\"gridcolor\":\"white\",\"linecolor\":\"white\",\"ticks\":\"\",\"title\":{\"standoff\":15},\"zerolinecolor\":\"white\",\"automargin\":true,\"zerolinewidth\":2},\"yaxis\":{\"gridcolor\":\"white\",\"linecolor\":\"white\",\"ticks\":\"\",\"title\":{\"standoff\":15},\"zerolinecolor\":\"white\",\"automargin\":true,\"zerolinewidth\":2},\"scene\":{\"xaxis\":{\"backgroundcolor\":\"#E5ECF6\",\"gridcolor\":\"white\",\"linecolor\":\"white\",\"showbackground\":true,\"ticks\":\"\",\"zerolinecolor\":\"white\",\"gridwidth\":2},\"yaxis\":{\"backgroundcolor\":\"#E5ECF6\",\"gridcolor\":\"white\",\"linecolor\":\"white\",\"showbackground\":true,\"ticks\":\"\",\"zerolinecolor\":\"white\",\"gridwidth\":2},\"zaxis\":{\"backgroundcolor\":\"#E5ECF6\",\"gridcolor\":\"white\",\"linecolor\":\"white\",\"showbackground\":true,\"ticks\":\"\",\"zerolinecolor\":\"white\",\"gridwidth\":2}},\"shapedefaults\":{\"line\":{\"color\":\"#2a3f5f\"}},\"annotationdefaults\":{\"arrowcolor\":\"#2a3f5f\",\"arrowhead\":0,\"arrowwidth\":1},\"geo\":{\"bgcolor\":\"white\",\"landcolor\":\"#E5ECF6\",\"subunitcolor\":\"white\",\"showland\":true,\"showlakes\":true,\"lakecolor\":\"white\"},\"title\":{\"x\":0.05},\"mapbox\":{\"style\":\"light\"}}}},                        {\"displaylogo\": false, \"responsive\": true}                    ).then(function(){\n",
       "                            \n",
       "var gd = document.getElementById('0f99745c-e547-48a0-a1d6-95d89751159c');\n",
       "var x = new MutationObserver(function (mutations, observer) {{\n",
       "        var display = window.getComputedStyle(gd).display;\n",
       "        if (!display || display === 'none') {{\n",
       "            console.log([gd, 'removed!']);\n",
       "            Plotly.purge(gd);\n",
       "            observer.disconnect();\n",
       "        }}\n",
       "}});\n",
       "\n",
       "// Listen for the removal of the full notebook cells\n",
       "var notebookContainer = gd.closest('#notebook-container');\n",
       "if (notebookContainer) {{\n",
       "    x.observe(notebookContainer, {childList: true});\n",
       "}}\n",
       "\n",
       "// Listen for the clearing of the current output cell\n",
       "var outputEl = gd.closest('.output');\n",
       "if (outputEl) {{\n",
       "    x.observe(outputEl, {childList: true});\n",
       "}}\n",
       "\n",
       "                        })                };                });            </script>        </div>"
      ]
     },
     "metadata": {},
     "output_type": "display_data"
    }
   ],
   "source": [
    "trace1 = go.Bar(\n",
    "    x=df[\"sample\"],\n",
    "    y=df[df[\"qc\"]==\"pass\"][\"reads\"],\n",
    "    name=\"pass\",\n",
    "    marker={\"color\": \"blue\"})\n",
    "\n",
    "trace2 = go.Bar(\n",
    "    x=df[\"sample\"],\n",
    "    y=df[df[\"qc\"]==\"fail\"][\"reads\"],\n",
    "    name=\"fail\",\n",
    "    marker={\"color\": \"red\"})\n",
    "\n",
    "data = [trace1, trace2]\n",
    "layout = go.Layout(title=f\"{run_name} - Reads (n)\", yaxis_title=\"Reads (n)\")\n",
    "fig1 = go.Figure(data=data, layout=layout)\n",
    "fig1.show(config={'displaylogo':False}) # hide ploty logo\n",
    "##fig1.write_html(f\"{run_name} - MinION Reads.html\", config={'displaylogo':False})"
   ]
  },
  {
   "cell_type": "markdown",
   "id": "5ad7e5d2",
   "metadata": {},
   "source": [
    "## Bases"
   ]
  },
  {
   "cell_type": "code",
   "execution_count": 58,
   "id": "b654e131",
   "metadata": {},
   "outputs": [
    {
     "data": {
      "application/vnd.plotly.v1+json": {
       "config": {
        "displaylogo": false,
        "plotlyServerURL": "https://plot.ly"
       },
       "data": [
        {
         "marker": {
          "color": "blue"
         },
         "name": "pass",
         "type": "bar",
         "x": [
          "PAY002",
          "PAY004",
          "PAY005",
          "PAY004_F1-R1",
          "PAY011",
          "PAY013",
          "PAY015",
          "PAY016",
          "PAY017",
          "PAY023",
          "PAY031",
          "PAY039",
          "PAY100",
          "Pad213_17",
          "LEC013",
          "LEC015",
          "LEC019",
          "LEC022",
          "LEC035",
          "LEC040",
          "LEC043",
          "LEC043_F1-R1",
          "LEC046",
          "LEC048",
          "VA33_211",
          "VA33_211_F1-R1",
          "VA33_213",
          "VA33_228",
          "VA33_235",
          "M00_234",
          "barcode31",
          "barcode32",
          "barcode33",
          "barcode34",
          "barcode35",
          "barcode36",
          "barcode37",
          "barcode38",
          "barcode39",
          "barcode40",
          "barcode41",
          "barcode42",
          "barcode43",
          "barcode44",
          "barcode45",
          "barcode46",
          "barcode47",
          "barcode48",
          "barcode49",
          "barcode50",
          "barcode51",
          "barcode52",
          "barcode53",
          "barcode54",
          "barcode55",
          "barcode56",
          "barcode57",
          "barcode58",
          "barcode59",
          "barcode60",
          "barcode61",
          "barcode62",
          "barcode63",
          "barcode64",
          "barcode65",
          "barcode66",
          "barcode67",
          "barcode68",
          "barcode69",
          "barcode70",
          "barcode71",
          "barcode72",
          "barcode73",
          "barcode74",
          "barcode75",
          "barcode76",
          "barcode77",
          "barcode78",
          "barcode79",
          "barcode80",
          "barcode81",
          "barcode82",
          "barcode83",
          "barcode84",
          "barcode85",
          "barcode86",
          "barcode87",
          "barcode88",
          "barcode89",
          "barcode90",
          "barcode91",
          "barcode92",
          "barcode93",
          "barcode94",
          "barcode95",
          "barcode96",
          "unclassified",
          "PAY002",
          "PAY004",
          "PAY005",
          "PAY004_F1-R1",
          "PAY011",
          "PAY013",
          "PAY015",
          "PAY016",
          "PAY017",
          "PAY023",
          "PAY031",
          "PAY039",
          "PAY100",
          "Pad213_17",
          "LEC013",
          "LEC015",
          "LEC019",
          "LEC022",
          "LEC035",
          "LEC040",
          "LEC043",
          "LEC043_F1-R1",
          "LEC046",
          "LEC048",
          "VA33_211",
          "VA33_211_F1-R1",
          "VA33_213",
          "VA33_228",
          "VA33_235",
          "M00_234",
          "barcode31",
          "barcode32",
          "barcode33",
          "barcode34",
          "barcode35",
          "barcode36",
          "barcode37",
          "barcode38",
          "barcode39",
          "barcode40",
          "barcode41",
          "barcode42",
          "barcode43",
          "barcode44",
          "barcode45",
          "barcode46",
          "barcode47",
          "barcode48",
          "barcode49",
          "barcode50",
          "barcode51",
          "barcode52",
          "barcode53",
          "barcode54",
          "barcode55",
          "barcode56",
          "barcode57",
          "barcode58",
          "barcode59",
          "barcode60",
          "barcode61",
          "barcode62",
          "barcode63",
          "barcode64",
          "barcode65",
          "barcode66",
          "barcode67",
          "barcode68",
          "barcode69",
          "barcode70",
          "barcode71",
          "barcode72",
          "barcode73",
          "barcode74",
          "barcode75",
          "barcode76",
          "barcode77",
          "barcode78",
          "barcode79",
          "barcode80",
          "barcode81",
          "barcode82",
          "barcode83",
          "barcode84",
          "barcode85",
          "barcode86",
          "barcode87",
          "barcode88",
          "barcode89",
          "barcode90",
          "barcode91",
          "barcode92",
          "barcode93",
          "barcode94",
          "barcode95",
          "barcode96",
          "unclassified"
         ],
         "y": [
          53025990,
          89115776,
          117700085,
          149945043,
          111269135,
          180242594,
          116590557,
          243333956,
          142475999,
          80660187,
          73253538,
          78262121,
          148715914,
          103761526,
          157762426,
          171101789,
          86991239,
          169140164,
          108794488,
          263220290,
          169370994,
          282962794,
          276427268,
          275381914,
          32691655,
          207646059,
          24732214,
          143621367,
          37924301,
          288279330,
          26271,
          12095,
          40060,
          13403,
          9329,
          1531,
          4052,
          29414,
          14325,
          2002,
          4730,
          26952,
          4686,
          8228,
          30132,
          66742,
          4928,
          25252,
          11456,
          11496,
          10923,
          11016,
          13743,
          27675,
          2395,
          10875,
          7101,
          24323,
          3932,
          28360,
          8479,
          16872,
          0,
          15437,
          6741,
          7098,
          11748,
          1164,
          30396,
          728,
          20563,
          11827,
          6029,
          31402,
          7984,
          39832,
          11545,
          50491,
          11136,
          4353,
          13489,
          8708,
          54199,
          15176,
          4643,
          19261,
          18078,
          0,
          19432,
          4370,
          5964,
          0,
          2593,
          10084,
          8841,
          9131,
          142797652
         ]
        },
        {
         "marker": {
          "color": "red"
         },
         "name": "fail",
         "type": "bar",
         "x": [
          "PAY002",
          "PAY004",
          "PAY005",
          "PAY004_F1-R1",
          "PAY011",
          "PAY013",
          "PAY015",
          "PAY016",
          "PAY017",
          "PAY023",
          "PAY031",
          "PAY039",
          "PAY100",
          "Pad213_17",
          "LEC013",
          "LEC015",
          "LEC019",
          "LEC022",
          "LEC035",
          "LEC040",
          "LEC043",
          "LEC043_F1-R1",
          "LEC046",
          "LEC048",
          "VA33_211",
          "VA33_211_F1-R1",
          "VA33_213",
          "VA33_228",
          "VA33_235",
          "M00_234",
          "barcode31",
          "barcode32",
          "barcode33",
          "barcode34",
          "barcode35",
          "barcode36",
          "barcode37",
          "barcode38",
          "barcode39",
          "barcode40",
          "barcode41",
          "barcode42",
          "barcode43",
          "barcode44",
          "barcode45",
          "barcode46",
          "barcode47",
          "barcode48",
          "barcode49",
          "barcode50",
          "barcode51",
          "barcode52",
          "barcode53",
          "barcode54",
          "barcode55",
          "barcode56",
          "barcode57",
          "barcode58",
          "barcode59",
          "barcode60",
          "barcode61",
          "barcode62",
          "barcode63",
          "barcode64",
          "barcode65",
          "barcode66",
          "barcode67",
          "barcode68",
          "barcode69",
          "barcode70",
          "barcode71",
          "barcode72",
          "barcode73",
          "barcode74",
          "barcode75",
          "barcode76",
          "barcode77",
          "barcode78",
          "barcode79",
          "barcode80",
          "barcode81",
          "barcode82",
          "barcode83",
          "barcode84",
          "barcode85",
          "barcode86",
          "barcode87",
          "barcode88",
          "barcode89",
          "barcode90",
          "barcode91",
          "barcode92",
          "barcode93",
          "barcode94",
          "barcode95",
          "barcode96",
          "unclassified",
          "PAY002",
          "PAY004",
          "PAY005",
          "PAY004_F1-R1",
          "PAY011",
          "PAY013",
          "PAY015",
          "PAY016",
          "PAY017",
          "PAY023",
          "PAY031",
          "PAY039",
          "PAY100",
          "Pad213_17",
          "LEC013",
          "LEC015",
          "LEC019",
          "LEC022",
          "LEC035",
          "LEC040",
          "LEC043",
          "LEC043_F1-R1",
          "LEC046",
          "LEC048",
          "VA33_211",
          "VA33_211_F1-R1",
          "VA33_213",
          "VA33_228",
          "VA33_235",
          "M00_234",
          "barcode31",
          "barcode32",
          "barcode33",
          "barcode34",
          "barcode35",
          "barcode36",
          "barcode37",
          "barcode38",
          "barcode39",
          "barcode40",
          "barcode41",
          "barcode42",
          "barcode43",
          "barcode44",
          "barcode45",
          "barcode46",
          "barcode47",
          "barcode48",
          "barcode49",
          "barcode50",
          "barcode51",
          "barcode52",
          "barcode53",
          "barcode54",
          "barcode55",
          "barcode56",
          "barcode57",
          "barcode58",
          "barcode59",
          "barcode60",
          "barcode61",
          "barcode62",
          "barcode63",
          "barcode64",
          "barcode65",
          "barcode66",
          "barcode67",
          "barcode68",
          "barcode69",
          "barcode70",
          "barcode71",
          "barcode72",
          "barcode73",
          "barcode74",
          "barcode75",
          "barcode76",
          "barcode77",
          "barcode78",
          "barcode79",
          "barcode80",
          "barcode81",
          "barcode82",
          "barcode83",
          "barcode84",
          "barcode85",
          "barcode86",
          "barcode87",
          "barcode88",
          "barcode89",
          "barcode90",
          "barcode91",
          "barcode92",
          "barcode93",
          "barcode94",
          "barcode95",
          "barcode96",
          "unclassified"
         ],
         "y": [
          5606222,
          26436426,
          45417195,
          24660597,
          19315887,
          41864949,
          28298860,
          87663245,
          23577442,
          18508456,
          11696728,
          9373493,
          48863073,
          30712031,
          34865127,
          26663295,
          25898945,
          57191869,
          36299758,
          73544791,
          91335919,
          56228597,
          89911223,
          115770787,
          1796497,
          14580282,
          1279553,
          6469334,
          1665962,
          17928702,
          176893,
          99498,
          145719,
          201665,
          45032,
          42957,
          148920,
          102731,
          123207,
          62285,
          59360,
          255013,
          45140,
          41317,
          234362,
          288200,
          51931,
          109267,
          98789,
          118421,
          30781,
          127157,
          107091,
          107765,
          77603,
          138864,
          31122,
          115771,
          124205,
          134362,
          45042,
          66080,
          40533,
          61857,
          120898,
          73300,
          93665,
          43029,
          177849,
          54400,
          158861,
          67607,
          31084,
          82779,
          119257,
          98804,
          77728,
          250642,
          86473,
          195312,
          59449,
          79437,
          56855,
          88697,
          45999,
          64870,
          31449,
          47197,
          117840,
          8095,
          113128,
          17136,
          34451,
          67210,
          64541,
          90773,
          848134490
         ]
        }
       ],
       "layout": {
        "template": {
         "data": {
          "bar": [
           {
            "error_x": {
             "color": "#2a3f5f"
            },
            "error_y": {
             "color": "#2a3f5f"
            },
            "marker": {
             "line": {
              "color": "#E5ECF6",
              "width": 0.5
             },
             "pattern": {
              "fillmode": "overlay",
              "size": 10,
              "solidity": 0.2
             }
            },
            "type": "bar"
           }
          ],
          "barpolar": [
           {
            "marker": {
             "line": {
              "color": "#E5ECF6",
              "width": 0.5
             },
             "pattern": {
              "fillmode": "overlay",
              "size": 10,
              "solidity": 0.2
             }
            },
            "type": "barpolar"
           }
          ],
          "carpet": [
           {
            "aaxis": {
             "endlinecolor": "#2a3f5f",
             "gridcolor": "white",
             "linecolor": "white",
             "minorgridcolor": "white",
             "startlinecolor": "#2a3f5f"
            },
            "baxis": {
             "endlinecolor": "#2a3f5f",
             "gridcolor": "white",
             "linecolor": "white",
             "minorgridcolor": "white",
             "startlinecolor": "#2a3f5f"
            },
            "type": "carpet"
           }
          ],
          "choropleth": [
           {
            "colorbar": {
             "outlinewidth": 0,
             "ticks": ""
            },
            "type": "choropleth"
           }
          ],
          "contour": [
           {
            "colorbar": {
             "outlinewidth": 0,
             "ticks": ""
            },
            "colorscale": [
             [
              0,
              "#0d0887"
             ],
             [
              0.1111111111111111,
              "#46039f"
             ],
             [
              0.2222222222222222,
              "#7201a8"
             ],
             [
              0.3333333333333333,
              "#9c179e"
             ],
             [
              0.4444444444444444,
              "#bd3786"
             ],
             [
              0.5555555555555556,
              "#d8576b"
             ],
             [
              0.6666666666666666,
              "#ed7953"
             ],
             [
              0.7777777777777778,
              "#fb9f3a"
             ],
             [
              0.8888888888888888,
              "#fdca26"
             ],
             [
              1,
              "#f0f921"
             ]
            ],
            "type": "contour"
           }
          ],
          "contourcarpet": [
           {
            "colorbar": {
             "outlinewidth": 0,
             "ticks": ""
            },
            "type": "contourcarpet"
           }
          ],
          "heatmap": [
           {
            "colorbar": {
             "outlinewidth": 0,
             "ticks": ""
            },
            "colorscale": [
             [
              0,
              "#0d0887"
             ],
             [
              0.1111111111111111,
              "#46039f"
             ],
             [
              0.2222222222222222,
              "#7201a8"
             ],
             [
              0.3333333333333333,
              "#9c179e"
             ],
             [
              0.4444444444444444,
              "#bd3786"
             ],
             [
              0.5555555555555556,
              "#d8576b"
             ],
             [
              0.6666666666666666,
              "#ed7953"
             ],
             [
              0.7777777777777778,
              "#fb9f3a"
             ],
             [
              0.8888888888888888,
              "#fdca26"
             ],
             [
              1,
              "#f0f921"
             ]
            ],
            "type": "heatmap"
           }
          ],
          "heatmapgl": [
           {
            "colorbar": {
             "outlinewidth": 0,
             "ticks": ""
            },
            "colorscale": [
             [
              0,
              "#0d0887"
             ],
             [
              0.1111111111111111,
              "#46039f"
             ],
             [
              0.2222222222222222,
              "#7201a8"
             ],
             [
              0.3333333333333333,
              "#9c179e"
             ],
             [
              0.4444444444444444,
              "#bd3786"
             ],
             [
              0.5555555555555556,
              "#d8576b"
             ],
             [
              0.6666666666666666,
              "#ed7953"
             ],
             [
              0.7777777777777778,
              "#fb9f3a"
             ],
             [
              0.8888888888888888,
              "#fdca26"
             ],
             [
              1,
              "#f0f921"
             ]
            ],
            "type": "heatmapgl"
           }
          ],
          "histogram": [
           {
            "marker": {
             "pattern": {
              "fillmode": "overlay",
              "size": 10,
              "solidity": 0.2
             }
            },
            "type": "histogram"
           }
          ],
          "histogram2d": [
           {
            "colorbar": {
             "outlinewidth": 0,
             "ticks": ""
            },
            "colorscale": [
             [
              0,
              "#0d0887"
             ],
             [
              0.1111111111111111,
              "#46039f"
             ],
             [
              0.2222222222222222,
              "#7201a8"
             ],
             [
              0.3333333333333333,
              "#9c179e"
             ],
             [
              0.4444444444444444,
              "#bd3786"
             ],
             [
              0.5555555555555556,
              "#d8576b"
             ],
             [
              0.6666666666666666,
              "#ed7953"
             ],
             [
              0.7777777777777778,
              "#fb9f3a"
             ],
             [
              0.8888888888888888,
              "#fdca26"
             ],
             [
              1,
              "#f0f921"
             ]
            ],
            "type": "histogram2d"
           }
          ],
          "histogram2dcontour": [
           {
            "colorbar": {
             "outlinewidth": 0,
             "ticks": ""
            },
            "colorscale": [
             [
              0,
              "#0d0887"
             ],
             [
              0.1111111111111111,
              "#46039f"
             ],
             [
              0.2222222222222222,
              "#7201a8"
             ],
             [
              0.3333333333333333,
              "#9c179e"
             ],
             [
              0.4444444444444444,
              "#bd3786"
             ],
             [
              0.5555555555555556,
              "#d8576b"
             ],
             [
              0.6666666666666666,
              "#ed7953"
             ],
             [
              0.7777777777777778,
              "#fb9f3a"
             ],
             [
              0.8888888888888888,
              "#fdca26"
             ],
             [
              1,
              "#f0f921"
             ]
            ],
            "type": "histogram2dcontour"
           }
          ],
          "mesh3d": [
           {
            "colorbar": {
             "outlinewidth": 0,
             "ticks": ""
            },
            "type": "mesh3d"
           }
          ],
          "parcoords": [
           {
            "line": {
             "colorbar": {
              "outlinewidth": 0,
              "ticks": ""
             }
            },
            "type": "parcoords"
           }
          ],
          "pie": [
           {
            "automargin": true,
            "type": "pie"
           }
          ],
          "scatter": [
           {
            "fillpattern": {
             "fillmode": "overlay",
             "size": 10,
             "solidity": 0.2
            },
            "type": "scatter"
           }
          ],
          "scatter3d": [
           {
            "line": {
             "colorbar": {
              "outlinewidth": 0,
              "ticks": ""
             }
            },
            "marker": {
             "colorbar": {
              "outlinewidth": 0,
              "ticks": ""
             }
            },
            "type": "scatter3d"
           }
          ],
          "scattercarpet": [
           {
            "marker": {
             "colorbar": {
              "outlinewidth": 0,
              "ticks": ""
             }
            },
            "type": "scattercarpet"
           }
          ],
          "scattergeo": [
           {
            "marker": {
             "colorbar": {
              "outlinewidth": 0,
              "ticks": ""
             }
            },
            "type": "scattergeo"
           }
          ],
          "scattergl": [
           {
            "marker": {
             "colorbar": {
              "outlinewidth": 0,
              "ticks": ""
             }
            },
            "type": "scattergl"
           }
          ],
          "scattermapbox": [
           {
            "marker": {
             "colorbar": {
              "outlinewidth": 0,
              "ticks": ""
             }
            },
            "type": "scattermapbox"
           }
          ],
          "scatterpolar": [
           {
            "marker": {
             "colorbar": {
              "outlinewidth": 0,
              "ticks": ""
             }
            },
            "type": "scatterpolar"
           }
          ],
          "scatterpolargl": [
           {
            "marker": {
             "colorbar": {
              "outlinewidth": 0,
              "ticks": ""
             }
            },
            "type": "scatterpolargl"
           }
          ],
          "scatterternary": [
           {
            "marker": {
             "colorbar": {
              "outlinewidth": 0,
              "ticks": ""
             }
            },
            "type": "scatterternary"
           }
          ],
          "surface": [
           {
            "colorbar": {
             "outlinewidth": 0,
             "ticks": ""
            },
            "colorscale": [
             [
              0,
              "#0d0887"
             ],
             [
              0.1111111111111111,
              "#46039f"
             ],
             [
              0.2222222222222222,
              "#7201a8"
             ],
             [
              0.3333333333333333,
              "#9c179e"
             ],
             [
              0.4444444444444444,
              "#bd3786"
             ],
             [
              0.5555555555555556,
              "#d8576b"
             ],
             [
              0.6666666666666666,
              "#ed7953"
             ],
             [
              0.7777777777777778,
              "#fb9f3a"
             ],
             [
              0.8888888888888888,
              "#fdca26"
             ],
             [
              1,
              "#f0f921"
             ]
            ],
            "type": "surface"
           }
          ],
          "table": [
           {
            "cells": {
             "fill": {
              "color": "#EBF0F8"
             },
             "line": {
              "color": "white"
             }
            },
            "header": {
             "fill": {
              "color": "#C8D4E3"
             },
             "line": {
              "color": "white"
             }
            },
            "type": "table"
           }
          ]
         },
         "layout": {
          "annotationdefaults": {
           "arrowcolor": "#2a3f5f",
           "arrowhead": 0,
           "arrowwidth": 1
          },
          "autotypenumbers": "strict",
          "coloraxis": {
           "colorbar": {
            "outlinewidth": 0,
            "ticks": ""
           }
          },
          "colorscale": {
           "diverging": [
            [
             0,
             "#8e0152"
            ],
            [
             0.1,
             "#c51b7d"
            ],
            [
             0.2,
             "#de77ae"
            ],
            [
             0.3,
             "#f1b6da"
            ],
            [
             0.4,
             "#fde0ef"
            ],
            [
             0.5,
             "#f7f7f7"
            ],
            [
             0.6,
             "#e6f5d0"
            ],
            [
             0.7,
             "#b8e186"
            ],
            [
             0.8,
             "#7fbc41"
            ],
            [
             0.9,
             "#4d9221"
            ],
            [
             1,
             "#276419"
            ]
           ],
           "sequential": [
            [
             0,
             "#0d0887"
            ],
            [
             0.1111111111111111,
             "#46039f"
            ],
            [
             0.2222222222222222,
             "#7201a8"
            ],
            [
             0.3333333333333333,
             "#9c179e"
            ],
            [
             0.4444444444444444,
             "#bd3786"
            ],
            [
             0.5555555555555556,
             "#d8576b"
            ],
            [
             0.6666666666666666,
             "#ed7953"
            ],
            [
             0.7777777777777778,
             "#fb9f3a"
            ],
            [
             0.8888888888888888,
             "#fdca26"
            ],
            [
             1,
             "#f0f921"
            ]
           ],
           "sequentialminus": [
            [
             0,
             "#0d0887"
            ],
            [
             0.1111111111111111,
             "#46039f"
            ],
            [
             0.2222222222222222,
             "#7201a8"
            ],
            [
             0.3333333333333333,
             "#9c179e"
            ],
            [
             0.4444444444444444,
             "#bd3786"
            ],
            [
             0.5555555555555556,
             "#d8576b"
            ],
            [
             0.6666666666666666,
             "#ed7953"
            ],
            [
             0.7777777777777778,
             "#fb9f3a"
            ],
            [
             0.8888888888888888,
             "#fdca26"
            ],
            [
             1,
             "#f0f921"
            ]
           ]
          },
          "colorway": [
           "#636efa",
           "#EF553B",
           "#00cc96",
           "#ab63fa",
           "#FFA15A",
           "#19d3f3",
           "#FF6692",
           "#B6E880",
           "#FF97FF",
           "#FECB52"
          ],
          "font": {
           "color": "#2a3f5f"
          },
          "geo": {
           "bgcolor": "white",
           "lakecolor": "white",
           "landcolor": "#E5ECF6",
           "showlakes": true,
           "showland": true,
           "subunitcolor": "white"
          },
          "hoverlabel": {
           "align": "left"
          },
          "hovermode": "closest",
          "mapbox": {
           "style": "light"
          },
          "paper_bgcolor": "white",
          "plot_bgcolor": "#E5ECF6",
          "polar": {
           "angularaxis": {
            "gridcolor": "white",
            "linecolor": "white",
            "ticks": ""
           },
           "bgcolor": "#E5ECF6",
           "radialaxis": {
            "gridcolor": "white",
            "linecolor": "white",
            "ticks": ""
           }
          },
          "scene": {
           "xaxis": {
            "backgroundcolor": "#E5ECF6",
            "gridcolor": "white",
            "gridwidth": 2,
            "linecolor": "white",
            "showbackground": true,
            "ticks": "",
            "zerolinecolor": "white"
           },
           "yaxis": {
            "backgroundcolor": "#E5ECF6",
            "gridcolor": "white",
            "gridwidth": 2,
            "linecolor": "white",
            "showbackground": true,
            "ticks": "",
            "zerolinecolor": "white"
           },
           "zaxis": {
            "backgroundcolor": "#E5ECF6",
            "gridcolor": "white",
            "gridwidth": 2,
            "linecolor": "white",
            "showbackground": true,
            "ticks": "",
            "zerolinecolor": "white"
           }
          },
          "shapedefaults": {
           "line": {
            "color": "#2a3f5f"
           }
          },
          "ternary": {
           "aaxis": {
            "gridcolor": "white",
            "linecolor": "white",
            "ticks": ""
           },
           "baxis": {
            "gridcolor": "white",
            "linecolor": "white",
            "ticks": ""
           },
           "bgcolor": "#E5ECF6",
           "caxis": {
            "gridcolor": "white",
            "linecolor": "white",
            "ticks": ""
           }
          },
          "title": {
           "x": 0.05
          },
          "xaxis": {
           "automargin": true,
           "gridcolor": "white",
           "linecolor": "white",
           "ticks": "",
           "title": {
            "standoff": 15
           },
           "zerolinecolor": "white",
           "zerolinewidth": 2
          },
          "yaxis": {
           "automargin": true,
           "gridcolor": "white",
           "linecolor": "white",
           "ticks": "",
           "title": {
            "standoff": 15
           },
           "zerolinecolor": "white",
           "zerolinewidth": 2
          }
         }
        },
        "title": {
         "text": "001_20220412_FAME3 - Bases (bp)"
        },
        "yaxis": {
         "title": {
          "text": "Bases (bp)"
         }
        }
       }
      },
      "text/html": [
       "<div>                            <div id=\"f7d81028-e419-4129-b51d-ec5c08c3d064\" class=\"plotly-graph-div\" style=\"height:525px; width:100%;\"></div>            <script type=\"text/javascript\">                require([\"plotly\"], function(Plotly) {                    window.PLOTLYENV=window.PLOTLYENV || {};                                    if (document.getElementById(\"f7d81028-e419-4129-b51d-ec5c08c3d064\")) {                    Plotly.newPlot(                        \"f7d81028-e419-4129-b51d-ec5c08c3d064\",                        [{\"marker\":{\"color\":\"blue\"},\"name\":\"pass\",\"x\":[\"PAY002\",\"PAY004\",\"PAY005\",\"PAY004_F1-R1\",\"PAY011\",\"PAY013\",\"PAY015\",\"PAY016\",\"PAY017\",\"PAY023\",\"PAY031\",\"PAY039\",\"PAY100\",\"Pad213_17\",\"LEC013\",\"LEC015\",\"LEC019\",\"LEC022\",\"LEC035\",\"LEC040\",\"LEC043\",\"LEC043_F1-R1\",\"LEC046\",\"LEC048\",\"VA33_211\",\"VA33_211_F1-R1\",\"VA33_213\",\"VA33_228\",\"VA33_235\",\"M00_234\",\"barcode31\",\"barcode32\",\"barcode33\",\"barcode34\",\"barcode35\",\"barcode36\",\"barcode37\",\"barcode38\",\"barcode39\",\"barcode40\",\"barcode41\",\"barcode42\",\"barcode43\",\"barcode44\",\"barcode45\",\"barcode46\",\"barcode47\",\"barcode48\",\"barcode49\",\"barcode50\",\"barcode51\",\"barcode52\",\"barcode53\",\"barcode54\",\"barcode55\",\"barcode56\",\"barcode57\",\"barcode58\",\"barcode59\",\"barcode60\",\"barcode61\",\"barcode62\",\"barcode63\",\"barcode64\",\"barcode65\",\"barcode66\",\"barcode67\",\"barcode68\",\"barcode69\",\"barcode70\",\"barcode71\",\"barcode72\",\"barcode73\",\"barcode74\",\"barcode75\",\"barcode76\",\"barcode77\",\"barcode78\",\"barcode79\",\"barcode80\",\"barcode81\",\"barcode82\",\"barcode83\",\"barcode84\",\"barcode85\",\"barcode86\",\"barcode87\",\"barcode88\",\"barcode89\",\"barcode90\",\"barcode91\",\"barcode92\",\"barcode93\",\"barcode94\",\"barcode95\",\"barcode96\",\"unclassified\",\"PAY002\",\"PAY004\",\"PAY005\",\"PAY004_F1-R1\",\"PAY011\",\"PAY013\",\"PAY015\",\"PAY016\",\"PAY017\",\"PAY023\",\"PAY031\",\"PAY039\",\"PAY100\",\"Pad213_17\",\"LEC013\",\"LEC015\",\"LEC019\",\"LEC022\",\"LEC035\",\"LEC040\",\"LEC043\",\"LEC043_F1-R1\",\"LEC046\",\"LEC048\",\"VA33_211\",\"VA33_211_F1-R1\",\"VA33_213\",\"VA33_228\",\"VA33_235\",\"M00_234\",\"barcode31\",\"barcode32\",\"barcode33\",\"barcode34\",\"barcode35\",\"barcode36\",\"barcode37\",\"barcode38\",\"barcode39\",\"barcode40\",\"barcode41\",\"barcode42\",\"barcode43\",\"barcode44\",\"barcode45\",\"barcode46\",\"barcode47\",\"barcode48\",\"barcode49\",\"barcode50\",\"barcode51\",\"barcode52\",\"barcode53\",\"barcode54\",\"barcode55\",\"barcode56\",\"barcode57\",\"barcode58\",\"barcode59\",\"barcode60\",\"barcode61\",\"barcode62\",\"barcode63\",\"barcode64\",\"barcode65\",\"barcode66\",\"barcode67\",\"barcode68\",\"barcode69\",\"barcode70\",\"barcode71\",\"barcode72\",\"barcode73\",\"barcode74\",\"barcode75\",\"barcode76\",\"barcode77\",\"barcode78\",\"barcode79\",\"barcode80\",\"barcode81\",\"barcode82\",\"barcode83\",\"barcode84\",\"barcode85\",\"barcode86\",\"barcode87\",\"barcode88\",\"barcode89\",\"barcode90\",\"barcode91\",\"barcode92\",\"barcode93\",\"barcode94\",\"barcode95\",\"barcode96\",\"unclassified\"],\"y\":[53025990.0,89115776.0,117700085.0,149945043.0,111269135.0,180242594.0,116590557.0,243333956.0,142475999.0,80660187.0,73253538.0,78262121.0,148715914.0,103761526.0,157762426.0,171101789.0,86991239.0,169140164.0,108794488.0,263220290.0,169370994.0,282962794.0,276427268.0,275381914.0,32691655.0,207646059.0,24732214.0,143621367.0,37924301.0,288279330.0,26271.0,12095.0,40060.0,13403.0,9329.0,1531.0,4052.0,29414.0,14325.0,2002.0,4730.0,26952.0,4686.0,8228.0,30132.0,66742.0,4928.0,25252.0,11456.0,11496.0,10923.0,11016.0,13743.0,27675.0,2395.0,10875.0,7101.0,24323.0,3932.0,28360.0,8479.0,16872.0,0.0,15437.0,6741.0,7098.0,11748.0,1164.0,30396.0,728.0,20563.0,11827.0,6029.0,31402.0,7984.0,39832.0,11545.0,50491.0,11136.0,4353.0,13489.0,8708.0,54199.0,15176.0,4643.0,19261.0,18078.0,0.0,19432.0,4370.0,5964.0,0.0,2593.0,10084.0,8841.0,9131.0,142797652.0],\"type\":\"bar\"},{\"marker\":{\"color\":\"red\"},\"name\":\"fail\",\"x\":[\"PAY002\",\"PAY004\",\"PAY005\",\"PAY004_F1-R1\",\"PAY011\",\"PAY013\",\"PAY015\",\"PAY016\",\"PAY017\",\"PAY023\",\"PAY031\",\"PAY039\",\"PAY100\",\"Pad213_17\",\"LEC013\",\"LEC015\",\"LEC019\",\"LEC022\",\"LEC035\",\"LEC040\",\"LEC043\",\"LEC043_F1-R1\",\"LEC046\",\"LEC048\",\"VA33_211\",\"VA33_211_F1-R1\",\"VA33_213\",\"VA33_228\",\"VA33_235\",\"M00_234\",\"barcode31\",\"barcode32\",\"barcode33\",\"barcode34\",\"barcode35\",\"barcode36\",\"barcode37\",\"barcode38\",\"barcode39\",\"barcode40\",\"barcode41\",\"barcode42\",\"barcode43\",\"barcode44\",\"barcode45\",\"barcode46\",\"barcode47\",\"barcode48\",\"barcode49\",\"barcode50\",\"barcode51\",\"barcode52\",\"barcode53\",\"barcode54\",\"barcode55\",\"barcode56\",\"barcode57\",\"barcode58\",\"barcode59\",\"barcode60\",\"barcode61\",\"barcode62\",\"barcode63\",\"barcode64\",\"barcode65\",\"barcode66\",\"barcode67\",\"barcode68\",\"barcode69\",\"barcode70\",\"barcode71\",\"barcode72\",\"barcode73\",\"barcode74\",\"barcode75\",\"barcode76\",\"barcode77\",\"barcode78\",\"barcode79\",\"barcode80\",\"barcode81\",\"barcode82\",\"barcode83\",\"barcode84\",\"barcode85\",\"barcode86\",\"barcode87\",\"barcode88\",\"barcode89\",\"barcode90\",\"barcode91\",\"barcode92\",\"barcode93\",\"barcode94\",\"barcode95\",\"barcode96\",\"unclassified\",\"PAY002\",\"PAY004\",\"PAY005\",\"PAY004_F1-R1\",\"PAY011\",\"PAY013\",\"PAY015\",\"PAY016\",\"PAY017\",\"PAY023\",\"PAY031\",\"PAY039\",\"PAY100\",\"Pad213_17\",\"LEC013\",\"LEC015\",\"LEC019\",\"LEC022\",\"LEC035\",\"LEC040\",\"LEC043\",\"LEC043_F1-R1\",\"LEC046\",\"LEC048\",\"VA33_211\",\"VA33_211_F1-R1\",\"VA33_213\",\"VA33_228\",\"VA33_235\",\"M00_234\",\"barcode31\",\"barcode32\",\"barcode33\",\"barcode34\",\"barcode35\",\"barcode36\",\"barcode37\",\"barcode38\",\"barcode39\",\"barcode40\",\"barcode41\",\"barcode42\",\"barcode43\",\"barcode44\",\"barcode45\",\"barcode46\",\"barcode47\",\"barcode48\",\"barcode49\",\"barcode50\",\"barcode51\",\"barcode52\",\"barcode53\",\"barcode54\",\"barcode55\",\"barcode56\",\"barcode57\",\"barcode58\",\"barcode59\",\"barcode60\",\"barcode61\",\"barcode62\",\"barcode63\",\"barcode64\",\"barcode65\",\"barcode66\",\"barcode67\",\"barcode68\",\"barcode69\",\"barcode70\",\"barcode71\",\"barcode72\",\"barcode73\",\"barcode74\",\"barcode75\",\"barcode76\",\"barcode77\",\"barcode78\",\"barcode79\",\"barcode80\",\"barcode81\",\"barcode82\",\"barcode83\",\"barcode84\",\"barcode85\",\"barcode86\",\"barcode87\",\"barcode88\",\"barcode89\",\"barcode90\",\"barcode91\",\"barcode92\",\"barcode93\",\"barcode94\",\"barcode95\",\"barcode96\",\"unclassified\"],\"y\":[5606222.0,26436426.0,45417195.0,24660597.0,19315887.0,41864949.0,28298860.0,87663245.0,23577442.0,18508456.0,11696728.0,9373493.0,48863073.0,30712031.0,34865127.0,26663295.0,25898945.0,57191869.0,36299758.0,73544791.0,91335919.0,56228597.0,89911223.0,115770787.0,1796497.0,14580282.0,1279553.0,6469334.0,1665962.0,17928702.0,176893.0,99498.0,145719.0,201665.0,45032.0,42957.0,148920.0,102731.0,123207.0,62285.0,59360.0,255013.0,45140.0,41317.0,234362.0,288200.0,51931.0,109267.0,98789.0,118421.0,30781.0,127157.0,107091.0,107765.0,77603.0,138864.0,31122.0,115771.0,124205.0,134362.0,45042.0,66080.0,40533.0,61857.0,120898.0,73300.0,93665.0,43029.0,177849.0,54400.0,158861.0,67607.0,31084.0,82779.0,119257.0,98804.0,77728.0,250642.0,86473.0,195312.0,59449.0,79437.0,56855.0,88697.0,45999.0,64870.0,31449.0,47197.0,117840.0,8095.0,113128.0,17136.0,34451.0,67210.0,64541.0,90773.0,848134490.0],\"type\":\"bar\"}],                        {\"title\":{\"text\":\"001_20220412_FAME3 - Bases (bp)\"},\"yaxis\":{\"title\":{\"text\":\"Bases (bp)\"}},\"template\":{\"data\":{\"histogram2dcontour\":[{\"type\":\"histogram2dcontour\",\"colorbar\":{\"outlinewidth\":0,\"ticks\":\"\"},\"colorscale\":[[0.0,\"#0d0887\"],[0.1111111111111111,\"#46039f\"],[0.2222222222222222,\"#7201a8\"],[0.3333333333333333,\"#9c179e\"],[0.4444444444444444,\"#bd3786\"],[0.5555555555555556,\"#d8576b\"],[0.6666666666666666,\"#ed7953\"],[0.7777777777777778,\"#fb9f3a\"],[0.8888888888888888,\"#fdca26\"],[1.0,\"#f0f921\"]]}],\"choropleth\":[{\"type\":\"choropleth\",\"colorbar\":{\"outlinewidth\":0,\"ticks\":\"\"}}],\"histogram2d\":[{\"type\":\"histogram2d\",\"colorbar\":{\"outlinewidth\":0,\"ticks\":\"\"},\"colorscale\":[[0.0,\"#0d0887\"],[0.1111111111111111,\"#46039f\"],[0.2222222222222222,\"#7201a8\"],[0.3333333333333333,\"#9c179e\"],[0.4444444444444444,\"#bd3786\"],[0.5555555555555556,\"#d8576b\"],[0.6666666666666666,\"#ed7953\"],[0.7777777777777778,\"#fb9f3a\"],[0.8888888888888888,\"#fdca26\"],[1.0,\"#f0f921\"]]}],\"heatmap\":[{\"type\":\"heatmap\",\"colorbar\":{\"outlinewidth\":0,\"ticks\":\"\"},\"colorscale\":[[0.0,\"#0d0887\"],[0.1111111111111111,\"#46039f\"],[0.2222222222222222,\"#7201a8\"],[0.3333333333333333,\"#9c179e\"],[0.4444444444444444,\"#bd3786\"],[0.5555555555555556,\"#d8576b\"],[0.6666666666666666,\"#ed7953\"],[0.7777777777777778,\"#fb9f3a\"],[0.8888888888888888,\"#fdca26\"],[1.0,\"#f0f921\"]]}],\"heatmapgl\":[{\"type\":\"heatmapgl\",\"colorbar\":{\"outlinewidth\":0,\"ticks\":\"\"},\"colorscale\":[[0.0,\"#0d0887\"],[0.1111111111111111,\"#46039f\"],[0.2222222222222222,\"#7201a8\"],[0.3333333333333333,\"#9c179e\"],[0.4444444444444444,\"#bd3786\"],[0.5555555555555556,\"#d8576b\"],[0.6666666666666666,\"#ed7953\"],[0.7777777777777778,\"#fb9f3a\"],[0.8888888888888888,\"#fdca26\"],[1.0,\"#f0f921\"]]}],\"contourcarpet\":[{\"type\":\"contourcarpet\",\"colorbar\":{\"outlinewidth\":0,\"ticks\":\"\"}}],\"contour\":[{\"type\":\"contour\",\"colorbar\":{\"outlinewidth\":0,\"ticks\":\"\"},\"colorscale\":[[0.0,\"#0d0887\"],[0.1111111111111111,\"#46039f\"],[0.2222222222222222,\"#7201a8\"],[0.3333333333333333,\"#9c179e\"],[0.4444444444444444,\"#bd3786\"],[0.5555555555555556,\"#d8576b\"],[0.6666666666666666,\"#ed7953\"],[0.7777777777777778,\"#fb9f3a\"],[0.8888888888888888,\"#fdca26\"],[1.0,\"#f0f921\"]]}],\"surface\":[{\"type\":\"surface\",\"colorbar\":{\"outlinewidth\":0,\"ticks\":\"\"},\"colorscale\":[[0.0,\"#0d0887\"],[0.1111111111111111,\"#46039f\"],[0.2222222222222222,\"#7201a8\"],[0.3333333333333333,\"#9c179e\"],[0.4444444444444444,\"#bd3786\"],[0.5555555555555556,\"#d8576b\"],[0.6666666666666666,\"#ed7953\"],[0.7777777777777778,\"#fb9f3a\"],[0.8888888888888888,\"#fdca26\"],[1.0,\"#f0f921\"]]}],\"mesh3d\":[{\"type\":\"mesh3d\",\"colorbar\":{\"outlinewidth\":0,\"ticks\":\"\"}}],\"scatter\":[{\"fillpattern\":{\"fillmode\":\"overlay\",\"size\":10,\"solidity\":0.2},\"type\":\"scatter\"}],\"parcoords\":[{\"type\":\"parcoords\",\"line\":{\"colorbar\":{\"outlinewidth\":0,\"ticks\":\"\"}}}],\"scatterpolargl\":[{\"type\":\"scatterpolargl\",\"marker\":{\"colorbar\":{\"outlinewidth\":0,\"ticks\":\"\"}}}],\"bar\":[{\"error_x\":{\"color\":\"#2a3f5f\"},\"error_y\":{\"color\":\"#2a3f5f\"},\"marker\":{\"line\":{\"color\":\"#E5ECF6\",\"width\":0.5},\"pattern\":{\"fillmode\":\"overlay\",\"size\":10,\"solidity\":0.2}},\"type\":\"bar\"}],\"scattergeo\":[{\"type\":\"scattergeo\",\"marker\":{\"colorbar\":{\"outlinewidth\":0,\"ticks\":\"\"}}}],\"scatterpolar\":[{\"type\":\"scatterpolar\",\"marker\":{\"colorbar\":{\"outlinewidth\":0,\"ticks\":\"\"}}}],\"histogram\":[{\"marker\":{\"pattern\":{\"fillmode\":\"overlay\",\"size\":10,\"solidity\":0.2}},\"type\":\"histogram\"}],\"scattergl\":[{\"type\":\"scattergl\",\"marker\":{\"colorbar\":{\"outlinewidth\":0,\"ticks\":\"\"}}}],\"scatter3d\":[{\"type\":\"scatter3d\",\"line\":{\"colorbar\":{\"outlinewidth\":0,\"ticks\":\"\"}},\"marker\":{\"colorbar\":{\"outlinewidth\":0,\"ticks\":\"\"}}}],\"scattermapbox\":[{\"type\":\"scattermapbox\",\"marker\":{\"colorbar\":{\"outlinewidth\":0,\"ticks\":\"\"}}}],\"scatterternary\":[{\"type\":\"scatterternary\",\"marker\":{\"colorbar\":{\"outlinewidth\":0,\"ticks\":\"\"}}}],\"scattercarpet\":[{\"type\":\"scattercarpet\",\"marker\":{\"colorbar\":{\"outlinewidth\":0,\"ticks\":\"\"}}}],\"carpet\":[{\"aaxis\":{\"endlinecolor\":\"#2a3f5f\",\"gridcolor\":\"white\",\"linecolor\":\"white\",\"minorgridcolor\":\"white\",\"startlinecolor\":\"#2a3f5f\"},\"baxis\":{\"endlinecolor\":\"#2a3f5f\",\"gridcolor\":\"white\",\"linecolor\":\"white\",\"minorgridcolor\":\"white\",\"startlinecolor\":\"#2a3f5f\"},\"type\":\"carpet\"}],\"table\":[{\"cells\":{\"fill\":{\"color\":\"#EBF0F8\"},\"line\":{\"color\":\"white\"}},\"header\":{\"fill\":{\"color\":\"#C8D4E3\"},\"line\":{\"color\":\"white\"}},\"type\":\"table\"}],\"barpolar\":[{\"marker\":{\"line\":{\"color\":\"#E5ECF6\",\"width\":0.5},\"pattern\":{\"fillmode\":\"overlay\",\"size\":10,\"solidity\":0.2}},\"type\":\"barpolar\"}],\"pie\":[{\"automargin\":true,\"type\":\"pie\"}]},\"layout\":{\"autotypenumbers\":\"strict\",\"colorway\":[\"#636efa\",\"#EF553B\",\"#00cc96\",\"#ab63fa\",\"#FFA15A\",\"#19d3f3\",\"#FF6692\",\"#B6E880\",\"#FF97FF\",\"#FECB52\"],\"font\":{\"color\":\"#2a3f5f\"},\"hovermode\":\"closest\",\"hoverlabel\":{\"align\":\"left\"},\"paper_bgcolor\":\"white\",\"plot_bgcolor\":\"#E5ECF6\",\"polar\":{\"bgcolor\":\"#E5ECF6\",\"angularaxis\":{\"gridcolor\":\"white\",\"linecolor\":\"white\",\"ticks\":\"\"},\"radialaxis\":{\"gridcolor\":\"white\",\"linecolor\":\"white\",\"ticks\":\"\"}},\"ternary\":{\"bgcolor\":\"#E5ECF6\",\"aaxis\":{\"gridcolor\":\"white\",\"linecolor\":\"white\",\"ticks\":\"\"},\"baxis\":{\"gridcolor\":\"white\",\"linecolor\":\"white\",\"ticks\":\"\"},\"caxis\":{\"gridcolor\":\"white\",\"linecolor\":\"white\",\"ticks\":\"\"}},\"coloraxis\":{\"colorbar\":{\"outlinewidth\":0,\"ticks\":\"\"}},\"colorscale\":{\"sequential\":[[0.0,\"#0d0887\"],[0.1111111111111111,\"#46039f\"],[0.2222222222222222,\"#7201a8\"],[0.3333333333333333,\"#9c179e\"],[0.4444444444444444,\"#bd3786\"],[0.5555555555555556,\"#d8576b\"],[0.6666666666666666,\"#ed7953\"],[0.7777777777777778,\"#fb9f3a\"],[0.8888888888888888,\"#fdca26\"],[1.0,\"#f0f921\"]],\"sequentialminus\":[[0.0,\"#0d0887\"],[0.1111111111111111,\"#46039f\"],[0.2222222222222222,\"#7201a8\"],[0.3333333333333333,\"#9c179e\"],[0.4444444444444444,\"#bd3786\"],[0.5555555555555556,\"#d8576b\"],[0.6666666666666666,\"#ed7953\"],[0.7777777777777778,\"#fb9f3a\"],[0.8888888888888888,\"#fdca26\"],[1.0,\"#f0f921\"]],\"diverging\":[[0,\"#8e0152\"],[0.1,\"#c51b7d\"],[0.2,\"#de77ae\"],[0.3,\"#f1b6da\"],[0.4,\"#fde0ef\"],[0.5,\"#f7f7f7\"],[0.6,\"#e6f5d0\"],[0.7,\"#b8e186\"],[0.8,\"#7fbc41\"],[0.9,\"#4d9221\"],[1,\"#276419\"]]},\"xaxis\":{\"gridcolor\":\"white\",\"linecolor\":\"white\",\"ticks\":\"\",\"title\":{\"standoff\":15},\"zerolinecolor\":\"white\",\"automargin\":true,\"zerolinewidth\":2},\"yaxis\":{\"gridcolor\":\"white\",\"linecolor\":\"white\",\"ticks\":\"\",\"title\":{\"standoff\":15},\"zerolinecolor\":\"white\",\"automargin\":true,\"zerolinewidth\":2},\"scene\":{\"xaxis\":{\"backgroundcolor\":\"#E5ECF6\",\"gridcolor\":\"white\",\"linecolor\":\"white\",\"showbackground\":true,\"ticks\":\"\",\"zerolinecolor\":\"white\",\"gridwidth\":2},\"yaxis\":{\"backgroundcolor\":\"#E5ECF6\",\"gridcolor\":\"white\",\"linecolor\":\"white\",\"showbackground\":true,\"ticks\":\"\",\"zerolinecolor\":\"white\",\"gridwidth\":2},\"zaxis\":{\"backgroundcolor\":\"#E5ECF6\",\"gridcolor\":\"white\",\"linecolor\":\"white\",\"showbackground\":true,\"ticks\":\"\",\"zerolinecolor\":\"white\",\"gridwidth\":2}},\"shapedefaults\":{\"line\":{\"color\":\"#2a3f5f\"}},\"annotationdefaults\":{\"arrowcolor\":\"#2a3f5f\",\"arrowhead\":0,\"arrowwidth\":1},\"geo\":{\"bgcolor\":\"white\",\"landcolor\":\"#E5ECF6\",\"subunitcolor\":\"white\",\"showland\":true,\"showlakes\":true,\"lakecolor\":\"white\"},\"title\":{\"x\":0.05},\"mapbox\":{\"style\":\"light\"}}}},                        {\"displaylogo\": false, \"responsive\": true}                    ).then(function(){\n",
       "                            \n",
       "var gd = document.getElementById('f7d81028-e419-4129-b51d-ec5c08c3d064');\n",
       "var x = new MutationObserver(function (mutations, observer) {{\n",
       "        var display = window.getComputedStyle(gd).display;\n",
       "        if (!display || display === 'none') {{\n",
       "            console.log([gd, 'removed!']);\n",
       "            Plotly.purge(gd);\n",
       "            observer.disconnect();\n",
       "        }}\n",
       "}});\n",
       "\n",
       "// Listen for the removal of the full notebook cells\n",
       "var notebookContainer = gd.closest('#notebook-container');\n",
       "if (notebookContainer) {{\n",
       "    x.observe(notebookContainer, {childList: true});\n",
       "}}\n",
       "\n",
       "// Listen for the clearing of the current output cell\n",
       "var outputEl = gd.closest('.output');\n",
       "if (outputEl) {{\n",
       "    x.observe(outputEl, {childList: true});\n",
       "}}\n",
       "\n",
       "                        })                };                });            </script>        </div>"
      ]
     },
     "metadata": {},
     "output_type": "display_data"
    }
   ],
   "source": [
    "trace1 = go.Bar(\n",
    "    x=df[\"sample\"],\n",
    "    y=df[df[\"qc\"]==\"pass\"][\"bases\"],\n",
    "    name=\"pass\",\n",
    "    marker={\"color\": \"blue\"})\n",
    "\n",
    "trace2 = go.Bar(\n",
    "    x=df[\"sample\"],\n",
    "    y=df[df[\"qc\"]==\"fail\"][\"bases\"],\n",
    "    name=\"fail\",\n",
    "    marker={\"color\": \"red\"})\n",
    "\n",
    "data = [trace1, trace2]\n",
    "layout = go.Layout(title=f\"{run_name} - Bases (bp)\", yaxis_title=\"Bases (bp)\")\n",
    "fig2 = go.Figure(data=data, layout=layout)\n",
    "fig2.show(config={'displaylogo':False}) # hide ploty logo\n",
    "##fig2.write_html(f\"{run_name} - MinION Bases.html\", config={'displaylogo':False})"
   ]
  },
  {
   "cell_type": "markdown",
   "id": "4c2dba24",
   "metadata": {},
   "source": [
    "## Percent"
   ]
  },
  {
   "cell_type": "code",
   "execution_count": 59,
   "id": "e3b79803",
   "metadata": {},
   "outputs": [
    {
     "data": {
      "text/plain": [
       "4595125"
      ]
     },
     "execution_count": 59,
     "metadata": {},
     "output_type": "execute_result"
    }
   ],
   "source": [
    "total_reads = sum(df[\"reads\"])\n",
    "total_reads"
   ]
  },
  {
   "cell_type": "code",
   "execution_count": 60,
   "id": "ec490cc9",
   "metadata": {},
   "outputs": [],
   "source": [
    "df[\"reads_perc\"] = df[\"reads\"] / total_reads * 100"
   ]
  },
  {
   "cell_type": "code",
   "execution_count": 61,
   "id": "d8b81a6e",
   "metadata": {},
   "outputs": [
    {
     "data": {
      "text/plain": [
       "6456111076.0"
      ]
     },
     "execution_count": 61,
     "metadata": {},
     "output_type": "execute_result"
    }
   ],
   "source": [
    "total_bases = sum(df[\"bases\"])\n",
    "total_bases"
   ]
  },
  {
   "cell_type": "code",
   "execution_count": 62,
   "id": "9a215c4f",
   "metadata": {},
   "outputs": [],
   "source": [
    "df[\"bases_perc\"] = df[\"bases\"] / total_bases * 100"
   ]
  },
  {
   "cell_type": "code",
   "execution_count": 63,
   "id": "d9dffae2",
   "metadata": {},
   "outputs": [
    {
     "data": {
      "text/html": [
       "<div>\n",
       "<style scoped>\n",
       "    .dataframe tbody tr th:only-of-type {\n",
       "        vertical-align: middle;\n",
       "    }\n",
       "\n",
       "    .dataframe tbody tr th {\n",
       "        vertical-align: top;\n",
       "    }\n",
       "\n",
       "    .dataframe thead th {\n",
       "        text-align: right;\n",
       "    }\n",
       "</style>\n",
       "<table border=\"1\" class=\"dataframe\">\n",
       "  <thead>\n",
       "    <tr style=\"text-align: right;\">\n",
       "      <th></th>\n",
       "      <th>sample</th>\n",
       "      <th>qc</th>\n",
       "      <th>reads</th>\n",
       "      <th>bases</th>\n",
       "      <th>reads_perc</th>\n",
       "      <th>bases_perc</th>\n",
       "    </tr>\n",
       "  </thead>\n",
       "  <tbody>\n",
       "    <tr>\n",
       "      <th>0</th>\n",
       "      <td>PAY002</td>\n",
       "      <td>fail</td>\n",
       "      <td>4371</td>\n",
       "      <td>5606222.0</td>\n",
       "      <td>0.095123</td>\n",
       "      <td>0.086836</td>\n",
       "    </tr>\n",
       "    <tr>\n",
       "      <th>1</th>\n",
       "      <td>PAY004</td>\n",
       "      <td>fail</td>\n",
       "      <td>8498</td>\n",
       "      <td>26436426.0</td>\n",
       "      <td>0.184935</td>\n",
       "      <td>0.409479</td>\n",
       "    </tr>\n",
       "    <tr>\n",
       "      <th>2</th>\n",
       "      <td>PAY005</td>\n",
       "      <td>fail</td>\n",
       "      <td>11408</td>\n",
       "      <td>45417195.0</td>\n",
       "      <td>0.248263</td>\n",
       "      <td>0.703476</td>\n",
       "    </tr>\n",
       "    <tr>\n",
       "      <th>3</th>\n",
       "      <td>PAY004_F1-R1</td>\n",
       "      <td>fail</td>\n",
       "      <td>30030</td>\n",
       "      <td>24660597.0</td>\n",
       "      <td>0.653519</td>\n",
       "      <td>0.381973</td>\n",
       "    </tr>\n",
       "    <tr>\n",
       "      <th>4</th>\n",
       "      <td>PAY011</td>\n",
       "      <td>fail</td>\n",
       "      <td>9502</td>\n",
       "      <td>19315887.0</td>\n",
       "      <td>0.206784</td>\n",
       "      <td>0.299188</td>\n",
       "    </tr>\n",
       "    <tr>\n",
       "      <th>...</th>\n",
       "      <td>...</td>\n",
       "      <td>...</td>\n",
       "      <td>...</td>\n",
       "      <td>...</td>\n",
       "      <td>...</td>\n",
       "      <td>...</td>\n",
       "    </tr>\n",
       "    <tr>\n",
       "      <th>189</th>\n",
       "      <td>barcode93</td>\n",
       "      <td>pass</td>\n",
       "      <td>2</td>\n",
       "      <td>2593.0</td>\n",
       "      <td>0.000044</td>\n",
       "      <td>0.000040</td>\n",
       "    </tr>\n",
       "    <tr>\n",
       "      <th>190</th>\n",
       "      <td>barcode94</td>\n",
       "      <td>pass</td>\n",
       "      <td>3</td>\n",
       "      <td>10084.0</td>\n",
       "      <td>0.000065</td>\n",
       "      <td>0.000156</td>\n",
       "    </tr>\n",
       "    <tr>\n",
       "      <th>191</th>\n",
       "      <td>barcode95</td>\n",
       "      <td>pass</td>\n",
       "      <td>3</td>\n",
       "      <td>8841.0</td>\n",
       "      <td>0.000065</td>\n",
       "      <td>0.000137</td>\n",
       "    </tr>\n",
       "    <tr>\n",
       "      <th>192</th>\n",
       "      <td>barcode96</td>\n",
       "      <td>pass</td>\n",
       "      <td>4</td>\n",
       "      <td>9131.0</td>\n",
       "      <td>0.000087</td>\n",
       "      <td>0.000141</td>\n",
       "    </tr>\n",
       "    <tr>\n",
       "      <th>193</th>\n",
       "      <td>unclassified</td>\n",
       "      <td>pass</td>\n",
       "      <td>61879</td>\n",
       "      <td>142797652.0</td>\n",
       "      <td>1.346623</td>\n",
       "      <td>2.211821</td>\n",
       "    </tr>\n",
       "  </tbody>\n",
       "</table>\n",
       "<p>194 rows × 6 columns</p>\n",
       "</div>"
      ],
      "text/plain": [
       "           sample    qc  reads        bases  reads_perc  bases_perc\n",
       "0          PAY002  fail   4371    5606222.0    0.095123    0.086836\n",
       "1          PAY004  fail   8498   26436426.0    0.184935    0.409479\n",
       "2          PAY005  fail  11408   45417195.0    0.248263    0.703476\n",
       "3    PAY004_F1-R1  fail  30030   24660597.0    0.653519    0.381973\n",
       "4          PAY011  fail   9502   19315887.0    0.206784    0.299188\n",
       "..            ...   ...    ...          ...         ...         ...\n",
       "189     barcode93  pass      2       2593.0    0.000044    0.000040\n",
       "190     barcode94  pass      3      10084.0    0.000065    0.000156\n",
       "191     barcode95  pass      3       8841.0    0.000065    0.000137\n",
       "192     barcode96  pass      4       9131.0    0.000087    0.000141\n",
       "193  unclassified  pass  61879  142797652.0    1.346623    2.211821\n",
       "\n",
       "[194 rows x 6 columns]"
      ]
     },
     "execution_count": 63,
     "metadata": {},
     "output_type": "execute_result"
    }
   ],
   "source": [
    "df"
   ]
  },
  {
   "cell_type": "code",
   "execution_count": 64,
   "id": "d7b47d51",
   "metadata": {},
   "outputs": [
    {
     "data": {
      "text/plain": [
       "100.0"
      ]
     },
     "execution_count": 64,
     "metadata": {},
     "output_type": "execute_result"
    }
   ],
   "source": [
    "sum( df[\"reads_perc\"] )"
   ]
  },
  {
   "cell_type": "code",
   "execution_count": 65,
   "id": "c8c6f1a1",
   "metadata": {},
   "outputs": [
    {
     "data": {
      "text/plain": [
       "100.0"
      ]
     },
     "execution_count": 65,
     "metadata": {},
     "output_type": "execute_result"
    }
   ],
   "source": [
    "sum( df[\"bases_perc\"] )"
   ]
  },
  {
   "cell_type": "code",
   "execution_count": 66,
   "id": "3f3e03a7",
   "metadata": {},
   "outputs": [
    {
     "data": {
      "application/vnd.plotly.v1+json": {
       "config": {
        "displaylogo": false,
        "plotlyServerURL": "https://plot.ly"
       },
       "data": [
        {
         "marker": {
          "color": "blue"
         },
         "name": "pass",
         "type": "bar",
         "x": [
          "PAY002",
          "PAY004",
          "PAY005",
          "PAY004_F1-R1",
          "PAY011",
          "PAY013",
          "PAY015",
          "PAY016",
          "PAY017",
          "PAY023",
          "PAY031",
          "PAY039",
          "PAY100",
          "Pad213_17",
          "LEC013",
          "LEC015",
          "LEC019",
          "LEC022",
          "LEC035",
          "LEC040",
          "LEC043",
          "LEC043_F1-R1",
          "LEC046",
          "LEC048",
          "VA33_211",
          "VA33_211_F1-R1",
          "VA33_213",
          "VA33_228",
          "VA33_235",
          "M00_234",
          "barcode31",
          "barcode32",
          "barcode33",
          "barcode34",
          "barcode35",
          "barcode36",
          "barcode37",
          "barcode38",
          "barcode39",
          "barcode40",
          "barcode41",
          "barcode42",
          "barcode43",
          "barcode44",
          "barcode45",
          "barcode46",
          "barcode47",
          "barcode48",
          "barcode49",
          "barcode50",
          "barcode51",
          "barcode52",
          "barcode53",
          "barcode54",
          "barcode55",
          "barcode56",
          "barcode57",
          "barcode58",
          "barcode59",
          "barcode60",
          "barcode61",
          "barcode62",
          "barcode63",
          "barcode64",
          "barcode65",
          "barcode66",
          "barcode67",
          "barcode68",
          "barcode69",
          "barcode70",
          "barcode71",
          "barcode72",
          "barcode73",
          "barcode74",
          "barcode75",
          "barcode76",
          "barcode77",
          "barcode78",
          "barcode79",
          "barcode80",
          "barcode81",
          "barcode82",
          "barcode83",
          "barcode84",
          "barcode85",
          "barcode86",
          "barcode87",
          "barcode88",
          "barcode89",
          "barcode90",
          "barcode91",
          "barcode92",
          "barcode93",
          "barcode94",
          "barcode95",
          "barcode96",
          "unclassified",
          "PAY002",
          "PAY004",
          "PAY005",
          "PAY004_F1-R1",
          "PAY011",
          "PAY013",
          "PAY015",
          "PAY016",
          "PAY017",
          "PAY023",
          "PAY031",
          "PAY039",
          "PAY100",
          "Pad213_17",
          "LEC013",
          "LEC015",
          "LEC019",
          "LEC022",
          "LEC035",
          "LEC040",
          "LEC043",
          "LEC043_F1-R1",
          "LEC046",
          "LEC048",
          "VA33_211",
          "VA33_211_F1-R1",
          "VA33_213",
          "VA33_228",
          "VA33_235",
          "M00_234",
          "barcode31",
          "barcode32",
          "barcode33",
          "barcode34",
          "barcode35",
          "barcode36",
          "barcode37",
          "barcode38",
          "barcode39",
          "barcode40",
          "barcode41",
          "barcode42",
          "barcode43",
          "barcode44",
          "barcode45",
          "barcode46",
          "barcode47",
          "barcode48",
          "barcode49",
          "barcode50",
          "barcode51",
          "barcode52",
          "barcode53",
          "barcode54",
          "barcode55",
          "barcode56",
          "barcode57",
          "barcode58",
          "barcode59",
          "barcode60",
          "barcode61",
          "barcode62",
          "barcode63",
          "barcode64",
          "barcode65",
          "barcode66",
          "barcode67",
          "barcode68",
          "barcode69",
          "barcode70",
          "barcode71",
          "barcode72",
          "barcode73",
          "barcode74",
          "barcode75",
          "barcode76",
          "barcode77",
          "barcode78",
          "barcode79",
          "barcode80",
          "barcode81",
          "barcode82",
          "barcode83",
          "barcode84",
          "barcode85",
          "barcode86",
          "barcode87",
          "barcode88",
          "barcode89",
          "barcode90",
          "barcode91",
          "barcode92",
          "barcode93",
          "barcode94",
          "barcode95",
          "barcode96",
          "unclassified"
         ],
         "y": [
          1.3119338429313674,
          1.4538233453932157,
          1.3629226626043907,
          7.068316966350208,
          2.717031636788988,
          3.889208672234161,
          1.9856043089143385,
          2.761905280052229,
          3.4902206142379155,
          1.7844128288131442,
          2.0204891053018144,
          2.1616604553739016,
          2.411490438236174,
          1.9496966894262941,
          2.293038818312886,
          1.6558417888523165,
          1.3666875221022279,
          0.8741655558880336,
          1.5316231876173119,
          2.661538043034738,
          0.878300372677566,
          13.562133783085335,
          1.8276978319414598,
          2.2263376948396396,
          0.9170153151437664,
          7.9873344033078535,
          0.5349582437909741,
          1.5622425940534805,
          0.6843339408612388,
          3.659856913576889,
          0.00017409754903294252,
          0.00028290851717853156,
          0.00030467071080764944,
          8.704877451647126e-05,
          6.528658088735345e-05,
          4.352438725823563e-05,
          6.528658088735345e-05,
          0.0002611463235494138,
          6.528658088735345e-05,
          4.352438725823563e-05,
          6.528658088735345e-05,
          0.00015233535540382472,
          2.1762193629117815e-05,
          6.528658088735345e-05,
          0.00017409754903294252,
          0.0007181523897608878,
          8.704877451647126e-05,
          0.00019585974266206032,
          8.704877451647126e-05,
          8.704877451647126e-05,
          4.352438725823563e-05,
          0.00010881096814558908,
          0.0001305731617747069,
          0.00019585974266206032,
          8.704877451647126e-05,
          0.0001305731617747069,
          6.528658088735345e-05,
          0.00019585974266206032,
          4.352438725823563e-05,
          0.00015233535540382472,
          8.704877451647126e-05,
          0.00010881096814558908,
          2.1762193629117815e-05,
          0.00017409754903294252,
          4.352438725823563e-05,
          0.00015233535540382472,
          0.00010881096814558908,
          4.352438725823563e-05,
          0.0017192132967003074,
          2.1762193629117815e-05,
          0.00015233535540382472,
          0.00015233535540382472,
          8.704877451647126e-05,
          0.00034819509806588504,
          6.528658088735345e-05,
          0.0004134816789532385,
          8.704877451647126e-05,
          0.00034819509806588504,
          8.704877451647126e-05,
          6.528658088735345e-05,
          6.528658088735345e-05,
          6.528658088735345e-05,
          0.0016104023285547183,
          0.00015233535540382472,
          2.1762193629117815e-05,
          8.704877451647126e-05,
          6.528658088735345e-05,
          2.1762193629117815e-05,
          0.00030467071080764944,
          2.1762193629117815e-05,
          8.704877451647126e-05,
          2.1762193629117815e-05,
          4.352438725823563e-05,
          6.528658088735345e-05,
          6.528658088735345e-05,
          8.704877451647126e-05,
          1.3466227795761814
         ]
        },
        {
         "marker": {
          "color": "red"
         },
         "name": "fail",
         "type": "bar",
         "x": [
          "PAY002",
          "PAY004",
          "PAY005",
          "PAY004_F1-R1",
          "PAY011",
          "PAY013",
          "PAY015",
          "PAY016",
          "PAY017",
          "PAY023",
          "PAY031",
          "PAY039",
          "PAY100",
          "Pad213_17",
          "LEC013",
          "LEC015",
          "LEC019",
          "LEC022",
          "LEC035",
          "LEC040",
          "LEC043",
          "LEC043_F1-R1",
          "LEC046",
          "LEC048",
          "VA33_211",
          "VA33_211_F1-R1",
          "VA33_213",
          "VA33_228",
          "VA33_235",
          "M00_234",
          "barcode31",
          "barcode32",
          "barcode33",
          "barcode34",
          "barcode35",
          "barcode36",
          "barcode37",
          "barcode38",
          "barcode39",
          "barcode40",
          "barcode41",
          "barcode42",
          "barcode43",
          "barcode44",
          "barcode45",
          "barcode46",
          "barcode47",
          "barcode48",
          "barcode49",
          "barcode50",
          "barcode51",
          "barcode52",
          "barcode53",
          "barcode54",
          "barcode55",
          "barcode56",
          "barcode57",
          "barcode58",
          "barcode59",
          "barcode60",
          "barcode61",
          "barcode62",
          "barcode63",
          "barcode64",
          "barcode65",
          "barcode66",
          "barcode67",
          "barcode68",
          "barcode69",
          "barcode70",
          "barcode71",
          "barcode72",
          "barcode73",
          "barcode74",
          "barcode75",
          "barcode76",
          "barcode77",
          "barcode78",
          "barcode79",
          "barcode80",
          "barcode81",
          "barcode82",
          "barcode83",
          "barcode84",
          "barcode85",
          "barcode86",
          "barcode87",
          "barcode88",
          "barcode89",
          "barcode90",
          "barcode91",
          "barcode92",
          "barcode93",
          "barcode94",
          "barcode95",
          "barcode96",
          "unclassified",
          "PAY002",
          "PAY004",
          "PAY005",
          "PAY004_F1-R1",
          "PAY011",
          "PAY013",
          "PAY015",
          "PAY016",
          "PAY017",
          "PAY023",
          "PAY031",
          "PAY039",
          "PAY100",
          "Pad213_17",
          "LEC013",
          "LEC015",
          "LEC019",
          "LEC022",
          "LEC035",
          "LEC040",
          "LEC043",
          "LEC043_F1-R1",
          "LEC046",
          "LEC048",
          "VA33_211",
          "VA33_211_F1-R1",
          "VA33_213",
          "VA33_228",
          "VA33_235",
          "M00_234",
          "barcode31",
          "barcode32",
          "barcode33",
          "barcode34",
          "barcode35",
          "barcode36",
          "barcode37",
          "barcode38",
          "barcode39",
          "barcode40",
          "barcode41",
          "barcode42",
          "barcode43",
          "barcode44",
          "barcode45",
          "barcode46",
          "barcode47",
          "barcode48",
          "barcode49",
          "barcode50",
          "barcode51",
          "barcode52",
          "barcode53",
          "barcode54",
          "barcode55",
          "barcode56",
          "barcode57",
          "barcode58",
          "barcode59",
          "barcode60",
          "barcode61",
          "barcode62",
          "barcode63",
          "barcode64",
          "barcode65",
          "barcode66",
          "barcode67",
          "barcode68",
          "barcode69",
          "barcode70",
          "barcode71",
          "barcode72",
          "barcode73",
          "barcode74",
          "barcode75",
          "barcode76",
          "barcode77",
          "barcode78",
          "barcode79",
          "barcode80",
          "barcode81",
          "barcode82",
          "barcode83",
          "barcode84",
          "barcode85",
          "barcode86",
          "barcode87",
          "barcode88",
          "barcode89",
          "barcode90",
          "barcode91",
          "barcode92",
          "barcode93",
          "barcode94",
          "barcode95",
          "barcode96",
          "unclassified"
         ],
         "y": [
          0.09512254835287397,
          0.18493512146024318,
          0.24826310492097603,
          0.653518674682408,
          0.2067843638638775,
          0.36362449334892955,
          0.2096134490356628,
          0.4978972280405865,
          0.2541171350072087,
          0.16963629933897337,
          0.15492505644568974,
          0.15277059927640707,
          0.3133103016784092,
          0.23779548978537035,
          0.22785016729686353,
          0.17242186012350044,
          0.17122493947389897,
          0.19649084627730473,
          0.21113680258970105,
          0.3759854193302685,
          0.27174451184679416,
          1.2566796333070374,
          0.3723511329942058,
          0.41966214194390794,
          0.045809417589293,
          0.6731699355295013,
          0.029944778433666115,
          0.08326215282500476,
          0.03364435135061614,
          0.21503223524931311,
          0.0027855607845270803,
          0.001414542585892658,
          0.0008487255515355948,
          0.0018062620712167785,
          0.0005440548407279454,
          0.0005658170343570631,
          0.001523353554038247,
          0.0012186828432305978,
          0.0010228231005685372,
          0.0004570060662114741,
          0.0005005304534697098,
          0.001545115747667365,
          0.0004570060662114741,
          0.00030467071080764944,
          0.0016321645221838363,
          0.0035254753679170863,
          0.0004134816789532385,
          0.001066347487826773,
          0.0011969206496014798,
          0.000826963357906477,
          0.00039171948532412063,
          0.001175158455972362,
          0.0013057316177470689,
          0.0010881096814558907,
          0.0007181523897608878,
          0.001175158455972362,
          0.00039171948532412063,
          0.0008052011642773591,
          0.0008922499387938303,
          0.0009140121324229482,
          0.0005658170343570631,
          0.0007399145833900057,
          0.00036995729169500286,
          0.0007834389706482413,
          0.0006528658088735344,
          0.0007399145833900057,
          0.0008487255515355948,
          0.0007399145833900057,
          0.004700633823889448,
          0.0005005304534697098,
          0.001066347487826773,
          0.001066347487826773,
          0.0007834389706482413,
          0.0018497864584750144,
          0.0010010609069394196,
          0.001283969424117951,
          0.0006528658088735344,
          0.001653926715812954,
          0.0006963901961317701,
          0.0017192132967003074,
          0.000587579227986181,
          0.0007181523897608878,
          0.001283969424117951,
          0.0010228231005685372,
          0.0005222926470988276,
          0.0005005304534697098,
          0.00028290851717853156,
          0.00043524387258235634,
          0.0011969206496014798,
          0.00010881096814558908,
          0.001414542585892658,
          0.00028290851717853156,
          0.00030467071080764944,
          0.0007616767770191235,
          0.0005440548407279454,
          0.001283969424117951,
          9.485378526155436
         ]
        }
       ],
       "layout": {
        "template": {
         "data": {
          "bar": [
           {
            "error_x": {
             "color": "#2a3f5f"
            },
            "error_y": {
             "color": "#2a3f5f"
            },
            "marker": {
             "line": {
              "color": "#E5ECF6",
              "width": 0.5
             },
             "pattern": {
              "fillmode": "overlay",
              "size": 10,
              "solidity": 0.2
             }
            },
            "type": "bar"
           }
          ],
          "barpolar": [
           {
            "marker": {
             "line": {
              "color": "#E5ECF6",
              "width": 0.5
             },
             "pattern": {
              "fillmode": "overlay",
              "size": 10,
              "solidity": 0.2
             }
            },
            "type": "barpolar"
           }
          ],
          "carpet": [
           {
            "aaxis": {
             "endlinecolor": "#2a3f5f",
             "gridcolor": "white",
             "linecolor": "white",
             "minorgridcolor": "white",
             "startlinecolor": "#2a3f5f"
            },
            "baxis": {
             "endlinecolor": "#2a3f5f",
             "gridcolor": "white",
             "linecolor": "white",
             "minorgridcolor": "white",
             "startlinecolor": "#2a3f5f"
            },
            "type": "carpet"
           }
          ],
          "choropleth": [
           {
            "colorbar": {
             "outlinewidth": 0,
             "ticks": ""
            },
            "type": "choropleth"
           }
          ],
          "contour": [
           {
            "colorbar": {
             "outlinewidth": 0,
             "ticks": ""
            },
            "colorscale": [
             [
              0,
              "#0d0887"
             ],
             [
              0.1111111111111111,
              "#46039f"
             ],
             [
              0.2222222222222222,
              "#7201a8"
             ],
             [
              0.3333333333333333,
              "#9c179e"
             ],
             [
              0.4444444444444444,
              "#bd3786"
             ],
             [
              0.5555555555555556,
              "#d8576b"
             ],
             [
              0.6666666666666666,
              "#ed7953"
             ],
             [
              0.7777777777777778,
              "#fb9f3a"
             ],
             [
              0.8888888888888888,
              "#fdca26"
             ],
             [
              1,
              "#f0f921"
             ]
            ],
            "type": "contour"
           }
          ],
          "contourcarpet": [
           {
            "colorbar": {
             "outlinewidth": 0,
             "ticks": ""
            },
            "type": "contourcarpet"
           }
          ],
          "heatmap": [
           {
            "colorbar": {
             "outlinewidth": 0,
             "ticks": ""
            },
            "colorscale": [
             [
              0,
              "#0d0887"
             ],
             [
              0.1111111111111111,
              "#46039f"
             ],
             [
              0.2222222222222222,
              "#7201a8"
             ],
             [
              0.3333333333333333,
              "#9c179e"
             ],
             [
              0.4444444444444444,
              "#bd3786"
             ],
             [
              0.5555555555555556,
              "#d8576b"
             ],
             [
              0.6666666666666666,
              "#ed7953"
             ],
             [
              0.7777777777777778,
              "#fb9f3a"
             ],
             [
              0.8888888888888888,
              "#fdca26"
             ],
             [
              1,
              "#f0f921"
             ]
            ],
            "type": "heatmap"
           }
          ],
          "heatmapgl": [
           {
            "colorbar": {
             "outlinewidth": 0,
             "ticks": ""
            },
            "colorscale": [
             [
              0,
              "#0d0887"
             ],
             [
              0.1111111111111111,
              "#46039f"
             ],
             [
              0.2222222222222222,
              "#7201a8"
             ],
             [
              0.3333333333333333,
              "#9c179e"
             ],
             [
              0.4444444444444444,
              "#bd3786"
             ],
             [
              0.5555555555555556,
              "#d8576b"
             ],
             [
              0.6666666666666666,
              "#ed7953"
             ],
             [
              0.7777777777777778,
              "#fb9f3a"
             ],
             [
              0.8888888888888888,
              "#fdca26"
             ],
             [
              1,
              "#f0f921"
             ]
            ],
            "type": "heatmapgl"
           }
          ],
          "histogram": [
           {
            "marker": {
             "pattern": {
              "fillmode": "overlay",
              "size": 10,
              "solidity": 0.2
             }
            },
            "type": "histogram"
           }
          ],
          "histogram2d": [
           {
            "colorbar": {
             "outlinewidth": 0,
             "ticks": ""
            },
            "colorscale": [
             [
              0,
              "#0d0887"
             ],
             [
              0.1111111111111111,
              "#46039f"
             ],
             [
              0.2222222222222222,
              "#7201a8"
             ],
             [
              0.3333333333333333,
              "#9c179e"
             ],
             [
              0.4444444444444444,
              "#bd3786"
             ],
             [
              0.5555555555555556,
              "#d8576b"
             ],
             [
              0.6666666666666666,
              "#ed7953"
             ],
             [
              0.7777777777777778,
              "#fb9f3a"
             ],
             [
              0.8888888888888888,
              "#fdca26"
             ],
             [
              1,
              "#f0f921"
             ]
            ],
            "type": "histogram2d"
           }
          ],
          "histogram2dcontour": [
           {
            "colorbar": {
             "outlinewidth": 0,
             "ticks": ""
            },
            "colorscale": [
             [
              0,
              "#0d0887"
             ],
             [
              0.1111111111111111,
              "#46039f"
             ],
             [
              0.2222222222222222,
              "#7201a8"
             ],
             [
              0.3333333333333333,
              "#9c179e"
             ],
             [
              0.4444444444444444,
              "#bd3786"
             ],
             [
              0.5555555555555556,
              "#d8576b"
             ],
             [
              0.6666666666666666,
              "#ed7953"
             ],
             [
              0.7777777777777778,
              "#fb9f3a"
             ],
             [
              0.8888888888888888,
              "#fdca26"
             ],
             [
              1,
              "#f0f921"
             ]
            ],
            "type": "histogram2dcontour"
           }
          ],
          "mesh3d": [
           {
            "colorbar": {
             "outlinewidth": 0,
             "ticks": ""
            },
            "type": "mesh3d"
           }
          ],
          "parcoords": [
           {
            "line": {
             "colorbar": {
              "outlinewidth": 0,
              "ticks": ""
             }
            },
            "type": "parcoords"
           }
          ],
          "pie": [
           {
            "automargin": true,
            "type": "pie"
           }
          ],
          "scatter": [
           {
            "fillpattern": {
             "fillmode": "overlay",
             "size": 10,
             "solidity": 0.2
            },
            "type": "scatter"
           }
          ],
          "scatter3d": [
           {
            "line": {
             "colorbar": {
              "outlinewidth": 0,
              "ticks": ""
             }
            },
            "marker": {
             "colorbar": {
              "outlinewidth": 0,
              "ticks": ""
             }
            },
            "type": "scatter3d"
           }
          ],
          "scattercarpet": [
           {
            "marker": {
             "colorbar": {
              "outlinewidth": 0,
              "ticks": ""
             }
            },
            "type": "scattercarpet"
           }
          ],
          "scattergeo": [
           {
            "marker": {
             "colorbar": {
              "outlinewidth": 0,
              "ticks": ""
             }
            },
            "type": "scattergeo"
           }
          ],
          "scattergl": [
           {
            "marker": {
             "colorbar": {
              "outlinewidth": 0,
              "ticks": ""
             }
            },
            "type": "scattergl"
           }
          ],
          "scattermapbox": [
           {
            "marker": {
             "colorbar": {
              "outlinewidth": 0,
              "ticks": ""
             }
            },
            "type": "scattermapbox"
           }
          ],
          "scatterpolar": [
           {
            "marker": {
             "colorbar": {
              "outlinewidth": 0,
              "ticks": ""
             }
            },
            "type": "scatterpolar"
           }
          ],
          "scatterpolargl": [
           {
            "marker": {
             "colorbar": {
              "outlinewidth": 0,
              "ticks": ""
             }
            },
            "type": "scatterpolargl"
           }
          ],
          "scatterternary": [
           {
            "marker": {
             "colorbar": {
              "outlinewidth": 0,
              "ticks": ""
             }
            },
            "type": "scatterternary"
           }
          ],
          "surface": [
           {
            "colorbar": {
             "outlinewidth": 0,
             "ticks": ""
            },
            "colorscale": [
             [
              0,
              "#0d0887"
             ],
             [
              0.1111111111111111,
              "#46039f"
             ],
             [
              0.2222222222222222,
              "#7201a8"
             ],
             [
              0.3333333333333333,
              "#9c179e"
             ],
             [
              0.4444444444444444,
              "#bd3786"
             ],
             [
              0.5555555555555556,
              "#d8576b"
             ],
             [
              0.6666666666666666,
              "#ed7953"
             ],
             [
              0.7777777777777778,
              "#fb9f3a"
             ],
             [
              0.8888888888888888,
              "#fdca26"
             ],
             [
              1,
              "#f0f921"
             ]
            ],
            "type": "surface"
           }
          ],
          "table": [
           {
            "cells": {
             "fill": {
              "color": "#EBF0F8"
             },
             "line": {
              "color": "white"
             }
            },
            "header": {
             "fill": {
              "color": "#C8D4E3"
             },
             "line": {
              "color": "white"
             }
            },
            "type": "table"
           }
          ]
         },
         "layout": {
          "annotationdefaults": {
           "arrowcolor": "#2a3f5f",
           "arrowhead": 0,
           "arrowwidth": 1
          },
          "autotypenumbers": "strict",
          "coloraxis": {
           "colorbar": {
            "outlinewidth": 0,
            "ticks": ""
           }
          },
          "colorscale": {
           "diverging": [
            [
             0,
             "#8e0152"
            ],
            [
             0.1,
             "#c51b7d"
            ],
            [
             0.2,
             "#de77ae"
            ],
            [
             0.3,
             "#f1b6da"
            ],
            [
             0.4,
             "#fde0ef"
            ],
            [
             0.5,
             "#f7f7f7"
            ],
            [
             0.6,
             "#e6f5d0"
            ],
            [
             0.7,
             "#b8e186"
            ],
            [
             0.8,
             "#7fbc41"
            ],
            [
             0.9,
             "#4d9221"
            ],
            [
             1,
             "#276419"
            ]
           ],
           "sequential": [
            [
             0,
             "#0d0887"
            ],
            [
             0.1111111111111111,
             "#46039f"
            ],
            [
             0.2222222222222222,
             "#7201a8"
            ],
            [
             0.3333333333333333,
             "#9c179e"
            ],
            [
             0.4444444444444444,
             "#bd3786"
            ],
            [
             0.5555555555555556,
             "#d8576b"
            ],
            [
             0.6666666666666666,
             "#ed7953"
            ],
            [
             0.7777777777777778,
             "#fb9f3a"
            ],
            [
             0.8888888888888888,
             "#fdca26"
            ],
            [
             1,
             "#f0f921"
            ]
           ],
           "sequentialminus": [
            [
             0,
             "#0d0887"
            ],
            [
             0.1111111111111111,
             "#46039f"
            ],
            [
             0.2222222222222222,
             "#7201a8"
            ],
            [
             0.3333333333333333,
             "#9c179e"
            ],
            [
             0.4444444444444444,
             "#bd3786"
            ],
            [
             0.5555555555555556,
             "#d8576b"
            ],
            [
             0.6666666666666666,
             "#ed7953"
            ],
            [
             0.7777777777777778,
             "#fb9f3a"
            ],
            [
             0.8888888888888888,
             "#fdca26"
            ],
            [
             1,
             "#f0f921"
            ]
           ]
          },
          "colorway": [
           "#636efa",
           "#EF553B",
           "#00cc96",
           "#ab63fa",
           "#FFA15A",
           "#19d3f3",
           "#FF6692",
           "#B6E880",
           "#FF97FF",
           "#FECB52"
          ],
          "font": {
           "color": "#2a3f5f"
          },
          "geo": {
           "bgcolor": "white",
           "lakecolor": "white",
           "landcolor": "#E5ECF6",
           "showlakes": true,
           "showland": true,
           "subunitcolor": "white"
          },
          "hoverlabel": {
           "align": "left"
          },
          "hovermode": "closest",
          "mapbox": {
           "style": "light"
          },
          "paper_bgcolor": "white",
          "plot_bgcolor": "#E5ECF6",
          "polar": {
           "angularaxis": {
            "gridcolor": "white",
            "linecolor": "white",
            "ticks": ""
           },
           "bgcolor": "#E5ECF6",
           "radialaxis": {
            "gridcolor": "white",
            "linecolor": "white",
            "ticks": ""
           }
          },
          "scene": {
           "xaxis": {
            "backgroundcolor": "#E5ECF6",
            "gridcolor": "white",
            "gridwidth": 2,
            "linecolor": "white",
            "showbackground": true,
            "ticks": "",
            "zerolinecolor": "white"
           },
           "yaxis": {
            "backgroundcolor": "#E5ECF6",
            "gridcolor": "white",
            "gridwidth": 2,
            "linecolor": "white",
            "showbackground": true,
            "ticks": "",
            "zerolinecolor": "white"
           },
           "zaxis": {
            "backgroundcolor": "#E5ECF6",
            "gridcolor": "white",
            "gridwidth": 2,
            "linecolor": "white",
            "showbackground": true,
            "ticks": "",
            "zerolinecolor": "white"
           }
          },
          "shapedefaults": {
           "line": {
            "color": "#2a3f5f"
           }
          },
          "ternary": {
           "aaxis": {
            "gridcolor": "white",
            "linecolor": "white",
            "ticks": ""
           },
           "baxis": {
            "gridcolor": "white",
            "linecolor": "white",
            "ticks": ""
           },
           "bgcolor": "#E5ECF6",
           "caxis": {
            "gridcolor": "white",
            "linecolor": "white",
            "ticks": ""
           }
          },
          "title": {
           "x": 0.05
          },
          "xaxis": {
           "automargin": true,
           "gridcolor": "white",
           "linecolor": "white",
           "ticks": "",
           "title": {
            "standoff": 15
           },
           "zerolinecolor": "white",
           "zerolinewidth": 2
          },
          "yaxis": {
           "automargin": true,
           "gridcolor": "white",
           "linecolor": "white",
           "ticks": "",
           "title": {
            "standoff": 15
           },
           "zerolinecolor": "white",
           "zerolinewidth": 2
          }
         }
        },
        "title": {
         "text": "001_20220412_FAME3 - Reads (%)"
        },
        "yaxis": {
         "title": {
          "text": "Reads (%)"
         }
        }
       }
      },
      "text/html": [
       "<div>                            <div id=\"e0c8c41b-ce27-4b06-a8c9-904499b8e478\" class=\"plotly-graph-div\" style=\"height:525px; width:100%;\"></div>            <script type=\"text/javascript\">                require([\"plotly\"], function(Plotly) {                    window.PLOTLYENV=window.PLOTLYENV || {};                                    if (document.getElementById(\"e0c8c41b-ce27-4b06-a8c9-904499b8e478\")) {                    Plotly.newPlot(                        \"e0c8c41b-ce27-4b06-a8c9-904499b8e478\",                        [{\"marker\":{\"color\":\"blue\"},\"name\":\"pass\",\"x\":[\"PAY002\",\"PAY004\",\"PAY005\",\"PAY004_F1-R1\",\"PAY011\",\"PAY013\",\"PAY015\",\"PAY016\",\"PAY017\",\"PAY023\",\"PAY031\",\"PAY039\",\"PAY100\",\"Pad213_17\",\"LEC013\",\"LEC015\",\"LEC019\",\"LEC022\",\"LEC035\",\"LEC040\",\"LEC043\",\"LEC043_F1-R1\",\"LEC046\",\"LEC048\",\"VA33_211\",\"VA33_211_F1-R1\",\"VA33_213\",\"VA33_228\",\"VA33_235\",\"M00_234\",\"barcode31\",\"barcode32\",\"barcode33\",\"barcode34\",\"barcode35\",\"barcode36\",\"barcode37\",\"barcode38\",\"barcode39\",\"barcode40\",\"barcode41\",\"barcode42\",\"barcode43\",\"barcode44\",\"barcode45\",\"barcode46\",\"barcode47\",\"barcode48\",\"barcode49\",\"barcode50\",\"barcode51\",\"barcode52\",\"barcode53\",\"barcode54\",\"barcode55\",\"barcode56\",\"barcode57\",\"barcode58\",\"barcode59\",\"barcode60\",\"barcode61\",\"barcode62\",\"barcode63\",\"barcode64\",\"barcode65\",\"barcode66\",\"barcode67\",\"barcode68\",\"barcode69\",\"barcode70\",\"barcode71\",\"barcode72\",\"barcode73\",\"barcode74\",\"barcode75\",\"barcode76\",\"barcode77\",\"barcode78\",\"barcode79\",\"barcode80\",\"barcode81\",\"barcode82\",\"barcode83\",\"barcode84\",\"barcode85\",\"barcode86\",\"barcode87\",\"barcode88\",\"barcode89\",\"barcode90\",\"barcode91\",\"barcode92\",\"barcode93\",\"barcode94\",\"barcode95\",\"barcode96\",\"unclassified\",\"PAY002\",\"PAY004\",\"PAY005\",\"PAY004_F1-R1\",\"PAY011\",\"PAY013\",\"PAY015\",\"PAY016\",\"PAY017\",\"PAY023\",\"PAY031\",\"PAY039\",\"PAY100\",\"Pad213_17\",\"LEC013\",\"LEC015\",\"LEC019\",\"LEC022\",\"LEC035\",\"LEC040\",\"LEC043\",\"LEC043_F1-R1\",\"LEC046\",\"LEC048\",\"VA33_211\",\"VA33_211_F1-R1\",\"VA33_213\",\"VA33_228\",\"VA33_235\",\"M00_234\",\"barcode31\",\"barcode32\",\"barcode33\",\"barcode34\",\"barcode35\",\"barcode36\",\"barcode37\",\"barcode38\",\"barcode39\",\"barcode40\",\"barcode41\",\"barcode42\",\"barcode43\",\"barcode44\",\"barcode45\",\"barcode46\",\"barcode47\",\"barcode48\",\"barcode49\",\"barcode50\",\"barcode51\",\"barcode52\",\"barcode53\",\"barcode54\",\"barcode55\",\"barcode56\",\"barcode57\",\"barcode58\",\"barcode59\",\"barcode60\",\"barcode61\",\"barcode62\",\"barcode63\",\"barcode64\",\"barcode65\",\"barcode66\",\"barcode67\",\"barcode68\",\"barcode69\",\"barcode70\",\"barcode71\",\"barcode72\",\"barcode73\",\"barcode74\",\"barcode75\",\"barcode76\",\"barcode77\",\"barcode78\",\"barcode79\",\"barcode80\",\"barcode81\",\"barcode82\",\"barcode83\",\"barcode84\",\"barcode85\",\"barcode86\",\"barcode87\",\"barcode88\",\"barcode89\",\"barcode90\",\"barcode91\",\"barcode92\",\"barcode93\",\"barcode94\",\"barcode95\",\"barcode96\",\"unclassified\"],\"y\":[1.3119338429313674,1.4538233453932157,1.3629226626043907,7.068316966350208,2.717031636788988,3.889208672234161,1.9856043089143385,2.761905280052229,3.4902206142379155,1.7844128288131442,2.0204891053018144,2.1616604553739016,2.411490438236174,1.9496966894262941,2.293038818312886,1.6558417888523165,1.3666875221022279,0.8741655558880336,1.5316231876173119,2.661538043034738,0.878300372677566,13.562133783085335,1.8276978319414598,2.2263376948396396,0.9170153151437664,7.9873344033078535,0.5349582437909741,1.5622425940534805,0.6843339408612388,3.659856913576889,0.00017409754903294252,0.00028290851717853156,0.00030467071080764944,8.704877451647126e-05,6.528658088735345e-05,4.352438725823563e-05,6.528658088735345e-05,0.0002611463235494138,6.528658088735345e-05,4.352438725823563e-05,6.528658088735345e-05,0.00015233535540382472,2.1762193629117815e-05,6.528658088735345e-05,0.00017409754903294252,0.0007181523897608878,8.704877451647126e-05,0.00019585974266206032,8.704877451647126e-05,8.704877451647126e-05,4.352438725823563e-05,0.00010881096814558908,0.0001305731617747069,0.00019585974266206032,8.704877451647126e-05,0.0001305731617747069,6.528658088735345e-05,0.00019585974266206032,4.352438725823563e-05,0.00015233535540382472,8.704877451647126e-05,0.00010881096814558908,2.1762193629117815e-05,0.00017409754903294252,4.352438725823563e-05,0.00015233535540382472,0.00010881096814558908,4.352438725823563e-05,0.0017192132967003074,2.1762193629117815e-05,0.00015233535540382472,0.00015233535540382472,8.704877451647126e-05,0.00034819509806588504,6.528658088735345e-05,0.0004134816789532385,8.704877451647126e-05,0.00034819509806588504,8.704877451647126e-05,6.528658088735345e-05,6.528658088735345e-05,6.528658088735345e-05,0.0016104023285547183,0.00015233535540382472,2.1762193629117815e-05,8.704877451647126e-05,6.528658088735345e-05,2.1762193629117815e-05,0.00030467071080764944,2.1762193629117815e-05,8.704877451647126e-05,2.1762193629117815e-05,4.352438725823563e-05,6.528658088735345e-05,6.528658088735345e-05,8.704877451647126e-05,1.3466227795761814],\"type\":\"bar\"},{\"marker\":{\"color\":\"red\"},\"name\":\"fail\",\"x\":[\"PAY002\",\"PAY004\",\"PAY005\",\"PAY004_F1-R1\",\"PAY011\",\"PAY013\",\"PAY015\",\"PAY016\",\"PAY017\",\"PAY023\",\"PAY031\",\"PAY039\",\"PAY100\",\"Pad213_17\",\"LEC013\",\"LEC015\",\"LEC019\",\"LEC022\",\"LEC035\",\"LEC040\",\"LEC043\",\"LEC043_F1-R1\",\"LEC046\",\"LEC048\",\"VA33_211\",\"VA33_211_F1-R1\",\"VA33_213\",\"VA33_228\",\"VA33_235\",\"M00_234\",\"barcode31\",\"barcode32\",\"barcode33\",\"barcode34\",\"barcode35\",\"barcode36\",\"barcode37\",\"barcode38\",\"barcode39\",\"barcode40\",\"barcode41\",\"barcode42\",\"barcode43\",\"barcode44\",\"barcode45\",\"barcode46\",\"barcode47\",\"barcode48\",\"barcode49\",\"barcode50\",\"barcode51\",\"barcode52\",\"barcode53\",\"barcode54\",\"barcode55\",\"barcode56\",\"barcode57\",\"barcode58\",\"barcode59\",\"barcode60\",\"barcode61\",\"barcode62\",\"barcode63\",\"barcode64\",\"barcode65\",\"barcode66\",\"barcode67\",\"barcode68\",\"barcode69\",\"barcode70\",\"barcode71\",\"barcode72\",\"barcode73\",\"barcode74\",\"barcode75\",\"barcode76\",\"barcode77\",\"barcode78\",\"barcode79\",\"barcode80\",\"barcode81\",\"barcode82\",\"barcode83\",\"barcode84\",\"barcode85\",\"barcode86\",\"barcode87\",\"barcode88\",\"barcode89\",\"barcode90\",\"barcode91\",\"barcode92\",\"barcode93\",\"barcode94\",\"barcode95\",\"barcode96\",\"unclassified\",\"PAY002\",\"PAY004\",\"PAY005\",\"PAY004_F1-R1\",\"PAY011\",\"PAY013\",\"PAY015\",\"PAY016\",\"PAY017\",\"PAY023\",\"PAY031\",\"PAY039\",\"PAY100\",\"Pad213_17\",\"LEC013\",\"LEC015\",\"LEC019\",\"LEC022\",\"LEC035\",\"LEC040\",\"LEC043\",\"LEC043_F1-R1\",\"LEC046\",\"LEC048\",\"VA33_211\",\"VA33_211_F1-R1\",\"VA33_213\",\"VA33_228\",\"VA33_235\",\"M00_234\",\"barcode31\",\"barcode32\",\"barcode33\",\"barcode34\",\"barcode35\",\"barcode36\",\"barcode37\",\"barcode38\",\"barcode39\",\"barcode40\",\"barcode41\",\"barcode42\",\"barcode43\",\"barcode44\",\"barcode45\",\"barcode46\",\"barcode47\",\"barcode48\",\"barcode49\",\"barcode50\",\"barcode51\",\"barcode52\",\"barcode53\",\"barcode54\",\"barcode55\",\"barcode56\",\"barcode57\",\"barcode58\",\"barcode59\",\"barcode60\",\"barcode61\",\"barcode62\",\"barcode63\",\"barcode64\",\"barcode65\",\"barcode66\",\"barcode67\",\"barcode68\",\"barcode69\",\"barcode70\",\"barcode71\",\"barcode72\",\"barcode73\",\"barcode74\",\"barcode75\",\"barcode76\",\"barcode77\",\"barcode78\",\"barcode79\",\"barcode80\",\"barcode81\",\"barcode82\",\"barcode83\",\"barcode84\",\"barcode85\",\"barcode86\",\"barcode87\",\"barcode88\",\"barcode89\",\"barcode90\",\"barcode91\",\"barcode92\",\"barcode93\",\"barcode94\",\"barcode95\",\"barcode96\",\"unclassified\"],\"y\":[0.09512254835287397,0.18493512146024318,0.24826310492097603,0.653518674682408,0.2067843638638775,0.36362449334892955,0.2096134490356628,0.4978972280405865,0.2541171350072087,0.16963629933897337,0.15492505644568974,0.15277059927640707,0.3133103016784092,0.23779548978537035,0.22785016729686353,0.17242186012350044,0.17122493947389897,0.19649084627730473,0.21113680258970105,0.3759854193302685,0.27174451184679416,1.2566796333070374,0.3723511329942058,0.41966214194390794,0.045809417589293,0.6731699355295013,0.029944778433666115,0.08326215282500476,0.03364435135061614,0.21503223524931311,0.0027855607845270803,0.001414542585892658,0.0008487255515355948,0.0018062620712167785,0.0005440548407279454,0.0005658170343570631,0.001523353554038247,0.0012186828432305978,0.0010228231005685372,0.0004570060662114741,0.0005005304534697098,0.001545115747667365,0.0004570060662114741,0.00030467071080764944,0.0016321645221838363,0.0035254753679170863,0.0004134816789532385,0.001066347487826773,0.0011969206496014798,0.000826963357906477,0.00039171948532412063,0.001175158455972362,0.0013057316177470689,0.0010881096814558907,0.0007181523897608878,0.001175158455972362,0.00039171948532412063,0.0008052011642773591,0.0008922499387938303,0.0009140121324229482,0.0005658170343570631,0.0007399145833900057,0.00036995729169500286,0.0007834389706482413,0.0006528658088735344,0.0007399145833900057,0.0008487255515355948,0.0007399145833900057,0.004700633823889448,0.0005005304534697098,0.001066347487826773,0.001066347487826773,0.0007834389706482413,0.0018497864584750144,0.0010010609069394196,0.001283969424117951,0.0006528658088735344,0.001653926715812954,0.0006963901961317701,0.0017192132967003074,0.000587579227986181,0.0007181523897608878,0.001283969424117951,0.0010228231005685372,0.0005222926470988276,0.0005005304534697098,0.00028290851717853156,0.00043524387258235634,0.0011969206496014798,0.00010881096814558908,0.001414542585892658,0.00028290851717853156,0.00030467071080764944,0.0007616767770191235,0.0005440548407279454,0.001283969424117951,9.485378526155436],\"type\":\"bar\"}],                        {\"title\":{\"text\":\"001_20220412_FAME3 - Reads (%)\"},\"yaxis\":{\"title\":{\"text\":\"Reads (%)\"}},\"template\":{\"data\":{\"histogram2dcontour\":[{\"type\":\"histogram2dcontour\",\"colorbar\":{\"outlinewidth\":0,\"ticks\":\"\"},\"colorscale\":[[0.0,\"#0d0887\"],[0.1111111111111111,\"#46039f\"],[0.2222222222222222,\"#7201a8\"],[0.3333333333333333,\"#9c179e\"],[0.4444444444444444,\"#bd3786\"],[0.5555555555555556,\"#d8576b\"],[0.6666666666666666,\"#ed7953\"],[0.7777777777777778,\"#fb9f3a\"],[0.8888888888888888,\"#fdca26\"],[1.0,\"#f0f921\"]]}],\"choropleth\":[{\"type\":\"choropleth\",\"colorbar\":{\"outlinewidth\":0,\"ticks\":\"\"}}],\"histogram2d\":[{\"type\":\"histogram2d\",\"colorbar\":{\"outlinewidth\":0,\"ticks\":\"\"},\"colorscale\":[[0.0,\"#0d0887\"],[0.1111111111111111,\"#46039f\"],[0.2222222222222222,\"#7201a8\"],[0.3333333333333333,\"#9c179e\"],[0.4444444444444444,\"#bd3786\"],[0.5555555555555556,\"#d8576b\"],[0.6666666666666666,\"#ed7953\"],[0.7777777777777778,\"#fb9f3a\"],[0.8888888888888888,\"#fdca26\"],[1.0,\"#f0f921\"]]}],\"heatmap\":[{\"type\":\"heatmap\",\"colorbar\":{\"outlinewidth\":0,\"ticks\":\"\"},\"colorscale\":[[0.0,\"#0d0887\"],[0.1111111111111111,\"#46039f\"],[0.2222222222222222,\"#7201a8\"],[0.3333333333333333,\"#9c179e\"],[0.4444444444444444,\"#bd3786\"],[0.5555555555555556,\"#d8576b\"],[0.6666666666666666,\"#ed7953\"],[0.7777777777777778,\"#fb9f3a\"],[0.8888888888888888,\"#fdca26\"],[1.0,\"#f0f921\"]]}],\"heatmapgl\":[{\"type\":\"heatmapgl\",\"colorbar\":{\"outlinewidth\":0,\"ticks\":\"\"},\"colorscale\":[[0.0,\"#0d0887\"],[0.1111111111111111,\"#46039f\"],[0.2222222222222222,\"#7201a8\"],[0.3333333333333333,\"#9c179e\"],[0.4444444444444444,\"#bd3786\"],[0.5555555555555556,\"#d8576b\"],[0.6666666666666666,\"#ed7953\"],[0.7777777777777778,\"#fb9f3a\"],[0.8888888888888888,\"#fdca26\"],[1.0,\"#f0f921\"]]}],\"contourcarpet\":[{\"type\":\"contourcarpet\",\"colorbar\":{\"outlinewidth\":0,\"ticks\":\"\"}}],\"contour\":[{\"type\":\"contour\",\"colorbar\":{\"outlinewidth\":0,\"ticks\":\"\"},\"colorscale\":[[0.0,\"#0d0887\"],[0.1111111111111111,\"#46039f\"],[0.2222222222222222,\"#7201a8\"],[0.3333333333333333,\"#9c179e\"],[0.4444444444444444,\"#bd3786\"],[0.5555555555555556,\"#d8576b\"],[0.6666666666666666,\"#ed7953\"],[0.7777777777777778,\"#fb9f3a\"],[0.8888888888888888,\"#fdca26\"],[1.0,\"#f0f921\"]]}],\"surface\":[{\"type\":\"surface\",\"colorbar\":{\"outlinewidth\":0,\"ticks\":\"\"},\"colorscale\":[[0.0,\"#0d0887\"],[0.1111111111111111,\"#46039f\"],[0.2222222222222222,\"#7201a8\"],[0.3333333333333333,\"#9c179e\"],[0.4444444444444444,\"#bd3786\"],[0.5555555555555556,\"#d8576b\"],[0.6666666666666666,\"#ed7953\"],[0.7777777777777778,\"#fb9f3a\"],[0.8888888888888888,\"#fdca26\"],[1.0,\"#f0f921\"]]}],\"mesh3d\":[{\"type\":\"mesh3d\",\"colorbar\":{\"outlinewidth\":0,\"ticks\":\"\"}}],\"scatter\":[{\"fillpattern\":{\"fillmode\":\"overlay\",\"size\":10,\"solidity\":0.2},\"type\":\"scatter\"}],\"parcoords\":[{\"type\":\"parcoords\",\"line\":{\"colorbar\":{\"outlinewidth\":0,\"ticks\":\"\"}}}],\"scatterpolargl\":[{\"type\":\"scatterpolargl\",\"marker\":{\"colorbar\":{\"outlinewidth\":0,\"ticks\":\"\"}}}],\"bar\":[{\"error_x\":{\"color\":\"#2a3f5f\"},\"error_y\":{\"color\":\"#2a3f5f\"},\"marker\":{\"line\":{\"color\":\"#E5ECF6\",\"width\":0.5},\"pattern\":{\"fillmode\":\"overlay\",\"size\":10,\"solidity\":0.2}},\"type\":\"bar\"}],\"scattergeo\":[{\"type\":\"scattergeo\",\"marker\":{\"colorbar\":{\"outlinewidth\":0,\"ticks\":\"\"}}}],\"scatterpolar\":[{\"type\":\"scatterpolar\",\"marker\":{\"colorbar\":{\"outlinewidth\":0,\"ticks\":\"\"}}}],\"histogram\":[{\"marker\":{\"pattern\":{\"fillmode\":\"overlay\",\"size\":10,\"solidity\":0.2}},\"type\":\"histogram\"}],\"scattergl\":[{\"type\":\"scattergl\",\"marker\":{\"colorbar\":{\"outlinewidth\":0,\"ticks\":\"\"}}}],\"scatter3d\":[{\"type\":\"scatter3d\",\"line\":{\"colorbar\":{\"outlinewidth\":0,\"ticks\":\"\"}},\"marker\":{\"colorbar\":{\"outlinewidth\":0,\"ticks\":\"\"}}}],\"scattermapbox\":[{\"type\":\"scattermapbox\",\"marker\":{\"colorbar\":{\"outlinewidth\":0,\"ticks\":\"\"}}}],\"scatterternary\":[{\"type\":\"scatterternary\",\"marker\":{\"colorbar\":{\"outlinewidth\":0,\"ticks\":\"\"}}}],\"scattercarpet\":[{\"type\":\"scattercarpet\",\"marker\":{\"colorbar\":{\"outlinewidth\":0,\"ticks\":\"\"}}}],\"carpet\":[{\"aaxis\":{\"endlinecolor\":\"#2a3f5f\",\"gridcolor\":\"white\",\"linecolor\":\"white\",\"minorgridcolor\":\"white\",\"startlinecolor\":\"#2a3f5f\"},\"baxis\":{\"endlinecolor\":\"#2a3f5f\",\"gridcolor\":\"white\",\"linecolor\":\"white\",\"minorgridcolor\":\"white\",\"startlinecolor\":\"#2a3f5f\"},\"type\":\"carpet\"}],\"table\":[{\"cells\":{\"fill\":{\"color\":\"#EBF0F8\"},\"line\":{\"color\":\"white\"}},\"header\":{\"fill\":{\"color\":\"#C8D4E3\"},\"line\":{\"color\":\"white\"}},\"type\":\"table\"}],\"barpolar\":[{\"marker\":{\"line\":{\"color\":\"#E5ECF6\",\"width\":0.5},\"pattern\":{\"fillmode\":\"overlay\",\"size\":10,\"solidity\":0.2}},\"type\":\"barpolar\"}],\"pie\":[{\"automargin\":true,\"type\":\"pie\"}]},\"layout\":{\"autotypenumbers\":\"strict\",\"colorway\":[\"#636efa\",\"#EF553B\",\"#00cc96\",\"#ab63fa\",\"#FFA15A\",\"#19d3f3\",\"#FF6692\",\"#B6E880\",\"#FF97FF\",\"#FECB52\"],\"font\":{\"color\":\"#2a3f5f\"},\"hovermode\":\"closest\",\"hoverlabel\":{\"align\":\"left\"},\"paper_bgcolor\":\"white\",\"plot_bgcolor\":\"#E5ECF6\",\"polar\":{\"bgcolor\":\"#E5ECF6\",\"angularaxis\":{\"gridcolor\":\"white\",\"linecolor\":\"white\",\"ticks\":\"\"},\"radialaxis\":{\"gridcolor\":\"white\",\"linecolor\":\"white\",\"ticks\":\"\"}},\"ternary\":{\"bgcolor\":\"#E5ECF6\",\"aaxis\":{\"gridcolor\":\"white\",\"linecolor\":\"white\",\"ticks\":\"\"},\"baxis\":{\"gridcolor\":\"white\",\"linecolor\":\"white\",\"ticks\":\"\"},\"caxis\":{\"gridcolor\":\"white\",\"linecolor\":\"white\",\"ticks\":\"\"}},\"coloraxis\":{\"colorbar\":{\"outlinewidth\":0,\"ticks\":\"\"}},\"colorscale\":{\"sequential\":[[0.0,\"#0d0887\"],[0.1111111111111111,\"#46039f\"],[0.2222222222222222,\"#7201a8\"],[0.3333333333333333,\"#9c179e\"],[0.4444444444444444,\"#bd3786\"],[0.5555555555555556,\"#d8576b\"],[0.6666666666666666,\"#ed7953\"],[0.7777777777777778,\"#fb9f3a\"],[0.8888888888888888,\"#fdca26\"],[1.0,\"#f0f921\"]],\"sequentialminus\":[[0.0,\"#0d0887\"],[0.1111111111111111,\"#46039f\"],[0.2222222222222222,\"#7201a8\"],[0.3333333333333333,\"#9c179e\"],[0.4444444444444444,\"#bd3786\"],[0.5555555555555556,\"#d8576b\"],[0.6666666666666666,\"#ed7953\"],[0.7777777777777778,\"#fb9f3a\"],[0.8888888888888888,\"#fdca26\"],[1.0,\"#f0f921\"]],\"diverging\":[[0,\"#8e0152\"],[0.1,\"#c51b7d\"],[0.2,\"#de77ae\"],[0.3,\"#f1b6da\"],[0.4,\"#fde0ef\"],[0.5,\"#f7f7f7\"],[0.6,\"#e6f5d0\"],[0.7,\"#b8e186\"],[0.8,\"#7fbc41\"],[0.9,\"#4d9221\"],[1,\"#276419\"]]},\"xaxis\":{\"gridcolor\":\"white\",\"linecolor\":\"white\",\"ticks\":\"\",\"title\":{\"standoff\":15},\"zerolinecolor\":\"white\",\"automargin\":true,\"zerolinewidth\":2},\"yaxis\":{\"gridcolor\":\"white\",\"linecolor\":\"white\",\"ticks\":\"\",\"title\":{\"standoff\":15},\"zerolinecolor\":\"white\",\"automargin\":true,\"zerolinewidth\":2},\"scene\":{\"xaxis\":{\"backgroundcolor\":\"#E5ECF6\",\"gridcolor\":\"white\",\"linecolor\":\"white\",\"showbackground\":true,\"ticks\":\"\",\"zerolinecolor\":\"white\",\"gridwidth\":2},\"yaxis\":{\"backgroundcolor\":\"#E5ECF6\",\"gridcolor\":\"white\",\"linecolor\":\"white\",\"showbackground\":true,\"ticks\":\"\",\"zerolinecolor\":\"white\",\"gridwidth\":2},\"zaxis\":{\"backgroundcolor\":\"#E5ECF6\",\"gridcolor\":\"white\",\"linecolor\":\"white\",\"showbackground\":true,\"ticks\":\"\",\"zerolinecolor\":\"white\",\"gridwidth\":2}},\"shapedefaults\":{\"line\":{\"color\":\"#2a3f5f\"}},\"annotationdefaults\":{\"arrowcolor\":\"#2a3f5f\",\"arrowhead\":0,\"arrowwidth\":1},\"geo\":{\"bgcolor\":\"white\",\"landcolor\":\"#E5ECF6\",\"subunitcolor\":\"white\",\"showland\":true,\"showlakes\":true,\"lakecolor\":\"white\"},\"title\":{\"x\":0.05},\"mapbox\":{\"style\":\"light\"}}}},                        {\"displaylogo\": false, \"responsive\": true}                    ).then(function(){\n",
       "                            \n",
       "var gd = document.getElementById('e0c8c41b-ce27-4b06-a8c9-904499b8e478');\n",
       "var x = new MutationObserver(function (mutations, observer) {{\n",
       "        var display = window.getComputedStyle(gd).display;\n",
       "        if (!display || display === 'none') {{\n",
       "            console.log([gd, 'removed!']);\n",
       "            Plotly.purge(gd);\n",
       "            observer.disconnect();\n",
       "        }}\n",
       "}});\n",
       "\n",
       "// Listen for the removal of the full notebook cells\n",
       "var notebookContainer = gd.closest('#notebook-container');\n",
       "if (notebookContainer) {{\n",
       "    x.observe(notebookContainer, {childList: true});\n",
       "}}\n",
       "\n",
       "// Listen for the clearing of the current output cell\n",
       "var outputEl = gd.closest('.output');\n",
       "if (outputEl) {{\n",
       "    x.observe(outputEl, {childList: true});\n",
       "}}\n",
       "\n",
       "                        })                };                });            </script>        </div>"
      ]
     },
     "metadata": {},
     "output_type": "display_data"
    }
   ],
   "source": [
    "trace1 = go.Bar(\n",
    "    x=df[\"sample\"],\n",
    "    y=df[df[\"qc\"]==\"pass\"][\"reads_perc\"],\n",
    "    name=\"pass\",\n",
    "    marker={\"color\": \"blue\"})\n",
    "\n",
    "trace2 = go.Bar(\n",
    "    x=df[\"sample\"],\n",
    "    y=df[df[\"qc\"]==\"fail\"][\"reads_perc\"],\n",
    "    name=\"fail\",\n",
    "    marker={\"color\": \"red\"})\n",
    "\n",
    "data = [trace1, trace2]\n",
    "layout = go.Layout(title=f\"{run_name} - Reads (%)\", yaxis_title=\"Reads (%)\")\n",
    "fig3 = go.Figure(data=data, layout=layout)\n",
    "fig3.show(config={'displaylogo':False}) # hide ploty logo\n",
    "##fig3.write_html(f\"{run_name} - MinION Reads perc.html\", config={'displaylogo':False})"
   ]
  },
  {
   "cell_type": "code",
   "execution_count": 67,
   "id": "92f56bb9",
   "metadata": {},
   "outputs": [
    {
     "data": {
      "application/vnd.plotly.v1+json": {
       "config": {
        "displaylogo": false,
        "plotlyServerURL": "https://plot.ly"
       },
       "data": [
        {
         "marker": {
          "color": "blue"
         },
         "name": "pass",
         "type": "bar",
         "x": [
          "PAY002",
          "PAY004",
          "PAY005",
          "PAY004_F1-R1",
          "PAY011",
          "PAY013",
          "PAY015",
          "PAY016",
          "PAY017",
          "PAY023",
          "PAY031",
          "PAY039",
          "PAY100",
          "Pad213_17",
          "LEC013",
          "LEC015",
          "LEC019",
          "LEC022",
          "LEC035",
          "LEC040",
          "LEC043",
          "LEC043_F1-R1",
          "LEC046",
          "LEC048",
          "VA33_211",
          "VA33_211_F1-R1",
          "VA33_213",
          "VA33_228",
          "VA33_235",
          "M00_234",
          "barcode31",
          "barcode32",
          "barcode33",
          "barcode34",
          "barcode35",
          "barcode36",
          "barcode37",
          "barcode38",
          "barcode39",
          "barcode40",
          "barcode41",
          "barcode42",
          "barcode43",
          "barcode44",
          "barcode45",
          "barcode46",
          "barcode47",
          "barcode48",
          "barcode49",
          "barcode50",
          "barcode51",
          "barcode52",
          "barcode53",
          "barcode54",
          "barcode55",
          "barcode56",
          "barcode57",
          "barcode58",
          "barcode59",
          "barcode60",
          "barcode61",
          "barcode62",
          "barcode63",
          "barcode64",
          "barcode65",
          "barcode66",
          "barcode67",
          "barcode68",
          "barcode69",
          "barcode70",
          "barcode71",
          "barcode72",
          "barcode73",
          "barcode74",
          "barcode75",
          "barcode76",
          "barcode77",
          "barcode78",
          "barcode79",
          "barcode80",
          "barcode81",
          "barcode82",
          "barcode83",
          "barcode84",
          "barcode85",
          "barcode86",
          "barcode87",
          "barcode88",
          "barcode89",
          "barcode90",
          "barcode91",
          "barcode92",
          "barcode93",
          "barcode94",
          "barcode95",
          "barcode96",
          "unclassified",
          "PAY002",
          "PAY004",
          "PAY005",
          "PAY004_F1-R1",
          "PAY011",
          "PAY013",
          "PAY015",
          "PAY016",
          "PAY017",
          "PAY023",
          "PAY031",
          "PAY039",
          "PAY100",
          "Pad213_17",
          "LEC013",
          "LEC015",
          "LEC019",
          "LEC022",
          "LEC035",
          "LEC040",
          "LEC043",
          "LEC043_F1-R1",
          "LEC046",
          "LEC048",
          "VA33_211",
          "VA33_211_F1-R1",
          "VA33_213",
          "VA33_228",
          "VA33_235",
          "M00_234",
          "barcode31",
          "barcode32",
          "barcode33",
          "barcode34",
          "barcode35",
          "barcode36",
          "barcode37",
          "barcode38",
          "barcode39",
          "barcode40",
          "barcode41",
          "barcode42",
          "barcode43",
          "barcode44",
          "barcode45",
          "barcode46",
          "barcode47",
          "barcode48",
          "barcode49",
          "barcode50",
          "barcode51",
          "barcode52",
          "barcode53",
          "barcode54",
          "barcode55",
          "barcode56",
          "barcode57",
          "barcode58",
          "barcode59",
          "barcode60",
          "barcode61",
          "barcode62",
          "barcode63",
          "barcode64",
          "barcode65",
          "barcode66",
          "barcode67",
          "barcode68",
          "barcode69",
          "barcode70",
          "barcode71",
          "barcode72",
          "barcode73",
          "barcode74",
          "barcode75",
          "barcode76",
          "barcode77",
          "barcode78",
          "barcode79",
          "barcode80",
          "barcode81",
          "barcode82",
          "barcode83",
          "barcode84",
          "barcode85",
          "barcode86",
          "barcode87",
          "barcode88",
          "barcode89",
          "barcode90",
          "barcode91",
          "barcode92",
          "barcode93",
          "barcode94",
          "barcode95",
          "barcode96",
          "unclassified"
         ],
         "y": [
          0.8213301998027768,
          1.3803321372719208,
          1.8230802353686146,
          2.32252886040649,
          1.7234699603238361,
          2.791813707636402,
          1.8058945335283139,
          3.7690484741591828,
          2.206839339082028,
          1.2493618224730803,
          1.1346387498243842,
          1.2122176969806522,
          2.3034906346769306,
          1.6071830979755592,
          2.4436138744029257,
          2.6502299447116884,
          1.3474247573493887,
          2.6198459414486073,
          1.685139656354946,
          4.077071892063587,
          2.623421313639121,
          4.382867498235713,
          4.281637424541733,
          4.265445726665189,
          0.5063676045092877,
          3.2162714760578575,
          0.38308222564416117,
          2.2245801738743194,
          0.58741710843514,
          4.46521639120572,
          0.0004069167907854007,
          0.00018734188209620575,
          0.0006204973788155438,
          0.0002076017565717607,
          0.00014449875304468817,
          2.3713966224827695e-05,
          6.276224111234606e-05,
          0.0004555993484892762,
          0.00022188279958893325,
          3.10093797401078e-05,
          7.326391916618877e-05,
          0.0004174649364412515,
          7.258239433673585e-05,
          0.00012744514310769582,
          0.00046672059456989424,
          0.0010337802310760615,
          7.63307808987269e-05,
          0.0003911332953032978,
          0.00017744428286846904,
          0.0001780638508952444,
          0.0001691885389116871,
          0.00017062903457393984,
          0.00021286808479935144,
          0.0004286636285252165,
          3.709663560317592e-05,
          0.00016844505727955664,
          0.00010998881395329946,
          0.00037674382788143964,
          6.090353703201992e-05,
          0.00043927373098374495,
          0.00013133293247571132,
          0.0002613337936938556,
          0,
          0.00023910679073328882,
          0.00010441270171232104,
          0.0001099423463512913,
          0.00018196712946392932,
          1.802942957916358e-05,
          0.0004708097435466118,
          1.1276138087311928e-05,
          0.0003185044333645538,
          0.00018319077631681068,
          9.338439083571926e-05,
          0.00048639187942001264,
          0.000123665778144366,
          0.0006169658410629241,
          0.00017882282172804425,
          0.0007820652309978937,
          0.00017248773865426598,
          6.74244905138308e-05,
          0.00020893382782932778,
          0.00013487995942900038,
          0.0008394991870799715,
          0.00023506410935857943,
          7.191635870795232e-05,
          0.0002983374940930152,
          0.0002800137697011333,
          0,
          0.00030098614740747993,
          6.768780692521034e-05,
          9.237759279220927e-05,
          0,
          4.0163497335714056e-05,
          0.00015619309955007348,
          0.00013694002311802854,
          0.00014143189131215003,
          2.2118214869449373
         ]
        },
        {
         "marker": {
          "color": "red"
         },
         "name": "fail",
         "type": "bar",
         "x": [
          "PAY002",
          "PAY004",
          "PAY005",
          "PAY004_F1-R1",
          "PAY011",
          "PAY013",
          "PAY015",
          "PAY016",
          "PAY017",
          "PAY023",
          "PAY031",
          "PAY039",
          "PAY100",
          "Pad213_17",
          "LEC013",
          "LEC015",
          "LEC019",
          "LEC022",
          "LEC035",
          "LEC040",
          "LEC043",
          "LEC043_F1-R1",
          "LEC046",
          "LEC048",
          "VA33_211",
          "VA33_211_F1-R1",
          "VA33_213",
          "VA33_228",
          "VA33_235",
          "M00_234",
          "barcode31",
          "barcode32",
          "barcode33",
          "barcode34",
          "barcode35",
          "barcode36",
          "barcode37",
          "barcode38",
          "barcode39",
          "barcode40",
          "barcode41",
          "barcode42",
          "barcode43",
          "barcode44",
          "barcode45",
          "barcode46",
          "barcode47",
          "barcode48",
          "barcode49",
          "barcode50",
          "barcode51",
          "barcode52",
          "barcode53",
          "barcode54",
          "barcode55",
          "barcode56",
          "barcode57",
          "barcode58",
          "barcode59",
          "barcode60",
          "barcode61",
          "barcode62",
          "barcode63",
          "barcode64",
          "barcode65",
          "barcode66",
          "barcode67",
          "barcode68",
          "barcode69",
          "barcode70",
          "barcode71",
          "barcode72",
          "barcode73",
          "barcode74",
          "barcode75",
          "barcode76",
          "barcode77",
          "barcode78",
          "barcode79",
          "barcode80",
          "barcode81",
          "barcode82",
          "barcode83",
          "barcode84",
          "barcode85",
          "barcode86",
          "barcode87",
          "barcode88",
          "barcode89",
          "barcode90",
          "barcode91",
          "barcode92",
          "barcode93",
          "barcode94",
          "barcode95",
          "barcode96",
          "unclassified",
          "PAY002",
          "PAY004",
          "PAY005",
          "PAY004_F1-R1",
          "PAY011",
          "PAY013",
          "PAY015",
          "PAY016",
          "PAY017",
          "PAY023",
          "PAY031",
          "PAY039",
          "PAY100",
          "Pad213_17",
          "LEC013",
          "LEC015",
          "LEC019",
          "LEC022",
          "LEC035",
          "LEC040",
          "LEC043",
          "LEC043_F1-R1",
          "LEC046",
          "LEC048",
          "VA33_211",
          "VA33_211_F1-R1",
          "VA33_213",
          "VA33_228",
          "VA33_235",
          "M00_234",
          "barcode31",
          "barcode32",
          "barcode33",
          "barcode34",
          "barcode35",
          "barcode36",
          "barcode37",
          "barcode38",
          "barcode39",
          "barcode40",
          "barcode41",
          "barcode42",
          "barcode43",
          "barcode44",
          "barcode45",
          "barcode46",
          "barcode47",
          "barcode48",
          "barcode49",
          "barcode50",
          "barcode51",
          "barcode52",
          "barcode53",
          "barcode54",
          "barcode55",
          "barcode56",
          "barcode57",
          "barcode58",
          "barcode59",
          "barcode60",
          "barcode61",
          "barcode62",
          "barcode63",
          "barcode64",
          "barcode65",
          "barcode66",
          "barcode67",
          "barcode68",
          "barcode69",
          "barcode70",
          "barcode71",
          "barcode72",
          "barcode73",
          "barcode74",
          "barcode75",
          "barcode76",
          "barcode77",
          "barcode78",
          "barcode79",
          "barcode80",
          "barcode81",
          "barcode82",
          "barcode83",
          "barcode84",
          "barcode85",
          "barcode86",
          "barcode87",
          "barcode88",
          "barcode89",
          "barcode90",
          "barcode91",
          "barcode92",
          "barcode93",
          "barcode94",
          "barcode95",
          "barcode96",
          "unclassified"
         ],
         "y": [
          0.08683589755511821,
          0.40947910729533427,
          0.7034760471955672,
          0.3819729355598218,
          0.29918764985015567,
          0.6484545960745487,
          0.4383267212548188,
          1.357833593134419,
          0.3651957304087746,
          0.2866811890644739,
          0.18117296716720865,
          0.1451879140500711,
          0.7568499430197846,
          0.47570481112335805,
          0.5400329484665762,
          0.41299312676199684,
          0.4011539562303528,
          0.8858563355981517,
          0.562254235912096,
          1.1391500259869445,
          1.4147203777136501,
          0.8709360222909523,
          1.3926529754767807,
          1.7931969514955723,
          0.027826302534947278,
          0.22583691371421502,
          0.019819253184112966,
          0.10020481252327201,
          0.02580441972556917,
          0.2777012630195955,
          0.0027399311740094355,
          0.0015411444882024207,
          0.0022570708323420424,
          0.003123629652991429,
          0.0006975096845437236,
          0.0006653695931547507,
          0.0023066517636847425,
          0.0015912210739665409,
          0.0019083779468728583,
          0.0009647448636926146,
          0.000919438951734665,
          0.003949947530301754,
          0.0006991825182160171,
          0.0006399673040569601,
          0.003630080047278294,
          0.0044639876329166175,
          0.0008043696799618073,
          0.0016924584895416381,
          0.0015301626449278273,
          0.001834246632469184,
          0.00047677308580432485,
          0.001969560289516927,
          0.0016587539888850574,
          0.0016691937101362226,
          0.0012020084395462467,
          0.0021508923617534117,
          0.000482054903232585,
          0.0017932002506953152,
          0.001923836169140904,
          0.0020811599803398427,
          0.0006976645765504174,
          0.001023526380232929,
          0.0006278237707321627,
          0.000958115485806118,
          0.0018726133825272494,
          0.001135358409065885,
          0.0014507959806979009,
          0.0006664848156029464,
          0.002754738849849367,
          0.0008426125164145177,
          0.002460629907539094,
          0.001047178389655079,
          0.00048146631360714834,
          0.001282180542210981,
          0.0018471956042287894,
          0.0015303949829378678,
          0.0012039445896299197,
          0.0038822442341758744,
          0.0013393976494836875,
          0.003025226761138829,
          0.0009208174905942401,
          0.0012304156335738979,
          0.0008806385040578569,
          0.0013738456317723986,
          0.0007124877415910184,
          0.0010047844474229736,
          0.00048711987185147366,
          0.0007310438039929411,
          0.0018252474068802716,
          0.00012538507941866768,
          0.001752262293326132,
          0.00026542294267057313,
          0.0005336184522609661,
          0.0010410291769893335,
          0.0009996885004027462,
          0.0014060012123620408,
          13.136925310236098
         ]
        }
       ],
       "layout": {
        "template": {
         "data": {
          "bar": [
           {
            "error_x": {
             "color": "#2a3f5f"
            },
            "error_y": {
             "color": "#2a3f5f"
            },
            "marker": {
             "line": {
              "color": "#E5ECF6",
              "width": 0.5
             },
             "pattern": {
              "fillmode": "overlay",
              "size": 10,
              "solidity": 0.2
             }
            },
            "type": "bar"
           }
          ],
          "barpolar": [
           {
            "marker": {
             "line": {
              "color": "#E5ECF6",
              "width": 0.5
             },
             "pattern": {
              "fillmode": "overlay",
              "size": 10,
              "solidity": 0.2
             }
            },
            "type": "barpolar"
           }
          ],
          "carpet": [
           {
            "aaxis": {
             "endlinecolor": "#2a3f5f",
             "gridcolor": "white",
             "linecolor": "white",
             "minorgridcolor": "white",
             "startlinecolor": "#2a3f5f"
            },
            "baxis": {
             "endlinecolor": "#2a3f5f",
             "gridcolor": "white",
             "linecolor": "white",
             "minorgridcolor": "white",
             "startlinecolor": "#2a3f5f"
            },
            "type": "carpet"
           }
          ],
          "choropleth": [
           {
            "colorbar": {
             "outlinewidth": 0,
             "ticks": ""
            },
            "type": "choropleth"
           }
          ],
          "contour": [
           {
            "colorbar": {
             "outlinewidth": 0,
             "ticks": ""
            },
            "colorscale": [
             [
              0,
              "#0d0887"
             ],
             [
              0.1111111111111111,
              "#46039f"
             ],
             [
              0.2222222222222222,
              "#7201a8"
             ],
             [
              0.3333333333333333,
              "#9c179e"
             ],
             [
              0.4444444444444444,
              "#bd3786"
             ],
             [
              0.5555555555555556,
              "#d8576b"
             ],
             [
              0.6666666666666666,
              "#ed7953"
             ],
             [
              0.7777777777777778,
              "#fb9f3a"
             ],
             [
              0.8888888888888888,
              "#fdca26"
             ],
             [
              1,
              "#f0f921"
             ]
            ],
            "type": "contour"
           }
          ],
          "contourcarpet": [
           {
            "colorbar": {
             "outlinewidth": 0,
             "ticks": ""
            },
            "type": "contourcarpet"
           }
          ],
          "heatmap": [
           {
            "colorbar": {
             "outlinewidth": 0,
             "ticks": ""
            },
            "colorscale": [
             [
              0,
              "#0d0887"
             ],
             [
              0.1111111111111111,
              "#46039f"
             ],
             [
              0.2222222222222222,
              "#7201a8"
             ],
             [
              0.3333333333333333,
              "#9c179e"
             ],
             [
              0.4444444444444444,
              "#bd3786"
             ],
             [
              0.5555555555555556,
              "#d8576b"
             ],
             [
              0.6666666666666666,
              "#ed7953"
             ],
             [
              0.7777777777777778,
              "#fb9f3a"
             ],
             [
              0.8888888888888888,
              "#fdca26"
             ],
             [
              1,
              "#f0f921"
             ]
            ],
            "type": "heatmap"
           }
          ],
          "heatmapgl": [
           {
            "colorbar": {
             "outlinewidth": 0,
             "ticks": ""
            },
            "colorscale": [
             [
              0,
              "#0d0887"
             ],
             [
              0.1111111111111111,
              "#46039f"
             ],
             [
              0.2222222222222222,
              "#7201a8"
             ],
             [
              0.3333333333333333,
              "#9c179e"
             ],
             [
              0.4444444444444444,
              "#bd3786"
             ],
             [
              0.5555555555555556,
              "#d8576b"
             ],
             [
              0.6666666666666666,
              "#ed7953"
             ],
             [
              0.7777777777777778,
              "#fb9f3a"
             ],
             [
              0.8888888888888888,
              "#fdca26"
             ],
             [
              1,
              "#f0f921"
             ]
            ],
            "type": "heatmapgl"
           }
          ],
          "histogram": [
           {
            "marker": {
             "pattern": {
              "fillmode": "overlay",
              "size": 10,
              "solidity": 0.2
             }
            },
            "type": "histogram"
           }
          ],
          "histogram2d": [
           {
            "colorbar": {
             "outlinewidth": 0,
             "ticks": ""
            },
            "colorscale": [
             [
              0,
              "#0d0887"
             ],
             [
              0.1111111111111111,
              "#46039f"
             ],
             [
              0.2222222222222222,
              "#7201a8"
             ],
             [
              0.3333333333333333,
              "#9c179e"
             ],
             [
              0.4444444444444444,
              "#bd3786"
             ],
             [
              0.5555555555555556,
              "#d8576b"
             ],
             [
              0.6666666666666666,
              "#ed7953"
             ],
             [
              0.7777777777777778,
              "#fb9f3a"
             ],
             [
              0.8888888888888888,
              "#fdca26"
             ],
             [
              1,
              "#f0f921"
             ]
            ],
            "type": "histogram2d"
           }
          ],
          "histogram2dcontour": [
           {
            "colorbar": {
             "outlinewidth": 0,
             "ticks": ""
            },
            "colorscale": [
             [
              0,
              "#0d0887"
             ],
             [
              0.1111111111111111,
              "#46039f"
             ],
             [
              0.2222222222222222,
              "#7201a8"
             ],
             [
              0.3333333333333333,
              "#9c179e"
             ],
             [
              0.4444444444444444,
              "#bd3786"
             ],
             [
              0.5555555555555556,
              "#d8576b"
             ],
             [
              0.6666666666666666,
              "#ed7953"
             ],
             [
              0.7777777777777778,
              "#fb9f3a"
             ],
             [
              0.8888888888888888,
              "#fdca26"
             ],
             [
              1,
              "#f0f921"
             ]
            ],
            "type": "histogram2dcontour"
           }
          ],
          "mesh3d": [
           {
            "colorbar": {
             "outlinewidth": 0,
             "ticks": ""
            },
            "type": "mesh3d"
           }
          ],
          "parcoords": [
           {
            "line": {
             "colorbar": {
              "outlinewidth": 0,
              "ticks": ""
             }
            },
            "type": "parcoords"
           }
          ],
          "pie": [
           {
            "automargin": true,
            "type": "pie"
           }
          ],
          "scatter": [
           {
            "fillpattern": {
             "fillmode": "overlay",
             "size": 10,
             "solidity": 0.2
            },
            "type": "scatter"
           }
          ],
          "scatter3d": [
           {
            "line": {
             "colorbar": {
              "outlinewidth": 0,
              "ticks": ""
             }
            },
            "marker": {
             "colorbar": {
              "outlinewidth": 0,
              "ticks": ""
             }
            },
            "type": "scatter3d"
           }
          ],
          "scattercarpet": [
           {
            "marker": {
             "colorbar": {
              "outlinewidth": 0,
              "ticks": ""
             }
            },
            "type": "scattercarpet"
           }
          ],
          "scattergeo": [
           {
            "marker": {
             "colorbar": {
              "outlinewidth": 0,
              "ticks": ""
             }
            },
            "type": "scattergeo"
           }
          ],
          "scattergl": [
           {
            "marker": {
             "colorbar": {
              "outlinewidth": 0,
              "ticks": ""
             }
            },
            "type": "scattergl"
           }
          ],
          "scattermapbox": [
           {
            "marker": {
             "colorbar": {
              "outlinewidth": 0,
              "ticks": ""
             }
            },
            "type": "scattermapbox"
           }
          ],
          "scatterpolar": [
           {
            "marker": {
             "colorbar": {
              "outlinewidth": 0,
              "ticks": ""
             }
            },
            "type": "scatterpolar"
           }
          ],
          "scatterpolargl": [
           {
            "marker": {
             "colorbar": {
              "outlinewidth": 0,
              "ticks": ""
             }
            },
            "type": "scatterpolargl"
           }
          ],
          "scatterternary": [
           {
            "marker": {
             "colorbar": {
              "outlinewidth": 0,
              "ticks": ""
             }
            },
            "type": "scatterternary"
           }
          ],
          "surface": [
           {
            "colorbar": {
             "outlinewidth": 0,
             "ticks": ""
            },
            "colorscale": [
             [
              0,
              "#0d0887"
             ],
             [
              0.1111111111111111,
              "#46039f"
             ],
             [
              0.2222222222222222,
              "#7201a8"
             ],
             [
              0.3333333333333333,
              "#9c179e"
             ],
             [
              0.4444444444444444,
              "#bd3786"
             ],
             [
              0.5555555555555556,
              "#d8576b"
             ],
             [
              0.6666666666666666,
              "#ed7953"
             ],
             [
              0.7777777777777778,
              "#fb9f3a"
             ],
             [
              0.8888888888888888,
              "#fdca26"
             ],
             [
              1,
              "#f0f921"
             ]
            ],
            "type": "surface"
           }
          ],
          "table": [
           {
            "cells": {
             "fill": {
              "color": "#EBF0F8"
             },
             "line": {
              "color": "white"
             }
            },
            "header": {
             "fill": {
              "color": "#C8D4E3"
             },
             "line": {
              "color": "white"
             }
            },
            "type": "table"
           }
          ]
         },
         "layout": {
          "annotationdefaults": {
           "arrowcolor": "#2a3f5f",
           "arrowhead": 0,
           "arrowwidth": 1
          },
          "autotypenumbers": "strict",
          "coloraxis": {
           "colorbar": {
            "outlinewidth": 0,
            "ticks": ""
           }
          },
          "colorscale": {
           "diverging": [
            [
             0,
             "#8e0152"
            ],
            [
             0.1,
             "#c51b7d"
            ],
            [
             0.2,
             "#de77ae"
            ],
            [
             0.3,
             "#f1b6da"
            ],
            [
             0.4,
             "#fde0ef"
            ],
            [
             0.5,
             "#f7f7f7"
            ],
            [
             0.6,
             "#e6f5d0"
            ],
            [
             0.7,
             "#b8e186"
            ],
            [
             0.8,
             "#7fbc41"
            ],
            [
             0.9,
             "#4d9221"
            ],
            [
             1,
             "#276419"
            ]
           ],
           "sequential": [
            [
             0,
             "#0d0887"
            ],
            [
             0.1111111111111111,
             "#46039f"
            ],
            [
             0.2222222222222222,
             "#7201a8"
            ],
            [
             0.3333333333333333,
             "#9c179e"
            ],
            [
             0.4444444444444444,
             "#bd3786"
            ],
            [
             0.5555555555555556,
             "#d8576b"
            ],
            [
             0.6666666666666666,
             "#ed7953"
            ],
            [
             0.7777777777777778,
             "#fb9f3a"
            ],
            [
             0.8888888888888888,
             "#fdca26"
            ],
            [
             1,
             "#f0f921"
            ]
           ],
           "sequentialminus": [
            [
             0,
             "#0d0887"
            ],
            [
             0.1111111111111111,
             "#46039f"
            ],
            [
             0.2222222222222222,
             "#7201a8"
            ],
            [
             0.3333333333333333,
             "#9c179e"
            ],
            [
             0.4444444444444444,
             "#bd3786"
            ],
            [
             0.5555555555555556,
             "#d8576b"
            ],
            [
             0.6666666666666666,
             "#ed7953"
            ],
            [
             0.7777777777777778,
             "#fb9f3a"
            ],
            [
             0.8888888888888888,
             "#fdca26"
            ],
            [
             1,
             "#f0f921"
            ]
           ]
          },
          "colorway": [
           "#636efa",
           "#EF553B",
           "#00cc96",
           "#ab63fa",
           "#FFA15A",
           "#19d3f3",
           "#FF6692",
           "#B6E880",
           "#FF97FF",
           "#FECB52"
          ],
          "font": {
           "color": "#2a3f5f"
          },
          "geo": {
           "bgcolor": "white",
           "lakecolor": "white",
           "landcolor": "#E5ECF6",
           "showlakes": true,
           "showland": true,
           "subunitcolor": "white"
          },
          "hoverlabel": {
           "align": "left"
          },
          "hovermode": "closest",
          "mapbox": {
           "style": "light"
          },
          "paper_bgcolor": "white",
          "plot_bgcolor": "#E5ECF6",
          "polar": {
           "angularaxis": {
            "gridcolor": "white",
            "linecolor": "white",
            "ticks": ""
           },
           "bgcolor": "#E5ECF6",
           "radialaxis": {
            "gridcolor": "white",
            "linecolor": "white",
            "ticks": ""
           }
          },
          "scene": {
           "xaxis": {
            "backgroundcolor": "#E5ECF6",
            "gridcolor": "white",
            "gridwidth": 2,
            "linecolor": "white",
            "showbackground": true,
            "ticks": "",
            "zerolinecolor": "white"
           },
           "yaxis": {
            "backgroundcolor": "#E5ECF6",
            "gridcolor": "white",
            "gridwidth": 2,
            "linecolor": "white",
            "showbackground": true,
            "ticks": "",
            "zerolinecolor": "white"
           },
           "zaxis": {
            "backgroundcolor": "#E5ECF6",
            "gridcolor": "white",
            "gridwidth": 2,
            "linecolor": "white",
            "showbackground": true,
            "ticks": "",
            "zerolinecolor": "white"
           }
          },
          "shapedefaults": {
           "line": {
            "color": "#2a3f5f"
           }
          },
          "ternary": {
           "aaxis": {
            "gridcolor": "white",
            "linecolor": "white",
            "ticks": ""
           },
           "baxis": {
            "gridcolor": "white",
            "linecolor": "white",
            "ticks": ""
           },
           "bgcolor": "#E5ECF6",
           "caxis": {
            "gridcolor": "white",
            "linecolor": "white",
            "ticks": ""
           }
          },
          "title": {
           "x": 0.05
          },
          "xaxis": {
           "automargin": true,
           "gridcolor": "white",
           "linecolor": "white",
           "ticks": "",
           "title": {
            "standoff": 15
           },
           "zerolinecolor": "white",
           "zerolinewidth": 2
          },
          "yaxis": {
           "automargin": true,
           "gridcolor": "white",
           "linecolor": "white",
           "ticks": "",
           "title": {
            "standoff": 15
           },
           "zerolinecolor": "white",
           "zerolinewidth": 2
          }
         }
        },
        "title": {
         "text": "001_20220412_FAME3 - Bases (%)"
        },
        "yaxis": {
         "title": {
          "text": "Bases (%)"
         }
        }
       }
      },
      "text/html": [
       "<div>                            <div id=\"947358aa-f0b9-42a2-b13e-d9a2cf846723\" class=\"plotly-graph-div\" style=\"height:525px; width:100%;\"></div>            <script type=\"text/javascript\">                require([\"plotly\"], function(Plotly) {                    window.PLOTLYENV=window.PLOTLYENV || {};                                    if (document.getElementById(\"947358aa-f0b9-42a2-b13e-d9a2cf846723\")) {                    Plotly.newPlot(                        \"947358aa-f0b9-42a2-b13e-d9a2cf846723\",                        [{\"marker\":{\"color\":\"blue\"},\"name\":\"pass\",\"x\":[\"PAY002\",\"PAY004\",\"PAY005\",\"PAY004_F1-R1\",\"PAY011\",\"PAY013\",\"PAY015\",\"PAY016\",\"PAY017\",\"PAY023\",\"PAY031\",\"PAY039\",\"PAY100\",\"Pad213_17\",\"LEC013\",\"LEC015\",\"LEC019\",\"LEC022\",\"LEC035\",\"LEC040\",\"LEC043\",\"LEC043_F1-R1\",\"LEC046\",\"LEC048\",\"VA33_211\",\"VA33_211_F1-R1\",\"VA33_213\",\"VA33_228\",\"VA33_235\",\"M00_234\",\"barcode31\",\"barcode32\",\"barcode33\",\"barcode34\",\"barcode35\",\"barcode36\",\"barcode37\",\"barcode38\",\"barcode39\",\"barcode40\",\"barcode41\",\"barcode42\",\"barcode43\",\"barcode44\",\"barcode45\",\"barcode46\",\"barcode47\",\"barcode48\",\"barcode49\",\"barcode50\",\"barcode51\",\"barcode52\",\"barcode53\",\"barcode54\",\"barcode55\",\"barcode56\",\"barcode57\",\"barcode58\",\"barcode59\",\"barcode60\",\"barcode61\",\"barcode62\",\"barcode63\",\"barcode64\",\"barcode65\",\"barcode66\",\"barcode67\",\"barcode68\",\"barcode69\",\"barcode70\",\"barcode71\",\"barcode72\",\"barcode73\",\"barcode74\",\"barcode75\",\"barcode76\",\"barcode77\",\"barcode78\",\"barcode79\",\"barcode80\",\"barcode81\",\"barcode82\",\"barcode83\",\"barcode84\",\"barcode85\",\"barcode86\",\"barcode87\",\"barcode88\",\"barcode89\",\"barcode90\",\"barcode91\",\"barcode92\",\"barcode93\",\"barcode94\",\"barcode95\",\"barcode96\",\"unclassified\",\"PAY002\",\"PAY004\",\"PAY005\",\"PAY004_F1-R1\",\"PAY011\",\"PAY013\",\"PAY015\",\"PAY016\",\"PAY017\",\"PAY023\",\"PAY031\",\"PAY039\",\"PAY100\",\"Pad213_17\",\"LEC013\",\"LEC015\",\"LEC019\",\"LEC022\",\"LEC035\",\"LEC040\",\"LEC043\",\"LEC043_F1-R1\",\"LEC046\",\"LEC048\",\"VA33_211\",\"VA33_211_F1-R1\",\"VA33_213\",\"VA33_228\",\"VA33_235\",\"M00_234\",\"barcode31\",\"barcode32\",\"barcode33\",\"barcode34\",\"barcode35\",\"barcode36\",\"barcode37\",\"barcode38\",\"barcode39\",\"barcode40\",\"barcode41\",\"barcode42\",\"barcode43\",\"barcode44\",\"barcode45\",\"barcode46\",\"barcode47\",\"barcode48\",\"barcode49\",\"barcode50\",\"barcode51\",\"barcode52\",\"barcode53\",\"barcode54\",\"barcode55\",\"barcode56\",\"barcode57\",\"barcode58\",\"barcode59\",\"barcode60\",\"barcode61\",\"barcode62\",\"barcode63\",\"barcode64\",\"barcode65\",\"barcode66\",\"barcode67\",\"barcode68\",\"barcode69\",\"barcode70\",\"barcode71\",\"barcode72\",\"barcode73\",\"barcode74\",\"barcode75\",\"barcode76\",\"barcode77\",\"barcode78\",\"barcode79\",\"barcode80\",\"barcode81\",\"barcode82\",\"barcode83\",\"barcode84\",\"barcode85\",\"barcode86\",\"barcode87\",\"barcode88\",\"barcode89\",\"barcode90\",\"barcode91\",\"barcode92\",\"barcode93\",\"barcode94\",\"barcode95\",\"barcode96\",\"unclassified\"],\"y\":[0.8213301998027768,1.3803321372719208,1.8230802353686146,2.32252886040649,1.7234699603238361,2.791813707636402,1.8058945335283139,3.7690484741591828,2.206839339082028,1.2493618224730803,1.1346387498243842,1.2122176969806522,2.3034906346769306,1.6071830979755592,2.4436138744029257,2.6502299447116884,1.3474247573493887,2.6198459414486073,1.685139656354946,4.077071892063587,2.623421313639121,4.382867498235713,4.281637424541733,4.265445726665189,0.5063676045092877,3.2162714760578575,0.38308222564416117,2.2245801738743194,0.58741710843514,4.46521639120572,0.0004069167907854007,0.00018734188209620575,0.0006204973788155438,0.0002076017565717607,0.00014449875304468817,2.3713966224827695e-05,6.276224111234606e-05,0.0004555993484892762,0.00022188279958893325,3.10093797401078e-05,7.326391916618877e-05,0.0004174649364412515,7.258239433673585e-05,0.00012744514310769582,0.00046672059456989424,0.0010337802310760615,7.63307808987269e-05,0.0003911332953032978,0.00017744428286846904,0.0001780638508952444,0.0001691885389116871,0.00017062903457393984,0.00021286808479935144,0.0004286636285252165,3.709663560317592e-05,0.00016844505727955664,0.00010998881395329946,0.00037674382788143964,6.090353703201992e-05,0.00043927373098374495,0.00013133293247571132,0.0002613337936938556,0.0,0.00023910679073328882,0.00010441270171232104,0.0001099423463512913,0.00018196712946392932,1.802942957916358e-05,0.0004708097435466118,1.1276138087311928e-05,0.0003185044333645538,0.00018319077631681068,9.338439083571926e-05,0.00048639187942001264,0.000123665778144366,0.0006169658410629241,0.00017882282172804425,0.0007820652309978937,0.00017248773865426598,6.74244905138308e-05,0.00020893382782932778,0.00013487995942900038,0.0008394991870799715,0.00023506410935857943,7.191635870795232e-05,0.0002983374940930152,0.0002800137697011333,0.0,0.00030098614740747993,6.768780692521034e-05,9.237759279220927e-05,0.0,4.0163497335714056e-05,0.00015619309955007348,0.00013694002311802854,0.00014143189131215003,2.2118214869449373],\"type\":\"bar\"},{\"marker\":{\"color\":\"red\"},\"name\":\"fail\",\"x\":[\"PAY002\",\"PAY004\",\"PAY005\",\"PAY004_F1-R1\",\"PAY011\",\"PAY013\",\"PAY015\",\"PAY016\",\"PAY017\",\"PAY023\",\"PAY031\",\"PAY039\",\"PAY100\",\"Pad213_17\",\"LEC013\",\"LEC015\",\"LEC019\",\"LEC022\",\"LEC035\",\"LEC040\",\"LEC043\",\"LEC043_F1-R1\",\"LEC046\",\"LEC048\",\"VA33_211\",\"VA33_211_F1-R1\",\"VA33_213\",\"VA33_228\",\"VA33_235\",\"M00_234\",\"barcode31\",\"barcode32\",\"barcode33\",\"barcode34\",\"barcode35\",\"barcode36\",\"barcode37\",\"barcode38\",\"barcode39\",\"barcode40\",\"barcode41\",\"barcode42\",\"barcode43\",\"barcode44\",\"barcode45\",\"barcode46\",\"barcode47\",\"barcode48\",\"barcode49\",\"barcode50\",\"barcode51\",\"barcode52\",\"barcode53\",\"barcode54\",\"barcode55\",\"barcode56\",\"barcode57\",\"barcode58\",\"barcode59\",\"barcode60\",\"barcode61\",\"barcode62\",\"barcode63\",\"barcode64\",\"barcode65\",\"barcode66\",\"barcode67\",\"barcode68\",\"barcode69\",\"barcode70\",\"barcode71\",\"barcode72\",\"barcode73\",\"barcode74\",\"barcode75\",\"barcode76\",\"barcode77\",\"barcode78\",\"barcode79\",\"barcode80\",\"barcode81\",\"barcode82\",\"barcode83\",\"barcode84\",\"barcode85\",\"barcode86\",\"barcode87\",\"barcode88\",\"barcode89\",\"barcode90\",\"barcode91\",\"barcode92\",\"barcode93\",\"barcode94\",\"barcode95\",\"barcode96\",\"unclassified\",\"PAY002\",\"PAY004\",\"PAY005\",\"PAY004_F1-R1\",\"PAY011\",\"PAY013\",\"PAY015\",\"PAY016\",\"PAY017\",\"PAY023\",\"PAY031\",\"PAY039\",\"PAY100\",\"Pad213_17\",\"LEC013\",\"LEC015\",\"LEC019\",\"LEC022\",\"LEC035\",\"LEC040\",\"LEC043\",\"LEC043_F1-R1\",\"LEC046\",\"LEC048\",\"VA33_211\",\"VA33_211_F1-R1\",\"VA33_213\",\"VA33_228\",\"VA33_235\",\"M00_234\",\"barcode31\",\"barcode32\",\"barcode33\",\"barcode34\",\"barcode35\",\"barcode36\",\"barcode37\",\"barcode38\",\"barcode39\",\"barcode40\",\"barcode41\",\"barcode42\",\"barcode43\",\"barcode44\",\"barcode45\",\"barcode46\",\"barcode47\",\"barcode48\",\"barcode49\",\"barcode50\",\"barcode51\",\"barcode52\",\"barcode53\",\"barcode54\",\"barcode55\",\"barcode56\",\"barcode57\",\"barcode58\",\"barcode59\",\"barcode60\",\"barcode61\",\"barcode62\",\"barcode63\",\"barcode64\",\"barcode65\",\"barcode66\",\"barcode67\",\"barcode68\",\"barcode69\",\"barcode70\",\"barcode71\",\"barcode72\",\"barcode73\",\"barcode74\",\"barcode75\",\"barcode76\",\"barcode77\",\"barcode78\",\"barcode79\",\"barcode80\",\"barcode81\",\"barcode82\",\"barcode83\",\"barcode84\",\"barcode85\",\"barcode86\",\"barcode87\",\"barcode88\",\"barcode89\",\"barcode90\",\"barcode91\",\"barcode92\",\"barcode93\",\"barcode94\",\"barcode95\",\"barcode96\",\"unclassified\"],\"y\":[0.08683589755511821,0.40947910729533427,0.7034760471955672,0.3819729355598218,0.29918764985015567,0.6484545960745487,0.4383267212548188,1.357833593134419,0.3651957304087746,0.2866811890644739,0.18117296716720865,0.1451879140500711,0.7568499430197846,0.47570481112335805,0.5400329484665762,0.41299312676199684,0.4011539562303528,0.8858563355981517,0.562254235912096,1.1391500259869445,1.4147203777136501,0.8709360222909523,1.3926529754767807,1.7931969514955723,0.027826302534947278,0.22583691371421502,0.019819253184112966,0.10020481252327201,0.02580441972556917,0.2777012630195955,0.0027399311740094355,0.0015411444882024207,0.0022570708323420424,0.003123629652991429,0.0006975096845437236,0.0006653695931547507,0.0023066517636847425,0.0015912210739665409,0.0019083779468728583,0.0009647448636926146,0.000919438951734665,0.003949947530301754,0.0006991825182160171,0.0006399673040569601,0.003630080047278294,0.0044639876329166175,0.0008043696799618073,0.0016924584895416381,0.0015301626449278273,0.001834246632469184,0.00047677308580432485,0.001969560289516927,0.0016587539888850574,0.0016691937101362226,0.0012020084395462467,0.0021508923617534117,0.000482054903232585,0.0017932002506953152,0.001923836169140904,0.0020811599803398427,0.0006976645765504174,0.001023526380232929,0.0006278237707321627,0.000958115485806118,0.0018726133825272494,0.001135358409065885,0.0014507959806979009,0.0006664848156029464,0.002754738849849367,0.0008426125164145177,0.002460629907539094,0.001047178389655079,0.00048146631360714834,0.001282180542210981,0.0018471956042287894,0.0015303949829378678,0.0012039445896299197,0.0038822442341758744,0.0013393976494836875,0.003025226761138829,0.0009208174905942401,0.0012304156335738979,0.0008806385040578569,0.0013738456317723986,0.0007124877415910184,0.0010047844474229736,0.00048711987185147366,0.0007310438039929411,0.0018252474068802716,0.00012538507941866768,0.001752262293326132,0.00026542294267057313,0.0005336184522609661,0.0010410291769893335,0.0009996885004027462,0.0014060012123620408,13.136925310236098],\"type\":\"bar\"}],                        {\"title\":{\"text\":\"001_20220412_FAME3 - Bases (%)\"},\"yaxis\":{\"title\":{\"text\":\"Bases (%)\"}},\"template\":{\"data\":{\"histogram2dcontour\":[{\"type\":\"histogram2dcontour\",\"colorbar\":{\"outlinewidth\":0,\"ticks\":\"\"},\"colorscale\":[[0.0,\"#0d0887\"],[0.1111111111111111,\"#46039f\"],[0.2222222222222222,\"#7201a8\"],[0.3333333333333333,\"#9c179e\"],[0.4444444444444444,\"#bd3786\"],[0.5555555555555556,\"#d8576b\"],[0.6666666666666666,\"#ed7953\"],[0.7777777777777778,\"#fb9f3a\"],[0.8888888888888888,\"#fdca26\"],[1.0,\"#f0f921\"]]}],\"choropleth\":[{\"type\":\"choropleth\",\"colorbar\":{\"outlinewidth\":0,\"ticks\":\"\"}}],\"histogram2d\":[{\"type\":\"histogram2d\",\"colorbar\":{\"outlinewidth\":0,\"ticks\":\"\"},\"colorscale\":[[0.0,\"#0d0887\"],[0.1111111111111111,\"#46039f\"],[0.2222222222222222,\"#7201a8\"],[0.3333333333333333,\"#9c179e\"],[0.4444444444444444,\"#bd3786\"],[0.5555555555555556,\"#d8576b\"],[0.6666666666666666,\"#ed7953\"],[0.7777777777777778,\"#fb9f3a\"],[0.8888888888888888,\"#fdca26\"],[1.0,\"#f0f921\"]]}],\"heatmap\":[{\"type\":\"heatmap\",\"colorbar\":{\"outlinewidth\":0,\"ticks\":\"\"},\"colorscale\":[[0.0,\"#0d0887\"],[0.1111111111111111,\"#46039f\"],[0.2222222222222222,\"#7201a8\"],[0.3333333333333333,\"#9c179e\"],[0.4444444444444444,\"#bd3786\"],[0.5555555555555556,\"#d8576b\"],[0.6666666666666666,\"#ed7953\"],[0.7777777777777778,\"#fb9f3a\"],[0.8888888888888888,\"#fdca26\"],[1.0,\"#f0f921\"]]}],\"heatmapgl\":[{\"type\":\"heatmapgl\",\"colorbar\":{\"outlinewidth\":0,\"ticks\":\"\"},\"colorscale\":[[0.0,\"#0d0887\"],[0.1111111111111111,\"#46039f\"],[0.2222222222222222,\"#7201a8\"],[0.3333333333333333,\"#9c179e\"],[0.4444444444444444,\"#bd3786\"],[0.5555555555555556,\"#d8576b\"],[0.6666666666666666,\"#ed7953\"],[0.7777777777777778,\"#fb9f3a\"],[0.8888888888888888,\"#fdca26\"],[1.0,\"#f0f921\"]]}],\"contourcarpet\":[{\"type\":\"contourcarpet\",\"colorbar\":{\"outlinewidth\":0,\"ticks\":\"\"}}],\"contour\":[{\"type\":\"contour\",\"colorbar\":{\"outlinewidth\":0,\"ticks\":\"\"},\"colorscale\":[[0.0,\"#0d0887\"],[0.1111111111111111,\"#46039f\"],[0.2222222222222222,\"#7201a8\"],[0.3333333333333333,\"#9c179e\"],[0.4444444444444444,\"#bd3786\"],[0.5555555555555556,\"#d8576b\"],[0.6666666666666666,\"#ed7953\"],[0.7777777777777778,\"#fb9f3a\"],[0.8888888888888888,\"#fdca26\"],[1.0,\"#f0f921\"]]}],\"surface\":[{\"type\":\"surface\",\"colorbar\":{\"outlinewidth\":0,\"ticks\":\"\"},\"colorscale\":[[0.0,\"#0d0887\"],[0.1111111111111111,\"#46039f\"],[0.2222222222222222,\"#7201a8\"],[0.3333333333333333,\"#9c179e\"],[0.4444444444444444,\"#bd3786\"],[0.5555555555555556,\"#d8576b\"],[0.6666666666666666,\"#ed7953\"],[0.7777777777777778,\"#fb9f3a\"],[0.8888888888888888,\"#fdca26\"],[1.0,\"#f0f921\"]]}],\"mesh3d\":[{\"type\":\"mesh3d\",\"colorbar\":{\"outlinewidth\":0,\"ticks\":\"\"}}],\"scatter\":[{\"fillpattern\":{\"fillmode\":\"overlay\",\"size\":10,\"solidity\":0.2},\"type\":\"scatter\"}],\"parcoords\":[{\"type\":\"parcoords\",\"line\":{\"colorbar\":{\"outlinewidth\":0,\"ticks\":\"\"}}}],\"scatterpolargl\":[{\"type\":\"scatterpolargl\",\"marker\":{\"colorbar\":{\"outlinewidth\":0,\"ticks\":\"\"}}}],\"bar\":[{\"error_x\":{\"color\":\"#2a3f5f\"},\"error_y\":{\"color\":\"#2a3f5f\"},\"marker\":{\"line\":{\"color\":\"#E5ECF6\",\"width\":0.5},\"pattern\":{\"fillmode\":\"overlay\",\"size\":10,\"solidity\":0.2}},\"type\":\"bar\"}],\"scattergeo\":[{\"type\":\"scattergeo\",\"marker\":{\"colorbar\":{\"outlinewidth\":0,\"ticks\":\"\"}}}],\"scatterpolar\":[{\"type\":\"scatterpolar\",\"marker\":{\"colorbar\":{\"outlinewidth\":0,\"ticks\":\"\"}}}],\"histogram\":[{\"marker\":{\"pattern\":{\"fillmode\":\"overlay\",\"size\":10,\"solidity\":0.2}},\"type\":\"histogram\"}],\"scattergl\":[{\"type\":\"scattergl\",\"marker\":{\"colorbar\":{\"outlinewidth\":0,\"ticks\":\"\"}}}],\"scatter3d\":[{\"type\":\"scatter3d\",\"line\":{\"colorbar\":{\"outlinewidth\":0,\"ticks\":\"\"}},\"marker\":{\"colorbar\":{\"outlinewidth\":0,\"ticks\":\"\"}}}],\"scattermapbox\":[{\"type\":\"scattermapbox\",\"marker\":{\"colorbar\":{\"outlinewidth\":0,\"ticks\":\"\"}}}],\"scatterternary\":[{\"type\":\"scatterternary\",\"marker\":{\"colorbar\":{\"outlinewidth\":0,\"ticks\":\"\"}}}],\"scattercarpet\":[{\"type\":\"scattercarpet\",\"marker\":{\"colorbar\":{\"outlinewidth\":0,\"ticks\":\"\"}}}],\"carpet\":[{\"aaxis\":{\"endlinecolor\":\"#2a3f5f\",\"gridcolor\":\"white\",\"linecolor\":\"white\",\"minorgridcolor\":\"white\",\"startlinecolor\":\"#2a3f5f\"},\"baxis\":{\"endlinecolor\":\"#2a3f5f\",\"gridcolor\":\"white\",\"linecolor\":\"white\",\"minorgridcolor\":\"white\",\"startlinecolor\":\"#2a3f5f\"},\"type\":\"carpet\"}],\"table\":[{\"cells\":{\"fill\":{\"color\":\"#EBF0F8\"},\"line\":{\"color\":\"white\"}},\"header\":{\"fill\":{\"color\":\"#C8D4E3\"},\"line\":{\"color\":\"white\"}},\"type\":\"table\"}],\"barpolar\":[{\"marker\":{\"line\":{\"color\":\"#E5ECF6\",\"width\":0.5},\"pattern\":{\"fillmode\":\"overlay\",\"size\":10,\"solidity\":0.2}},\"type\":\"barpolar\"}],\"pie\":[{\"automargin\":true,\"type\":\"pie\"}]},\"layout\":{\"autotypenumbers\":\"strict\",\"colorway\":[\"#636efa\",\"#EF553B\",\"#00cc96\",\"#ab63fa\",\"#FFA15A\",\"#19d3f3\",\"#FF6692\",\"#B6E880\",\"#FF97FF\",\"#FECB52\"],\"font\":{\"color\":\"#2a3f5f\"},\"hovermode\":\"closest\",\"hoverlabel\":{\"align\":\"left\"},\"paper_bgcolor\":\"white\",\"plot_bgcolor\":\"#E5ECF6\",\"polar\":{\"bgcolor\":\"#E5ECF6\",\"angularaxis\":{\"gridcolor\":\"white\",\"linecolor\":\"white\",\"ticks\":\"\"},\"radialaxis\":{\"gridcolor\":\"white\",\"linecolor\":\"white\",\"ticks\":\"\"}},\"ternary\":{\"bgcolor\":\"#E5ECF6\",\"aaxis\":{\"gridcolor\":\"white\",\"linecolor\":\"white\",\"ticks\":\"\"},\"baxis\":{\"gridcolor\":\"white\",\"linecolor\":\"white\",\"ticks\":\"\"},\"caxis\":{\"gridcolor\":\"white\",\"linecolor\":\"white\",\"ticks\":\"\"}},\"coloraxis\":{\"colorbar\":{\"outlinewidth\":0,\"ticks\":\"\"}},\"colorscale\":{\"sequential\":[[0.0,\"#0d0887\"],[0.1111111111111111,\"#46039f\"],[0.2222222222222222,\"#7201a8\"],[0.3333333333333333,\"#9c179e\"],[0.4444444444444444,\"#bd3786\"],[0.5555555555555556,\"#d8576b\"],[0.6666666666666666,\"#ed7953\"],[0.7777777777777778,\"#fb9f3a\"],[0.8888888888888888,\"#fdca26\"],[1.0,\"#f0f921\"]],\"sequentialminus\":[[0.0,\"#0d0887\"],[0.1111111111111111,\"#46039f\"],[0.2222222222222222,\"#7201a8\"],[0.3333333333333333,\"#9c179e\"],[0.4444444444444444,\"#bd3786\"],[0.5555555555555556,\"#d8576b\"],[0.6666666666666666,\"#ed7953\"],[0.7777777777777778,\"#fb9f3a\"],[0.8888888888888888,\"#fdca26\"],[1.0,\"#f0f921\"]],\"diverging\":[[0,\"#8e0152\"],[0.1,\"#c51b7d\"],[0.2,\"#de77ae\"],[0.3,\"#f1b6da\"],[0.4,\"#fde0ef\"],[0.5,\"#f7f7f7\"],[0.6,\"#e6f5d0\"],[0.7,\"#b8e186\"],[0.8,\"#7fbc41\"],[0.9,\"#4d9221\"],[1,\"#276419\"]]},\"xaxis\":{\"gridcolor\":\"white\",\"linecolor\":\"white\",\"ticks\":\"\",\"title\":{\"standoff\":15},\"zerolinecolor\":\"white\",\"automargin\":true,\"zerolinewidth\":2},\"yaxis\":{\"gridcolor\":\"white\",\"linecolor\":\"white\",\"ticks\":\"\",\"title\":{\"standoff\":15},\"zerolinecolor\":\"white\",\"automargin\":true,\"zerolinewidth\":2},\"scene\":{\"xaxis\":{\"backgroundcolor\":\"#E5ECF6\",\"gridcolor\":\"white\",\"linecolor\":\"white\",\"showbackground\":true,\"ticks\":\"\",\"zerolinecolor\":\"white\",\"gridwidth\":2},\"yaxis\":{\"backgroundcolor\":\"#E5ECF6\",\"gridcolor\":\"white\",\"linecolor\":\"white\",\"showbackground\":true,\"ticks\":\"\",\"zerolinecolor\":\"white\",\"gridwidth\":2},\"zaxis\":{\"backgroundcolor\":\"#E5ECF6\",\"gridcolor\":\"white\",\"linecolor\":\"white\",\"showbackground\":true,\"ticks\":\"\",\"zerolinecolor\":\"white\",\"gridwidth\":2}},\"shapedefaults\":{\"line\":{\"color\":\"#2a3f5f\"}},\"annotationdefaults\":{\"arrowcolor\":\"#2a3f5f\",\"arrowhead\":0,\"arrowwidth\":1},\"geo\":{\"bgcolor\":\"white\",\"landcolor\":\"#E5ECF6\",\"subunitcolor\":\"white\",\"showland\":true,\"showlakes\":true,\"lakecolor\":\"white\"},\"title\":{\"x\":0.05},\"mapbox\":{\"style\":\"light\"}}}},                        {\"displaylogo\": false, \"responsive\": true}                    ).then(function(){\n",
       "                            \n",
       "var gd = document.getElementById('947358aa-f0b9-42a2-b13e-d9a2cf846723');\n",
       "var x = new MutationObserver(function (mutations, observer) {{\n",
       "        var display = window.getComputedStyle(gd).display;\n",
       "        if (!display || display === 'none') {{\n",
       "            console.log([gd, 'removed!']);\n",
       "            Plotly.purge(gd);\n",
       "            observer.disconnect();\n",
       "        }}\n",
       "}});\n",
       "\n",
       "// Listen for the removal of the full notebook cells\n",
       "var notebookContainer = gd.closest('#notebook-container');\n",
       "if (notebookContainer) {{\n",
       "    x.observe(notebookContainer, {childList: true});\n",
       "}}\n",
       "\n",
       "// Listen for the clearing of the current output cell\n",
       "var outputEl = gd.closest('.output');\n",
       "if (outputEl) {{\n",
       "    x.observe(outputEl, {childList: true});\n",
       "}}\n",
       "\n",
       "                        })                };                });            </script>        </div>"
      ]
     },
     "metadata": {},
     "output_type": "display_data"
    }
   ],
   "source": [
    "trace1 = go.Bar(\n",
    "    x=df[\"sample\"],\n",
    "    y=df[df[\"qc\"]==\"pass\"][\"bases_perc\"],\n",
    "    name=\"pass\",\n",
    "    marker={\"color\": \"blue\"})\n",
    "\n",
    "trace2 = go.Bar(\n",
    "    x=df[\"sample\"],\n",
    "    y=df[df[\"qc\"]==\"fail\"][\"bases_perc\"],\n",
    "    name=\"fail\",\n",
    "    marker={\"color\": \"red\"})\n",
    "\n",
    "data = [trace1, trace2]\n",
    "layout = go.Layout(title=f\"{run_name} - Bases (%)\", yaxis_title=\"Bases (%)\")\n",
    "fig4 = go.Figure(data=data, layout=layout)\n",
    "fig4.show(config={'displaylogo':False}) # hide ploty logo\n",
    "##fig4.write_html(f\"{run_name} - MinION Bases perc.html\", config={'displaylogo':False})"
   ]
  },
  {
   "cell_type": "markdown",
   "id": "42fba0c8",
   "metadata": {},
   "source": [
    "## Pie charts"
   ]
  },
  {
   "cell_type": "code",
   "execution_count": 68,
   "id": "b1c18b38",
   "metadata": {},
   "outputs": [
    {
     "data": {
      "text/html": [
       "<div>\n",
       "<style scoped>\n",
       "    .dataframe tbody tr th:only-of-type {\n",
       "        vertical-align: middle;\n",
       "    }\n",
       "\n",
       "    .dataframe tbody tr th {\n",
       "        vertical-align: top;\n",
       "    }\n",
       "\n",
       "    .dataframe thead th {\n",
       "        text-align: right;\n",
       "    }\n",
       "</style>\n",
       "<table border=\"1\" class=\"dataframe\">\n",
       "  <thead>\n",
       "    <tr style=\"text-align: right;\">\n",
       "      <th></th>\n",
       "      <th>sample</th>\n",
       "      <th>qc</th>\n",
       "      <th>reads</th>\n",
       "      <th>bases</th>\n",
       "      <th>reads_perc</th>\n",
       "      <th>bases_perc</th>\n",
       "    </tr>\n",
       "  </thead>\n",
       "  <tbody>\n",
       "    <tr>\n",
       "      <th>0</th>\n",
       "      <td>PAY002</td>\n",
       "      <td>fail</td>\n",
       "      <td>4371</td>\n",
       "      <td>5606222.0</td>\n",
       "      <td>0.095123</td>\n",
       "      <td>0.086836</td>\n",
       "    </tr>\n",
       "    <tr>\n",
       "      <th>1</th>\n",
       "      <td>PAY004</td>\n",
       "      <td>fail</td>\n",
       "      <td>8498</td>\n",
       "      <td>26436426.0</td>\n",
       "      <td>0.184935</td>\n",
       "      <td>0.409479</td>\n",
       "    </tr>\n",
       "    <tr>\n",
       "      <th>2</th>\n",
       "      <td>PAY005</td>\n",
       "      <td>fail</td>\n",
       "      <td>11408</td>\n",
       "      <td>45417195.0</td>\n",
       "      <td>0.248263</td>\n",
       "      <td>0.703476</td>\n",
       "    </tr>\n",
       "    <tr>\n",
       "      <th>3</th>\n",
       "      <td>PAY004_F1-R1</td>\n",
       "      <td>fail</td>\n",
       "      <td>30030</td>\n",
       "      <td>24660597.0</td>\n",
       "      <td>0.653519</td>\n",
       "      <td>0.381973</td>\n",
       "    </tr>\n",
       "    <tr>\n",
       "      <th>4</th>\n",
       "      <td>PAY011</td>\n",
       "      <td>fail</td>\n",
       "      <td>9502</td>\n",
       "      <td>19315887.0</td>\n",
       "      <td>0.206784</td>\n",
       "      <td>0.299188</td>\n",
       "    </tr>\n",
       "    <tr>\n",
       "      <th>...</th>\n",
       "      <td>...</td>\n",
       "      <td>...</td>\n",
       "      <td>...</td>\n",
       "      <td>...</td>\n",
       "      <td>...</td>\n",
       "      <td>...</td>\n",
       "    </tr>\n",
       "    <tr>\n",
       "      <th>189</th>\n",
       "      <td>barcode93</td>\n",
       "      <td>pass</td>\n",
       "      <td>2</td>\n",
       "      <td>2593.0</td>\n",
       "      <td>0.000044</td>\n",
       "      <td>0.000040</td>\n",
       "    </tr>\n",
       "    <tr>\n",
       "      <th>190</th>\n",
       "      <td>barcode94</td>\n",
       "      <td>pass</td>\n",
       "      <td>3</td>\n",
       "      <td>10084.0</td>\n",
       "      <td>0.000065</td>\n",
       "      <td>0.000156</td>\n",
       "    </tr>\n",
       "    <tr>\n",
       "      <th>191</th>\n",
       "      <td>barcode95</td>\n",
       "      <td>pass</td>\n",
       "      <td>3</td>\n",
       "      <td>8841.0</td>\n",
       "      <td>0.000065</td>\n",
       "      <td>0.000137</td>\n",
       "    </tr>\n",
       "    <tr>\n",
       "      <th>192</th>\n",
       "      <td>barcode96</td>\n",
       "      <td>pass</td>\n",
       "      <td>4</td>\n",
       "      <td>9131.0</td>\n",
       "      <td>0.000087</td>\n",
       "      <td>0.000141</td>\n",
       "    </tr>\n",
       "    <tr>\n",
       "      <th>193</th>\n",
       "      <td>unclassified</td>\n",
       "      <td>pass</td>\n",
       "      <td>61879</td>\n",
       "      <td>142797652.0</td>\n",
       "      <td>1.346623</td>\n",
       "      <td>2.211821</td>\n",
       "    </tr>\n",
       "  </tbody>\n",
       "</table>\n",
       "<p>194 rows × 6 columns</p>\n",
       "</div>"
      ],
      "text/plain": [
       "           sample    qc  reads        bases  reads_perc  bases_perc\n",
       "0          PAY002  fail   4371    5606222.0    0.095123    0.086836\n",
       "1          PAY004  fail   8498   26436426.0    0.184935    0.409479\n",
       "2          PAY005  fail  11408   45417195.0    0.248263    0.703476\n",
       "3    PAY004_F1-R1  fail  30030   24660597.0    0.653519    0.381973\n",
       "4          PAY011  fail   9502   19315887.0    0.206784    0.299188\n",
       "..            ...   ...    ...          ...         ...         ...\n",
       "189     barcode93  pass      2       2593.0    0.000044    0.000040\n",
       "190     barcode94  pass      3      10084.0    0.000065    0.000156\n",
       "191     barcode95  pass      3       8841.0    0.000065    0.000137\n",
       "192     barcode96  pass      4       9131.0    0.000087    0.000141\n",
       "193  unclassified  pass  61879  142797652.0    1.346623    2.211821\n",
       "\n",
       "[194 rows x 6 columns]"
      ]
     },
     "execution_count": 68,
     "metadata": {},
     "output_type": "execute_result"
    }
   ],
   "source": [
    "df"
   ]
  },
  {
   "cell_type": "code",
   "execution_count": 69,
   "id": "9f5815a2",
   "metadata": {},
   "outputs": [
    {
     "data": {
      "text/html": [
       "<div>\n",
       "<style scoped>\n",
       "    .dataframe tbody tr th:only-of-type {\n",
       "        vertical-align: middle;\n",
       "    }\n",
       "\n",
       "    .dataframe tbody tr th {\n",
       "        vertical-align: top;\n",
       "    }\n",
       "\n",
       "    .dataframe thead th {\n",
       "        text-align: right;\n",
       "    }\n",
       "</style>\n",
       "<table border=\"1\" class=\"dataframe\">\n",
       "  <thead>\n",
       "    <tr style=\"text-align: right;\">\n",
       "      <th></th>\n",
       "      <th>sample</th>\n",
       "      <th>qc</th>\n",
       "      <th>reads</th>\n",
       "      <th>bases</th>\n",
       "      <th>reads_perc</th>\n",
       "      <th>bases_perc</th>\n",
       "      <th>class</th>\n",
       "    </tr>\n",
       "  </thead>\n",
       "  <tbody>\n",
       "    <tr>\n",
       "      <th>0</th>\n",
       "      <td>PAY002</td>\n",
       "      <td>fail</td>\n",
       "      <td>4371</td>\n",
       "      <td>5606222.0</td>\n",
       "      <td>0.095123</td>\n",
       "      <td>0.086836</td>\n",
       "      <td>Sample (fail)</td>\n",
       "    </tr>\n",
       "    <tr>\n",
       "      <th>28</th>\n",
       "      <td>VA33_235</td>\n",
       "      <td>fail</td>\n",
       "      <td>1546</td>\n",
       "      <td>1665962.0</td>\n",
       "      <td>0.033644</td>\n",
       "      <td>0.025804</td>\n",
       "      <td>Sample (fail)</td>\n",
       "    </tr>\n",
       "    <tr>\n",
       "      <th>27</th>\n",
       "      <td>VA33_228</td>\n",
       "      <td>fail</td>\n",
       "      <td>3826</td>\n",
       "      <td>6469334.0</td>\n",
       "      <td>0.083262</td>\n",
       "      <td>0.100205</td>\n",
       "      <td>Sample (fail)</td>\n",
       "    </tr>\n",
       "    <tr>\n",
       "      <th>26</th>\n",
       "      <td>VA33_213</td>\n",
       "      <td>fail</td>\n",
       "      <td>1376</td>\n",
       "      <td>1279553.0</td>\n",
       "      <td>0.029945</td>\n",
       "      <td>0.019819</td>\n",
       "      <td>Sample (fail)</td>\n",
       "    </tr>\n",
       "    <tr>\n",
       "      <th>25</th>\n",
       "      <td>VA33_211_F1-R1</td>\n",
       "      <td>fail</td>\n",
       "      <td>30933</td>\n",
       "      <td>14580282.0</td>\n",
       "      <td>0.673170</td>\n",
       "      <td>0.225837</td>\n",
       "      <td>Sample (fail)</td>\n",
       "    </tr>\n",
       "    <tr>\n",
       "      <th>...</th>\n",
       "      <td>...</td>\n",
       "      <td>...</td>\n",
       "      <td>...</td>\n",
       "      <td>...</td>\n",
       "      <td>...</td>\n",
       "      <td>...</td>\n",
       "      <td>...</td>\n",
       "    </tr>\n",
       "    <tr>\n",
       "      <th>77</th>\n",
       "      <td>barcode78</td>\n",
       "      <td>fail</td>\n",
       "      <td>76</td>\n",
       "      <td>250642.0</td>\n",
       "      <td>0.001654</td>\n",
       "      <td>0.003882</td>\n",
       "      <td>other barcode</td>\n",
       "    </tr>\n",
       "    <tr>\n",
       "      <th>71</th>\n",
       "      <td>barcode72</td>\n",
       "      <td>fail</td>\n",
       "      <td>49</td>\n",
       "      <td>67607.0</td>\n",
       "      <td>0.001066</td>\n",
       "      <td>0.001047</td>\n",
       "      <td>other barcode</td>\n",
       "    </tr>\n",
       "    <tr>\n",
       "      <th>191</th>\n",
       "      <td>barcode95</td>\n",
       "      <td>pass</td>\n",
       "      <td>3</td>\n",
       "      <td>8841.0</td>\n",
       "      <td>0.000065</td>\n",
       "      <td>0.000137</td>\n",
       "      <td>other barcode</td>\n",
       "    </tr>\n",
       "    <tr>\n",
       "      <th>96</th>\n",
       "      <td>unclassified</td>\n",
       "      <td>fail</td>\n",
       "      <td>435865</td>\n",
       "      <td>848134490.0</td>\n",
       "      <td>9.485379</td>\n",
       "      <td>13.136925</td>\n",
       "      <td>unclassified</td>\n",
       "    </tr>\n",
       "    <tr>\n",
       "      <th>193</th>\n",
       "      <td>unclassified</td>\n",
       "      <td>pass</td>\n",
       "      <td>61879</td>\n",
       "      <td>142797652.0</td>\n",
       "      <td>1.346623</td>\n",
       "      <td>2.211821</td>\n",
       "      <td>unclassified</td>\n",
       "    </tr>\n",
       "  </tbody>\n",
       "</table>\n",
       "<p>194 rows × 7 columns</p>\n",
       "</div>"
      ],
      "text/plain": [
       "             sample    qc   reads        bases  reads_perc  bases_perc  \\\n",
       "0            PAY002  fail    4371    5606222.0    0.095123    0.086836   \n",
       "28         VA33_235  fail    1546    1665962.0    0.033644    0.025804   \n",
       "27         VA33_228  fail    3826    6469334.0    0.083262    0.100205   \n",
       "26         VA33_213  fail    1376    1279553.0    0.029945    0.019819   \n",
       "25   VA33_211_F1-R1  fail   30933   14580282.0    0.673170    0.225837   \n",
       "..              ...   ...     ...          ...         ...         ...   \n",
       "77        barcode78  fail      76     250642.0    0.001654    0.003882   \n",
       "71        barcode72  fail      49      67607.0    0.001066    0.001047   \n",
       "191       barcode95  pass       3       8841.0    0.000065    0.000137   \n",
       "96     unclassified  fail  435865  848134490.0    9.485379   13.136925   \n",
       "193    unclassified  pass   61879  142797652.0    1.346623    2.211821   \n",
       "\n",
       "             class  \n",
       "0    Sample (fail)  \n",
       "28   Sample (fail)  \n",
       "27   Sample (fail)  \n",
       "26   Sample (fail)  \n",
       "25   Sample (fail)  \n",
       "..             ...  \n",
       "77   other barcode  \n",
       "71   other barcode  \n",
       "191  other barcode  \n",
       "96    unclassified  \n",
       "193   unclassified  \n",
       "\n",
       "[194 rows x 7 columns]"
      ]
     },
     "execution_count": 69,
     "metadata": {},
     "output_type": "execute_result"
    }
   ],
   "source": [
    "## classes for pie chart\n",
    "df[\"class\"] = None\n",
    "\n",
    "df.loc[ df[\"sample\"].str.startswith(\"unclassified\"), 'class'] = \"unclassified\"\n",
    "\n",
    "df.loc[ (pd.isna(df[\"class\"])) & (df[\"sample\"].str.startswith(\"barcode\")),\n",
    "       \"class\"] = \"other barcode\"\n",
    "\n",
    "df.loc[ (pd.isna(df[\"class\"])) & (df[\"qc\"]==\"fail\"),\n",
    "       \"class\"] = \"Sample (fail)\"\n",
    "\n",
    "df.loc[ (pd.isna(df[\"class\"])) & (df[\"qc\"]==\"pass\"),\n",
    "       \"class\"] = \"Sample (pass)\"\n",
    "\n",
    "\n",
    "##df = df.sort_values(['qc', 'class'], ascending=[False, False])\n",
    "df = df.sort_values(by=['class'], ascending=True)\n",
    "\n",
    "df"
   ]
  },
  {
   "cell_type": "code",
   "execution_count": 70,
   "id": "f03f3ea8",
   "metadata": {},
   "outputs": [
    {
     "data": {
      "text/plain": [
       "array(['Sample (fail)', 'Sample (pass)', 'other barcode', 'unclassified'],\n",
       "      dtype=object)"
      ]
     },
     "execution_count": 70,
     "metadata": {},
     "output_type": "execute_result"
    }
   ],
   "source": [
    "df[\"class\"].unique()"
   ]
  },
  {
   "cell_type": "code",
   "execution_count": 71,
   "id": "f8b676fa",
   "metadata": {},
   "outputs": [
    {
     "data": {
      "application/vnd.plotly.v1+json": {
       "config": {
        "displaylogo": false,
        "plotlyServerURL": "https://plot.ly"
       },
       "data": [
        {
         "customdata": [
          [
           "Sample (fail)"
          ],
          [
           "Sample (fail)"
          ],
          [
           "Sample (fail)"
          ],
          [
           "Sample (fail)"
          ],
          [
           "Sample (fail)"
          ],
          [
           "Sample (fail)"
          ],
          [
           "Sample (fail)"
          ],
          [
           "Sample (fail)"
          ],
          [
           "Sample (fail)"
          ],
          [
           "Sample (fail)"
          ],
          [
           "Sample (fail)"
          ],
          [
           "Sample (fail)"
          ],
          [
           "Sample (fail)"
          ],
          [
           "Sample (fail)"
          ],
          [
           "Sample (fail)"
          ],
          [
           "Sample (fail)"
          ],
          [
           "Sample (fail)"
          ],
          [
           "Sample (fail)"
          ],
          [
           "Sample (fail)"
          ],
          [
           "Sample (fail)"
          ],
          [
           "Sample (fail)"
          ],
          [
           "Sample (fail)"
          ],
          [
           "Sample (fail)"
          ],
          [
           "Sample (fail)"
          ],
          [
           "Sample (fail)"
          ],
          [
           "Sample (fail)"
          ],
          [
           "Sample (fail)"
          ],
          [
           "Sample (fail)"
          ],
          [
           "Sample (fail)"
          ],
          [
           "Sample (fail)"
          ],
          [
           "Sample (pass)"
          ],
          [
           "Sample (pass)"
          ],
          [
           "Sample (pass)"
          ],
          [
           "Sample (pass)"
          ],
          [
           "Sample (pass)"
          ],
          [
           "Sample (pass)"
          ],
          [
           "Sample (pass)"
          ],
          [
           "Sample (pass)"
          ],
          [
           "Sample (pass)"
          ],
          [
           "Sample (pass)"
          ],
          [
           "Sample (pass)"
          ],
          [
           "Sample (pass)"
          ],
          [
           "Sample (pass)"
          ],
          [
           "Sample (pass)"
          ],
          [
           "Sample (pass)"
          ],
          [
           "Sample (pass)"
          ],
          [
           "Sample (pass)"
          ],
          [
           "Sample (pass)"
          ],
          [
           "Sample (pass)"
          ],
          [
           "Sample (pass)"
          ],
          [
           "Sample (pass)"
          ],
          [
           "Sample (pass)"
          ],
          [
           "Sample (pass)"
          ],
          [
           "Sample (pass)"
          ],
          [
           "Sample (pass)"
          ],
          [
           "Sample (pass)"
          ],
          [
           "Sample (pass)"
          ],
          [
           "Sample (pass)"
          ],
          [
           "Sample (pass)"
          ],
          [
           "Sample (pass)"
          ],
          [
           "other barcode"
          ],
          [
           "other barcode"
          ],
          [
           "other barcode"
          ],
          [
           "other barcode"
          ],
          [
           "other barcode"
          ],
          [
           "other barcode"
          ],
          [
           "other barcode"
          ],
          [
           "other barcode"
          ],
          [
           "other barcode"
          ],
          [
           "other barcode"
          ],
          [
           "other barcode"
          ],
          [
           "other barcode"
          ],
          [
           "other barcode"
          ],
          [
           "other barcode"
          ],
          [
           "other barcode"
          ],
          [
           "other barcode"
          ],
          [
           "other barcode"
          ],
          [
           "other barcode"
          ],
          [
           "other barcode"
          ],
          [
           "other barcode"
          ],
          [
           "other barcode"
          ],
          [
           "other barcode"
          ],
          [
           "other barcode"
          ],
          [
           "other barcode"
          ],
          [
           "other barcode"
          ],
          [
           "other barcode"
          ],
          [
           "other barcode"
          ],
          [
           "other barcode"
          ],
          [
           "other barcode"
          ],
          [
           "other barcode"
          ],
          [
           "other barcode"
          ],
          [
           "other barcode"
          ],
          [
           "other barcode"
          ],
          [
           "other barcode"
          ],
          [
           "other barcode"
          ],
          [
           "other barcode"
          ],
          [
           "other barcode"
          ],
          [
           "other barcode"
          ],
          [
           "other barcode"
          ],
          [
           "other barcode"
          ],
          [
           "other barcode"
          ],
          [
           "other barcode"
          ],
          [
           "other barcode"
          ],
          [
           "other barcode"
          ],
          [
           "other barcode"
          ],
          [
           "other barcode"
          ],
          [
           "other barcode"
          ],
          [
           "other barcode"
          ],
          [
           "other barcode"
          ],
          [
           "other barcode"
          ],
          [
           "other barcode"
          ],
          [
           "other barcode"
          ],
          [
           "other barcode"
          ],
          [
           "other barcode"
          ],
          [
           "other barcode"
          ],
          [
           "other barcode"
          ],
          [
           "other barcode"
          ],
          [
           "other barcode"
          ],
          [
           "other barcode"
          ],
          [
           "other barcode"
          ],
          [
           "other barcode"
          ],
          [
           "other barcode"
          ],
          [
           "other barcode"
          ],
          [
           "other barcode"
          ],
          [
           "other barcode"
          ],
          [
           "other barcode"
          ],
          [
           "other barcode"
          ],
          [
           "other barcode"
          ],
          [
           "other barcode"
          ],
          [
           "other barcode"
          ],
          [
           "other barcode"
          ],
          [
           "other barcode"
          ],
          [
           "other barcode"
          ],
          [
           "other barcode"
          ],
          [
           "other barcode"
          ],
          [
           "other barcode"
          ],
          [
           "other barcode"
          ],
          [
           "other barcode"
          ],
          [
           "other barcode"
          ],
          [
           "other barcode"
          ],
          [
           "other barcode"
          ],
          [
           "other barcode"
          ],
          [
           "other barcode"
          ],
          [
           "other barcode"
          ],
          [
           "other barcode"
          ],
          [
           "other barcode"
          ],
          [
           "other barcode"
          ],
          [
           "other barcode"
          ],
          [
           "other barcode"
          ],
          [
           "other barcode"
          ],
          [
           "other barcode"
          ],
          [
           "other barcode"
          ],
          [
           "other barcode"
          ],
          [
           "other barcode"
          ],
          [
           "other barcode"
          ],
          [
           "other barcode"
          ],
          [
           "other barcode"
          ],
          [
           "other barcode"
          ],
          [
           "other barcode"
          ],
          [
           "other barcode"
          ],
          [
           "other barcode"
          ],
          [
           "other barcode"
          ],
          [
           "other barcode"
          ],
          [
           "other barcode"
          ],
          [
           "other barcode"
          ],
          [
           "other barcode"
          ],
          [
           "other barcode"
          ],
          [
           "other barcode"
          ],
          [
           "other barcode"
          ],
          [
           "other barcode"
          ],
          [
           "other barcode"
          ],
          [
           "other barcode"
          ],
          [
           "other barcode"
          ],
          [
           "other barcode"
          ],
          [
           "other barcode"
          ],
          [
           "other barcode"
          ],
          [
           "other barcode"
          ],
          [
           "other barcode"
          ],
          [
           "other barcode"
          ],
          [
           "other barcode"
          ],
          [
           "other barcode"
          ],
          [
           "other barcode"
          ],
          [
           "other barcode"
          ],
          [
           "other barcode"
          ],
          [
           "other barcode"
          ],
          [
           "other barcode"
          ],
          [
           "other barcode"
          ],
          [
           "other barcode"
          ],
          [
           "other barcode"
          ],
          [
           "other barcode"
          ],
          [
           "other barcode"
          ],
          [
           "other barcode"
          ],
          [
           "unclassified"
          ],
          [
           "unclassified"
          ]
         ],
         "domain": {
          "x": [
           0,
           1
          ],
          "y": [
           0,
           1
          ]
         },
         "hovertemplate": "class=%{customdata[0]}<br>reads=%{value}<extra></extra>",
         "labels": [
          "Sample (fail)",
          "Sample (fail)",
          "Sample (fail)",
          "Sample (fail)",
          "Sample (fail)",
          "Sample (fail)",
          "Sample (fail)",
          "Sample (fail)",
          "Sample (fail)",
          "Sample (fail)",
          "Sample (fail)",
          "Sample (fail)",
          "Sample (fail)",
          "Sample (fail)",
          "Sample (fail)",
          "Sample (fail)",
          "Sample (fail)",
          "Sample (fail)",
          "Sample (fail)",
          "Sample (fail)",
          "Sample (fail)",
          "Sample (fail)",
          "Sample (fail)",
          "Sample (fail)",
          "Sample (fail)",
          "Sample (fail)",
          "Sample (fail)",
          "Sample (fail)",
          "Sample (fail)",
          "Sample (fail)",
          "Sample (pass)",
          "Sample (pass)",
          "Sample (pass)",
          "Sample (pass)",
          "Sample (pass)",
          "Sample (pass)",
          "Sample (pass)",
          "Sample (pass)",
          "Sample (pass)",
          "Sample (pass)",
          "Sample (pass)",
          "Sample (pass)",
          "Sample (pass)",
          "Sample (pass)",
          "Sample (pass)",
          "Sample (pass)",
          "Sample (pass)",
          "Sample (pass)",
          "Sample (pass)",
          "Sample (pass)",
          "Sample (pass)",
          "Sample (pass)",
          "Sample (pass)",
          "Sample (pass)",
          "Sample (pass)",
          "Sample (pass)",
          "Sample (pass)",
          "Sample (pass)",
          "Sample (pass)",
          "Sample (pass)",
          "other barcode",
          "other barcode",
          "other barcode",
          "other barcode",
          "other barcode",
          "other barcode",
          "other barcode",
          "other barcode",
          "other barcode",
          "other barcode",
          "other barcode",
          "other barcode",
          "other barcode",
          "other barcode",
          "other barcode",
          "other barcode",
          "other barcode",
          "other barcode",
          "other barcode",
          "other barcode",
          "other barcode",
          "other barcode",
          "other barcode",
          "other barcode",
          "other barcode",
          "other barcode",
          "other barcode",
          "other barcode",
          "other barcode",
          "other barcode",
          "other barcode",
          "other barcode",
          "other barcode",
          "other barcode",
          "other barcode",
          "other barcode",
          "other barcode",
          "other barcode",
          "other barcode",
          "other barcode",
          "other barcode",
          "other barcode",
          "other barcode",
          "other barcode",
          "other barcode",
          "other barcode",
          "other barcode",
          "other barcode",
          "other barcode",
          "other barcode",
          "other barcode",
          "other barcode",
          "other barcode",
          "other barcode",
          "other barcode",
          "other barcode",
          "other barcode",
          "other barcode",
          "other barcode",
          "other barcode",
          "other barcode",
          "other barcode",
          "other barcode",
          "other barcode",
          "other barcode",
          "other barcode",
          "other barcode",
          "other barcode",
          "other barcode",
          "other barcode",
          "other barcode",
          "other barcode",
          "other barcode",
          "other barcode",
          "other barcode",
          "other barcode",
          "other barcode",
          "other barcode",
          "other barcode",
          "other barcode",
          "other barcode",
          "other barcode",
          "other barcode",
          "other barcode",
          "other barcode",
          "other barcode",
          "other barcode",
          "other barcode",
          "other barcode",
          "other barcode",
          "other barcode",
          "other barcode",
          "other barcode",
          "other barcode",
          "other barcode",
          "other barcode",
          "other barcode",
          "other barcode",
          "other barcode",
          "other barcode",
          "other barcode",
          "other barcode",
          "other barcode",
          "other barcode",
          "other barcode",
          "other barcode",
          "other barcode",
          "other barcode",
          "other barcode",
          "other barcode",
          "other barcode",
          "other barcode",
          "other barcode",
          "other barcode",
          "other barcode",
          "other barcode",
          "other barcode",
          "other barcode",
          "other barcode",
          "other barcode",
          "other barcode",
          "other barcode",
          "other barcode",
          "other barcode",
          "other barcode",
          "other barcode",
          "other barcode",
          "other barcode",
          "other barcode",
          "other barcode",
          "other barcode",
          "other barcode",
          "unclassified",
          "unclassified"
         ],
         "legendgroup": "",
         "marker": {
          "colors": [
           "orange",
           "orange",
           "orange",
           "orange",
           "orange",
           "orange",
           "orange",
           "orange",
           "orange",
           "orange",
           "orange",
           "orange",
           "orange",
           "orange",
           "orange",
           "orange",
           "orange",
           "orange",
           "orange",
           "orange",
           "orange",
           "orange",
           "orange",
           "orange",
           "orange",
           "orange",
           "orange",
           "orange",
           "orange",
           "orange",
           "green",
           "green",
           "green",
           "green",
           "green",
           "green",
           "green",
           "green",
           "green",
           "green",
           "green",
           "green",
           "green",
           "green",
           "green",
           "green",
           "green",
           "green",
           "green",
           "green",
           "green",
           "green",
           "green",
           "green",
           "green",
           "green",
           "green",
           "green",
           "green",
           "green",
           "grey",
           "grey",
           "grey",
           "grey",
           "grey",
           "grey",
           "grey",
           "grey",
           "grey",
           "grey",
           "grey",
           "grey",
           "grey",
           "grey",
           "grey",
           "grey",
           "grey",
           "grey",
           "grey",
           "grey",
           "grey",
           "grey",
           "grey",
           "grey",
           "grey",
           "grey",
           "grey",
           "grey",
           "grey",
           "grey",
           "grey",
           "grey",
           "grey",
           "grey",
           "grey",
           "grey",
           "grey",
           "grey",
           "grey",
           "grey",
           "grey",
           "grey",
           "grey",
           "grey",
           "grey",
           "grey",
           "grey",
           "grey",
           "grey",
           "grey",
           "grey",
           "grey",
           "grey",
           "grey",
           "grey",
           "grey",
           "grey",
           "grey",
           "grey",
           "grey",
           "grey",
           "grey",
           "grey",
           "grey",
           "grey",
           "grey",
           "grey",
           "grey",
           "grey",
           "grey",
           "grey",
           "grey",
           "grey",
           "grey",
           "grey",
           "grey",
           "grey",
           "grey",
           "grey",
           "grey",
           "grey",
           "grey",
           "grey",
           "grey",
           "grey",
           "grey",
           "grey",
           "grey",
           "grey",
           "grey",
           "grey",
           "grey",
           "grey",
           "grey",
           "grey",
           "grey",
           "grey",
           "grey",
           "grey",
           "grey",
           "grey",
           "grey",
           "grey",
           "grey",
           "grey",
           "grey",
           "grey",
           "grey",
           "grey",
           "grey",
           "grey",
           "grey",
           "grey",
           "grey",
           "grey",
           "grey",
           "grey",
           "grey",
           "grey",
           "grey",
           "grey",
           "grey",
           "grey",
           "grey",
           "grey",
           "grey",
           "grey",
           "grey",
           "grey",
           "grey",
           "grey",
           "grey",
           "black",
           "black"
          ]
         },
         "name": "",
         "showlegend": true,
         "sort": false,
         "type": "pie",
         "values": [
          4371,
          1546,
          3826,
          1376,
          30933,
          2105,
          19284,
          17110,
          57746,
          12487,
          17277,
          9702,
          9029,
          7868,
          7923,
          9881,
          10927,
          10470,
          8498,
          11408,
          30030,
          16709,
          9632,
          9502,
          11677,
          7795,
          7119,
          7020,
          14397,
          22879,
          124851,
          126913,
          91241,
          178714,
          324798,
          31446,
          66805,
          60285,
          24582,
          71787,
          160380,
          62628,
          81996,
          62801,
          99331,
          110811,
          89591,
          105368,
          76088,
          40169,
          70380,
          122301,
          40359,
          623197,
          83985,
          102303,
          168175,
          92844,
          42138,
          367028,
          1,
          7,
          5,
          2,
          79,
          1,
          7,
          7,
          4,
          16,
          3,
          19,
          4,
          16,
          8,
          4,
          3,
          3,
          74,
          7,
          1,
          4,
          3,
          1,
          14,
          1,
          4,
          1,
          2,
          3,
          8,
          13,
          4,
          2,
          4,
          7,
          2,
          9,
          3,
          6,
          4,
          9,
          6,
          5,
          2,
          4,
          14,
          4,
          4,
          33,
          8,
          3,
          1,
          7,
          3,
          2,
          3,
          12,
          3,
          2,
          3,
          9,
          5,
          59,
          3,
          42,
          41,
          37,
          18,
          54,
          33,
          50,
          60,
          54,
          18,
          38,
          55,
          49,
          19,
          26,
          162,
          14,
          21,
          71,
          23,
          21,
          47,
          56,
          70,
          26,
          25,
          83,
          39,
          65,
          128,
          75,
          34,
          17,
          36,
          25,
          35,
          14,
          13,
          65,
          5,
          55,
          20,
          13,
          23,
          24,
          47,
          59,
          33,
          27,
          79,
          32,
          30,
          34,
          39,
          34,
          216,
          23,
          4,
          49,
          36,
          85,
          46,
          59,
          30,
          76,
          49,
          3,
          435865,
          61879
         ]
        }
       ],
       "layout": {
        "legend": {
         "tracegroupgap": 0
        },
        "template": {
         "data": {
          "bar": [
           {
            "error_x": {
             "color": "#2a3f5f"
            },
            "error_y": {
             "color": "#2a3f5f"
            },
            "marker": {
             "line": {
              "color": "#E5ECF6",
              "width": 0.5
             },
             "pattern": {
              "fillmode": "overlay",
              "size": 10,
              "solidity": 0.2
             }
            },
            "type": "bar"
           }
          ],
          "barpolar": [
           {
            "marker": {
             "line": {
              "color": "#E5ECF6",
              "width": 0.5
             },
             "pattern": {
              "fillmode": "overlay",
              "size": 10,
              "solidity": 0.2
             }
            },
            "type": "barpolar"
           }
          ],
          "carpet": [
           {
            "aaxis": {
             "endlinecolor": "#2a3f5f",
             "gridcolor": "white",
             "linecolor": "white",
             "minorgridcolor": "white",
             "startlinecolor": "#2a3f5f"
            },
            "baxis": {
             "endlinecolor": "#2a3f5f",
             "gridcolor": "white",
             "linecolor": "white",
             "minorgridcolor": "white",
             "startlinecolor": "#2a3f5f"
            },
            "type": "carpet"
           }
          ],
          "choropleth": [
           {
            "colorbar": {
             "outlinewidth": 0,
             "ticks": ""
            },
            "type": "choropleth"
           }
          ],
          "contour": [
           {
            "colorbar": {
             "outlinewidth": 0,
             "ticks": ""
            },
            "colorscale": [
             [
              0,
              "#0d0887"
             ],
             [
              0.1111111111111111,
              "#46039f"
             ],
             [
              0.2222222222222222,
              "#7201a8"
             ],
             [
              0.3333333333333333,
              "#9c179e"
             ],
             [
              0.4444444444444444,
              "#bd3786"
             ],
             [
              0.5555555555555556,
              "#d8576b"
             ],
             [
              0.6666666666666666,
              "#ed7953"
             ],
             [
              0.7777777777777778,
              "#fb9f3a"
             ],
             [
              0.8888888888888888,
              "#fdca26"
             ],
             [
              1,
              "#f0f921"
             ]
            ],
            "type": "contour"
           }
          ],
          "contourcarpet": [
           {
            "colorbar": {
             "outlinewidth": 0,
             "ticks": ""
            },
            "type": "contourcarpet"
           }
          ],
          "heatmap": [
           {
            "colorbar": {
             "outlinewidth": 0,
             "ticks": ""
            },
            "colorscale": [
             [
              0,
              "#0d0887"
             ],
             [
              0.1111111111111111,
              "#46039f"
             ],
             [
              0.2222222222222222,
              "#7201a8"
             ],
             [
              0.3333333333333333,
              "#9c179e"
             ],
             [
              0.4444444444444444,
              "#bd3786"
             ],
             [
              0.5555555555555556,
              "#d8576b"
             ],
             [
              0.6666666666666666,
              "#ed7953"
             ],
             [
              0.7777777777777778,
              "#fb9f3a"
             ],
             [
              0.8888888888888888,
              "#fdca26"
             ],
             [
              1,
              "#f0f921"
             ]
            ],
            "type": "heatmap"
           }
          ],
          "heatmapgl": [
           {
            "colorbar": {
             "outlinewidth": 0,
             "ticks": ""
            },
            "colorscale": [
             [
              0,
              "#0d0887"
             ],
             [
              0.1111111111111111,
              "#46039f"
             ],
             [
              0.2222222222222222,
              "#7201a8"
             ],
             [
              0.3333333333333333,
              "#9c179e"
             ],
             [
              0.4444444444444444,
              "#bd3786"
             ],
             [
              0.5555555555555556,
              "#d8576b"
             ],
             [
              0.6666666666666666,
              "#ed7953"
             ],
             [
              0.7777777777777778,
              "#fb9f3a"
             ],
             [
              0.8888888888888888,
              "#fdca26"
             ],
             [
              1,
              "#f0f921"
             ]
            ],
            "type": "heatmapgl"
           }
          ],
          "histogram": [
           {
            "marker": {
             "pattern": {
              "fillmode": "overlay",
              "size": 10,
              "solidity": 0.2
             }
            },
            "type": "histogram"
           }
          ],
          "histogram2d": [
           {
            "colorbar": {
             "outlinewidth": 0,
             "ticks": ""
            },
            "colorscale": [
             [
              0,
              "#0d0887"
             ],
             [
              0.1111111111111111,
              "#46039f"
             ],
             [
              0.2222222222222222,
              "#7201a8"
             ],
             [
              0.3333333333333333,
              "#9c179e"
             ],
             [
              0.4444444444444444,
              "#bd3786"
             ],
             [
              0.5555555555555556,
              "#d8576b"
             ],
             [
              0.6666666666666666,
              "#ed7953"
             ],
             [
              0.7777777777777778,
              "#fb9f3a"
             ],
             [
              0.8888888888888888,
              "#fdca26"
             ],
             [
              1,
              "#f0f921"
             ]
            ],
            "type": "histogram2d"
           }
          ],
          "histogram2dcontour": [
           {
            "colorbar": {
             "outlinewidth": 0,
             "ticks": ""
            },
            "colorscale": [
             [
              0,
              "#0d0887"
             ],
             [
              0.1111111111111111,
              "#46039f"
             ],
             [
              0.2222222222222222,
              "#7201a8"
             ],
             [
              0.3333333333333333,
              "#9c179e"
             ],
             [
              0.4444444444444444,
              "#bd3786"
             ],
             [
              0.5555555555555556,
              "#d8576b"
             ],
             [
              0.6666666666666666,
              "#ed7953"
             ],
             [
              0.7777777777777778,
              "#fb9f3a"
             ],
             [
              0.8888888888888888,
              "#fdca26"
             ],
             [
              1,
              "#f0f921"
             ]
            ],
            "type": "histogram2dcontour"
           }
          ],
          "mesh3d": [
           {
            "colorbar": {
             "outlinewidth": 0,
             "ticks": ""
            },
            "type": "mesh3d"
           }
          ],
          "parcoords": [
           {
            "line": {
             "colorbar": {
              "outlinewidth": 0,
              "ticks": ""
             }
            },
            "type": "parcoords"
           }
          ],
          "pie": [
           {
            "automargin": true,
            "type": "pie"
           }
          ],
          "scatter": [
           {
            "fillpattern": {
             "fillmode": "overlay",
             "size": 10,
             "solidity": 0.2
            },
            "type": "scatter"
           }
          ],
          "scatter3d": [
           {
            "line": {
             "colorbar": {
              "outlinewidth": 0,
              "ticks": ""
             }
            },
            "marker": {
             "colorbar": {
              "outlinewidth": 0,
              "ticks": ""
             }
            },
            "type": "scatter3d"
           }
          ],
          "scattercarpet": [
           {
            "marker": {
             "colorbar": {
              "outlinewidth": 0,
              "ticks": ""
             }
            },
            "type": "scattercarpet"
           }
          ],
          "scattergeo": [
           {
            "marker": {
             "colorbar": {
              "outlinewidth": 0,
              "ticks": ""
             }
            },
            "type": "scattergeo"
           }
          ],
          "scattergl": [
           {
            "marker": {
             "colorbar": {
              "outlinewidth": 0,
              "ticks": ""
             }
            },
            "type": "scattergl"
           }
          ],
          "scattermapbox": [
           {
            "marker": {
             "colorbar": {
              "outlinewidth": 0,
              "ticks": ""
             }
            },
            "type": "scattermapbox"
           }
          ],
          "scatterpolar": [
           {
            "marker": {
             "colorbar": {
              "outlinewidth": 0,
              "ticks": ""
             }
            },
            "type": "scatterpolar"
           }
          ],
          "scatterpolargl": [
           {
            "marker": {
             "colorbar": {
              "outlinewidth": 0,
              "ticks": ""
             }
            },
            "type": "scatterpolargl"
           }
          ],
          "scatterternary": [
           {
            "marker": {
             "colorbar": {
              "outlinewidth": 0,
              "ticks": ""
             }
            },
            "type": "scatterternary"
           }
          ],
          "surface": [
           {
            "colorbar": {
             "outlinewidth": 0,
             "ticks": ""
            },
            "colorscale": [
             [
              0,
              "#0d0887"
             ],
             [
              0.1111111111111111,
              "#46039f"
             ],
             [
              0.2222222222222222,
              "#7201a8"
             ],
             [
              0.3333333333333333,
              "#9c179e"
             ],
             [
              0.4444444444444444,
              "#bd3786"
             ],
             [
              0.5555555555555556,
              "#d8576b"
             ],
             [
              0.6666666666666666,
              "#ed7953"
             ],
             [
              0.7777777777777778,
              "#fb9f3a"
             ],
             [
              0.8888888888888888,
              "#fdca26"
             ],
             [
              1,
              "#f0f921"
             ]
            ],
            "type": "surface"
           }
          ],
          "table": [
           {
            "cells": {
             "fill": {
              "color": "#EBF0F8"
             },
             "line": {
              "color": "white"
             }
            },
            "header": {
             "fill": {
              "color": "#C8D4E3"
             },
             "line": {
              "color": "white"
             }
            },
            "type": "table"
           }
          ]
         },
         "layout": {
          "annotationdefaults": {
           "arrowcolor": "#2a3f5f",
           "arrowhead": 0,
           "arrowwidth": 1
          },
          "autotypenumbers": "strict",
          "coloraxis": {
           "colorbar": {
            "outlinewidth": 0,
            "ticks": ""
           }
          },
          "colorscale": {
           "diverging": [
            [
             0,
             "#8e0152"
            ],
            [
             0.1,
             "#c51b7d"
            ],
            [
             0.2,
             "#de77ae"
            ],
            [
             0.3,
             "#f1b6da"
            ],
            [
             0.4,
             "#fde0ef"
            ],
            [
             0.5,
             "#f7f7f7"
            ],
            [
             0.6,
             "#e6f5d0"
            ],
            [
             0.7,
             "#b8e186"
            ],
            [
             0.8,
             "#7fbc41"
            ],
            [
             0.9,
             "#4d9221"
            ],
            [
             1,
             "#276419"
            ]
           ],
           "sequential": [
            [
             0,
             "#0d0887"
            ],
            [
             0.1111111111111111,
             "#46039f"
            ],
            [
             0.2222222222222222,
             "#7201a8"
            ],
            [
             0.3333333333333333,
             "#9c179e"
            ],
            [
             0.4444444444444444,
             "#bd3786"
            ],
            [
             0.5555555555555556,
             "#d8576b"
            ],
            [
             0.6666666666666666,
             "#ed7953"
            ],
            [
             0.7777777777777778,
             "#fb9f3a"
            ],
            [
             0.8888888888888888,
             "#fdca26"
            ],
            [
             1,
             "#f0f921"
            ]
           ],
           "sequentialminus": [
            [
             0,
             "#0d0887"
            ],
            [
             0.1111111111111111,
             "#46039f"
            ],
            [
             0.2222222222222222,
             "#7201a8"
            ],
            [
             0.3333333333333333,
             "#9c179e"
            ],
            [
             0.4444444444444444,
             "#bd3786"
            ],
            [
             0.5555555555555556,
             "#d8576b"
            ],
            [
             0.6666666666666666,
             "#ed7953"
            ],
            [
             0.7777777777777778,
             "#fb9f3a"
            ],
            [
             0.8888888888888888,
             "#fdca26"
            ],
            [
             1,
             "#f0f921"
            ]
           ]
          },
          "colorway": [
           "#636efa",
           "#EF553B",
           "#00cc96",
           "#ab63fa",
           "#FFA15A",
           "#19d3f3",
           "#FF6692",
           "#B6E880",
           "#FF97FF",
           "#FECB52"
          ],
          "font": {
           "color": "#2a3f5f"
          },
          "geo": {
           "bgcolor": "white",
           "lakecolor": "white",
           "landcolor": "#E5ECF6",
           "showlakes": true,
           "showland": true,
           "subunitcolor": "white"
          },
          "hoverlabel": {
           "align": "left"
          },
          "hovermode": "closest",
          "mapbox": {
           "style": "light"
          },
          "paper_bgcolor": "white",
          "plot_bgcolor": "#E5ECF6",
          "polar": {
           "angularaxis": {
            "gridcolor": "white",
            "linecolor": "white",
            "ticks": ""
           },
           "bgcolor": "#E5ECF6",
           "radialaxis": {
            "gridcolor": "white",
            "linecolor": "white",
            "ticks": ""
           }
          },
          "scene": {
           "xaxis": {
            "backgroundcolor": "#E5ECF6",
            "gridcolor": "white",
            "gridwidth": 2,
            "linecolor": "white",
            "showbackground": true,
            "ticks": "",
            "zerolinecolor": "white"
           },
           "yaxis": {
            "backgroundcolor": "#E5ECF6",
            "gridcolor": "white",
            "gridwidth": 2,
            "linecolor": "white",
            "showbackground": true,
            "ticks": "",
            "zerolinecolor": "white"
           },
           "zaxis": {
            "backgroundcolor": "#E5ECF6",
            "gridcolor": "white",
            "gridwidth": 2,
            "linecolor": "white",
            "showbackground": true,
            "ticks": "",
            "zerolinecolor": "white"
           }
          },
          "shapedefaults": {
           "line": {
            "color": "#2a3f5f"
           }
          },
          "ternary": {
           "aaxis": {
            "gridcolor": "white",
            "linecolor": "white",
            "ticks": ""
           },
           "baxis": {
            "gridcolor": "white",
            "linecolor": "white",
            "ticks": ""
           },
           "bgcolor": "#E5ECF6",
           "caxis": {
            "gridcolor": "white",
            "linecolor": "white",
            "ticks": ""
           }
          },
          "title": {
           "x": 0.05
          },
          "xaxis": {
           "automargin": true,
           "gridcolor": "white",
           "linecolor": "white",
           "ticks": "",
           "title": {
            "standoff": 15
           },
           "zerolinecolor": "white",
           "zerolinewidth": 2
          },
          "yaxis": {
           "automargin": true,
           "gridcolor": "white",
           "linecolor": "white",
           "ticks": "",
           "title": {
            "standoff": 15
           },
           "zerolinecolor": "white",
           "zerolinewidth": 2
          }
         }
        },
        "title": {
         "text": "001_20220412_FAME3 - Reads"
        }
       }
      },
      "text/html": [
       "<div>                            <div id=\"663ee476-04d3-4817-881f-7dc2cdcc35f4\" class=\"plotly-graph-div\" style=\"height:525px; width:100%;\"></div>            <script type=\"text/javascript\">                require([\"plotly\"], function(Plotly) {                    window.PLOTLYENV=window.PLOTLYENV || {};                                    if (document.getElementById(\"663ee476-04d3-4817-881f-7dc2cdcc35f4\")) {                    Plotly.newPlot(                        \"663ee476-04d3-4817-881f-7dc2cdcc35f4\",                        [{\"customdata\":[[\"Sample (fail)\"],[\"Sample (fail)\"],[\"Sample (fail)\"],[\"Sample (fail)\"],[\"Sample (fail)\"],[\"Sample (fail)\"],[\"Sample (fail)\"],[\"Sample (fail)\"],[\"Sample (fail)\"],[\"Sample (fail)\"],[\"Sample (fail)\"],[\"Sample (fail)\"],[\"Sample (fail)\"],[\"Sample (fail)\"],[\"Sample (fail)\"],[\"Sample (fail)\"],[\"Sample (fail)\"],[\"Sample (fail)\"],[\"Sample (fail)\"],[\"Sample (fail)\"],[\"Sample (fail)\"],[\"Sample (fail)\"],[\"Sample (fail)\"],[\"Sample (fail)\"],[\"Sample (fail)\"],[\"Sample (fail)\"],[\"Sample (fail)\"],[\"Sample (fail)\"],[\"Sample (fail)\"],[\"Sample (fail)\"],[\"Sample (pass)\"],[\"Sample (pass)\"],[\"Sample (pass)\"],[\"Sample (pass)\"],[\"Sample (pass)\"],[\"Sample (pass)\"],[\"Sample (pass)\"],[\"Sample (pass)\"],[\"Sample (pass)\"],[\"Sample (pass)\"],[\"Sample (pass)\"],[\"Sample (pass)\"],[\"Sample (pass)\"],[\"Sample (pass)\"],[\"Sample (pass)\"],[\"Sample (pass)\"],[\"Sample (pass)\"],[\"Sample (pass)\"],[\"Sample (pass)\"],[\"Sample (pass)\"],[\"Sample (pass)\"],[\"Sample (pass)\"],[\"Sample (pass)\"],[\"Sample (pass)\"],[\"Sample (pass)\"],[\"Sample (pass)\"],[\"Sample (pass)\"],[\"Sample (pass)\"],[\"Sample (pass)\"],[\"Sample (pass)\"],[\"other barcode\"],[\"other barcode\"],[\"other barcode\"],[\"other barcode\"],[\"other barcode\"],[\"other barcode\"],[\"other barcode\"],[\"other barcode\"],[\"other barcode\"],[\"other barcode\"],[\"other barcode\"],[\"other barcode\"],[\"other barcode\"],[\"other barcode\"],[\"other barcode\"],[\"other barcode\"],[\"other barcode\"],[\"other barcode\"],[\"other barcode\"],[\"other barcode\"],[\"other barcode\"],[\"other barcode\"],[\"other barcode\"],[\"other barcode\"],[\"other barcode\"],[\"other barcode\"],[\"other barcode\"],[\"other barcode\"],[\"other barcode\"],[\"other barcode\"],[\"other barcode\"],[\"other barcode\"],[\"other barcode\"],[\"other barcode\"],[\"other barcode\"],[\"other barcode\"],[\"other barcode\"],[\"other barcode\"],[\"other barcode\"],[\"other barcode\"],[\"other barcode\"],[\"other barcode\"],[\"other barcode\"],[\"other barcode\"],[\"other barcode\"],[\"other barcode\"],[\"other barcode\"],[\"other barcode\"],[\"other barcode\"],[\"other barcode\"],[\"other barcode\"],[\"other barcode\"],[\"other barcode\"],[\"other barcode\"],[\"other barcode\"],[\"other barcode\"],[\"other barcode\"],[\"other barcode\"],[\"other barcode\"],[\"other barcode\"],[\"other barcode\"],[\"other barcode\"],[\"other barcode\"],[\"other barcode\"],[\"other barcode\"],[\"other barcode\"],[\"other barcode\"],[\"other barcode\"],[\"other barcode\"],[\"other barcode\"],[\"other barcode\"],[\"other barcode\"],[\"other barcode\"],[\"other barcode\"],[\"other barcode\"],[\"other barcode\"],[\"other barcode\"],[\"other barcode\"],[\"other barcode\"],[\"other barcode\"],[\"other barcode\"],[\"other barcode\"],[\"other barcode\"],[\"other barcode\"],[\"other barcode\"],[\"other barcode\"],[\"other barcode\"],[\"other barcode\"],[\"other barcode\"],[\"other barcode\"],[\"other barcode\"],[\"other barcode\"],[\"other barcode\"],[\"other barcode\"],[\"other barcode\"],[\"other barcode\"],[\"other barcode\"],[\"other barcode\"],[\"other barcode\"],[\"other barcode\"],[\"other barcode\"],[\"other barcode\"],[\"other barcode\"],[\"other barcode\"],[\"other barcode\"],[\"other barcode\"],[\"other barcode\"],[\"other barcode\"],[\"other barcode\"],[\"other barcode\"],[\"other barcode\"],[\"other barcode\"],[\"other barcode\"],[\"other barcode\"],[\"other barcode\"],[\"other barcode\"],[\"other barcode\"],[\"other barcode\"],[\"other barcode\"],[\"other barcode\"],[\"other barcode\"],[\"other barcode\"],[\"other barcode\"],[\"other barcode\"],[\"other barcode\"],[\"other barcode\"],[\"other barcode\"],[\"other barcode\"],[\"other barcode\"],[\"other barcode\"],[\"other barcode\"],[\"other barcode\"],[\"unclassified\"],[\"unclassified\"]],\"domain\":{\"x\":[0.0,1.0],\"y\":[0.0,1.0]},\"hovertemplate\":\"class=%{customdata[0]}<br>reads=%{value}<extra></extra>\",\"labels\":[\"Sample (fail)\",\"Sample (fail)\",\"Sample (fail)\",\"Sample (fail)\",\"Sample (fail)\",\"Sample (fail)\",\"Sample (fail)\",\"Sample (fail)\",\"Sample (fail)\",\"Sample (fail)\",\"Sample (fail)\",\"Sample (fail)\",\"Sample (fail)\",\"Sample (fail)\",\"Sample (fail)\",\"Sample (fail)\",\"Sample (fail)\",\"Sample (fail)\",\"Sample (fail)\",\"Sample (fail)\",\"Sample (fail)\",\"Sample (fail)\",\"Sample (fail)\",\"Sample (fail)\",\"Sample (fail)\",\"Sample (fail)\",\"Sample (fail)\",\"Sample (fail)\",\"Sample (fail)\",\"Sample (fail)\",\"Sample (pass)\",\"Sample (pass)\",\"Sample (pass)\",\"Sample (pass)\",\"Sample (pass)\",\"Sample (pass)\",\"Sample (pass)\",\"Sample (pass)\",\"Sample (pass)\",\"Sample (pass)\",\"Sample (pass)\",\"Sample (pass)\",\"Sample (pass)\",\"Sample (pass)\",\"Sample (pass)\",\"Sample (pass)\",\"Sample (pass)\",\"Sample (pass)\",\"Sample (pass)\",\"Sample (pass)\",\"Sample (pass)\",\"Sample (pass)\",\"Sample (pass)\",\"Sample (pass)\",\"Sample (pass)\",\"Sample (pass)\",\"Sample (pass)\",\"Sample (pass)\",\"Sample (pass)\",\"Sample (pass)\",\"other barcode\",\"other barcode\",\"other barcode\",\"other barcode\",\"other barcode\",\"other barcode\",\"other barcode\",\"other barcode\",\"other barcode\",\"other barcode\",\"other barcode\",\"other barcode\",\"other barcode\",\"other barcode\",\"other barcode\",\"other barcode\",\"other barcode\",\"other barcode\",\"other barcode\",\"other barcode\",\"other barcode\",\"other barcode\",\"other barcode\",\"other barcode\",\"other barcode\",\"other barcode\",\"other barcode\",\"other barcode\",\"other barcode\",\"other barcode\",\"other barcode\",\"other barcode\",\"other barcode\",\"other barcode\",\"other barcode\",\"other barcode\",\"other barcode\",\"other barcode\",\"other barcode\",\"other barcode\",\"other barcode\",\"other barcode\",\"other barcode\",\"other barcode\",\"other barcode\",\"other barcode\",\"other barcode\",\"other barcode\",\"other barcode\",\"other barcode\",\"other barcode\",\"other barcode\",\"other barcode\",\"other barcode\",\"other barcode\",\"other barcode\",\"other barcode\",\"other barcode\",\"other barcode\",\"other barcode\",\"other barcode\",\"other barcode\",\"other barcode\",\"other barcode\",\"other barcode\",\"other barcode\",\"other barcode\",\"other barcode\",\"other barcode\",\"other barcode\",\"other barcode\",\"other barcode\",\"other barcode\",\"other barcode\",\"other barcode\",\"other barcode\",\"other barcode\",\"other barcode\",\"other barcode\",\"other barcode\",\"other barcode\",\"other barcode\",\"other barcode\",\"other barcode\",\"other barcode\",\"other barcode\",\"other barcode\",\"other barcode\",\"other barcode\",\"other barcode\",\"other barcode\",\"other barcode\",\"other barcode\",\"other barcode\",\"other barcode\",\"other barcode\",\"other barcode\",\"other barcode\",\"other barcode\",\"other barcode\",\"other barcode\",\"other barcode\",\"other barcode\",\"other barcode\",\"other barcode\",\"other barcode\",\"other barcode\",\"other barcode\",\"other barcode\",\"other barcode\",\"other barcode\",\"other barcode\",\"other barcode\",\"other barcode\",\"other barcode\",\"other barcode\",\"other barcode\",\"other barcode\",\"other barcode\",\"other barcode\",\"other barcode\",\"other barcode\",\"other barcode\",\"other barcode\",\"other barcode\",\"other barcode\",\"other barcode\",\"other barcode\",\"other barcode\",\"other barcode\",\"other barcode\",\"other barcode\",\"unclassified\",\"unclassified\"],\"legendgroup\":\"\",\"marker\":{\"colors\":[\"orange\",\"orange\",\"orange\",\"orange\",\"orange\",\"orange\",\"orange\",\"orange\",\"orange\",\"orange\",\"orange\",\"orange\",\"orange\",\"orange\",\"orange\",\"orange\",\"orange\",\"orange\",\"orange\",\"orange\",\"orange\",\"orange\",\"orange\",\"orange\",\"orange\",\"orange\",\"orange\",\"orange\",\"orange\",\"orange\",\"green\",\"green\",\"green\",\"green\",\"green\",\"green\",\"green\",\"green\",\"green\",\"green\",\"green\",\"green\",\"green\",\"green\",\"green\",\"green\",\"green\",\"green\",\"green\",\"green\",\"green\",\"green\",\"green\",\"green\",\"green\",\"green\",\"green\",\"green\",\"green\",\"green\",\"grey\",\"grey\",\"grey\",\"grey\",\"grey\",\"grey\",\"grey\",\"grey\",\"grey\",\"grey\",\"grey\",\"grey\",\"grey\",\"grey\",\"grey\",\"grey\",\"grey\",\"grey\",\"grey\",\"grey\",\"grey\",\"grey\",\"grey\",\"grey\",\"grey\",\"grey\",\"grey\",\"grey\",\"grey\",\"grey\",\"grey\",\"grey\",\"grey\",\"grey\",\"grey\",\"grey\",\"grey\",\"grey\",\"grey\",\"grey\",\"grey\",\"grey\",\"grey\",\"grey\",\"grey\",\"grey\",\"grey\",\"grey\",\"grey\",\"grey\",\"grey\",\"grey\",\"grey\",\"grey\",\"grey\",\"grey\",\"grey\",\"grey\",\"grey\",\"grey\",\"grey\",\"grey\",\"grey\",\"grey\",\"grey\",\"grey\",\"grey\",\"grey\",\"grey\",\"grey\",\"grey\",\"grey\",\"grey\",\"grey\",\"grey\",\"grey\",\"grey\",\"grey\",\"grey\",\"grey\",\"grey\",\"grey\",\"grey\",\"grey\",\"grey\",\"grey\",\"grey\",\"grey\",\"grey\",\"grey\",\"grey\",\"grey\",\"grey\",\"grey\",\"grey\",\"grey\",\"grey\",\"grey\",\"grey\",\"grey\",\"grey\",\"grey\",\"grey\",\"grey\",\"grey\",\"grey\",\"grey\",\"grey\",\"grey\",\"grey\",\"grey\",\"grey\",\"grey\",\"grey\",\"grey\",\"grey\",\"grey\",\"grey\",\"grey\",\"grey\",\"grey\",\"grey\",\"grey\",\"grey\",\"grey\",\"grey\",\"grey\",\"grey\",\"grey\",\"grey\",\"grey\",\"grey\",\"black\",\"black\"]},\"name\":\"\",\"showlegend\":true,\"values\":[4371,1546,3826,1376,30933,2105,19284,17110,57746,12487,17277,9702,9029,7868,7923,9881,10927,10470,8498,11408,30030,16709,9632,9502,11677,7795,7119,7020,14397,22879,124851,126913,91241,178714,324798,31446,66805,60285,24582,71787,160380,62628,81996,62801,99331,110811,89591,105368,76088,40169,70380,122301,40359,623197,83985,102303,168175,92844,42138,367028,1,7,5,2,79,1,7,7,4,16,3,19,4,16,8,4,3,3,74,7,1,4,3,1,14,1,4,1,2,3,8,13,4,2,4,7,2,9,3,6,4,9,6,5,2,4,14,4,4,33,8,3,1,7,3,2,3,12,3,2,3,9,5,59,3,42,41,37,18,54,33,50,60,54,18,38,55,49,19,26,162,14,21,71,23,21,47,56,70,26,25,83,39,65,128,75,34,17,36,25,35,14,13,65,5,55,20,13,23,24,47,59,33,27,79,32,30,34,39,34,216,23,4,49,36,85,46,59,30,76,49,3,435865,61879],\"type\":\"pie\",\"sort\":false}],                        {\"template\":{\"data\":{\"histogram2dcontour\":[{\"type\":\"histogram2dcontour\",\"colorbar\":{\"outlinewidth\":0,\"ticks\":\"\"},\"colorscale\":[[0.0,\"#0d0887\"],[0.1111111111111111,\"#46039f\"],[0.2222222222222222,\"#7201a8\"],[0.3333333333333333,\"#9c179e\"],[0.4444444444444444,\"#bd3786\"],[0.5555555555555556,\"#d8576b\"],[0.6666666666666666,\"#ed7953\"],[0.7777777777777778,\"#fb9f3a\"],[0.8888888888888888,\"#fdca26\"],[1.0,\"#f0f921\"]]}],\"choropleth\":[{\"type\":\"choropleth\",\"colorbar\":{\"outlinewidth\":0,\"ticks\":\"\"}}],\"histogram2d\":[{\"type\":\"histogram2d\",\"colorbar\":{\"outlinewidth\":0,\"ticks\":\"\"},\"colorscale\":[[0.0,\"#0d0887\"],[0.1111111111111111,\"#46039f\"],[0.2222222222222222,\"#7201a8\"],[0.3333333333333333,\"#9c179e\"],[0.4444444444444444,\"#bd3786\"],[0.5555555555555556,\"#d8576b\"],[0.6666666666666666,\"#ed7953\"],[0.7777777777777778,\"#fb9f3a\"],[0.8888888888888888,\"#fdca26\"],[1.0,\"#f0f921\"]]}],\"heatmap\":[{\"type\":\"heatmap\",\"colorbar\":{\"outlinewidth\":0,\"ticks\":\"\"},\"colorscale\":[[0.0,\"#0d0887\"],[0.1111111111111111,\"#46039f\"],[0.2222222222222222,\"#7201a8\"],[0.3333333333333333,\"#9c179e\"],[0.4444444444444444,\"#bd3786\"],[0.5555555555555556,\"#d8576b\"],[0.6666666666666666,\"#ed7953\"],[0.7777777777777778,\"#fb9f3a\"],[0.8888888888888888,\"#fdca26\"],[1.0,\"#f0f921\"]]}],\"heatmapgl\":[{\"type\":\"heatmapgl\",\"colorbar\":{\"outlinewidth\":0,\"ticks\":\"\"},\"colorscale\":[[0.0,\"#0d0887\"],[0.1111111111111111,\"#46039f\"],[0.2222222222222222,\"#7201a8\"],[0.3333333333333333,\"#9c179e\"],[0.4444444444444444,\"#bd3786\"],[0.5555555555555556,\"#d8576b\"],[0.6666666666666666,\"#ed7953\"],[0.7777777777777778,\"#fb9f3a\"],[0.8888888888888888,\"#fdca26\"],[1.0,\"#f0f921\"]]}],\"contourcarpet\":[{\"type\":\"contourcarpet\",\"colorbar\":{\"outlinewidth\":0,\"ticks\":\"\"}}],\"contour\":[{\"type\":\"contour\",\"colorbar\":{\"outlinewidth\":0,\"ticks\":\"\"},\"colorscale\":[[0.0,\"#0d0887\"],[0.1111111111111111,\"#46039f\"],[0.2222222222222222,\"#7201a8\"],[0.3333333333333333,\"#9c179e\"],[0.4444444444444444,\"#bd3786\"],[0.5555555555555556,\"#d8576b\"],[0.6666666666666666,\"#ed7953\"],[0.7777777777777778,\"#fb9f3a\"],[0.8888888888888888,\"#fdca26\"],[1.0,\"#f0f921\"]]}],\"surface\":[{\"type\":\"surface\",\"colorbar\":{\"outlinewidth\":0,\"ticks\":\"\"},\"colorscale\":[[0.0,\"#0d0887\"],[0.1111111111111111,\"#46039f\"],[0.2222222222222222,\"#7201a8\"],[0.3333333333333333,\"#9c179e\"],[0.4444444444444444,\"#bd3786\"],[0.5555555555555556,\"#d8576b\"],[0.6666666666666666,\"#ed7953\"],[0.7777777777777778,\"#fb9f3a\"],[0.8888888888888888,\"#fdca26\"],[1.0,\"#f0f921\"]]}],\"mesh3d\":[{\"type\":\"mesh3d\",\"colorbar\":{\"outlinewidth\":0,\"ticks\":\"\"}}],\"scatter\":[{\"fillpattern\":{\"fillmode\":\"overlay\",\"size\":10,\"solidity\":0.2},\"type\":\"scatter\"}],\"parcoords\":[{\"type\":\"parcoords\",\"line\":{\"colorbar\":{\"outlinewidth\":0,\"ticks\":\"\"}}}],\"scatterpolargl\":[{\"type\":\"scatterpolargl\",\"marker\":{\"colorbar\":{\"outlinewidth\":0,\"ticks\":\"\"}}}],\"bar\":[{\"error_x\":{\"color\":\"#2a3f5f\"},\"error_y\":{\"color\":\"#2a3f5f\"},\"marker\":{\"line\":{\"color\":\"#E5ECF6\",\"width\":0.5},\"pattern\":{\"fillmode\":\"overlay\",\"size\":10,\"solidity\":0.2}},\"type\":\"bar\"}],\"scattergeo\":[{\"type\":\"scattergeo\",\"marker\":{\"colorbar\":{\"outlinewidth\":0,\"ticks\":\"\"}}}],\"scatterpolar\":[{\"type\":\"scatterpolar\",\"marker\":{\"colorbar\":{\"outlinewidth\":0,\"ticks\":\"\"}}}],\"histogram\":[{\"marker\":{\"pattern\":{\"fillmode\":\"overlay\",\"size\":10,\"solidity\":0.2}},\"type\":\"histogram\"}],\"scattergl\":[{\"type\":\"scattergl\",\"marker\":{\"colorbar\":{\"outlinewidth\":0,\"ticks\":\"\"}}}],\"scatter3d\":[{\"type\":\"scatter3d\",\"line\":{\"colorbar\":{\"outlinewidth\":0,\"ticks\":\"\"}},\"marker\":{\"colorbar\":{\"outlinewidth\":0,\"ticks\":\"\"}}}],\"scattermapbox\":[{\"type\":\"scattermapbox\",\"marker\":{\"colorbar\":{\"outlinewidth\":0,\"ticks\":\"\"}}}],\"scatterternary\":[{\"type\":\"scatterternary\",\"marker\":{\"colorbar\":{\"outlinewidth\":0,\"ticks\":\"\"}}}],\"scattercarpet\":[{\"type\":\"scattercarpet\",\"marker\":{\"colorbar\":{\"outlinewidth\":0,\"ticks\":\"\"}}}],\"carpet\":[{\"aaxis\":{\"endlinecolor\":\"#2a3f5f\",\"gridcolor\":\"white\",\"linecolor\":\"white\",\"minorgridcolor\":\"white\",\"startlinecolor\":\"#2a3f5f\"},\"baxis\":{\"endlinecolor\":\"#2a3f5f\",\"gridcolor\":\"white\",\"linecolor\":\"white\",\"minorgridcolor\":\"white\",\"startlinecolor\":\"#2a3f5f\"},\"type\":\"carpet\"}],\"table\":[{\"cells\":{\"fill\":{\"color\":\"#EBF0F8\"},\"line\":{\"color\":\"white\"}},\"header\":{\"fill\":{\"color\":\"#C8D4E3\"},\"line\":{\"color\":\"white\"}},\"type\":\"table\"}],\"barpolar\":[{\"marker\":{\"line\":{\"color\":\"#E5ECF6\",\"width\":0.5},\"pattern\":{\"fillmode\":\"overlay\",\"size\":10,\"solidity\":0.2}},\"type\":\"barpolar\"}],\"pie\":[{\"automargin\":true,\"type\":\"pie\"}]},\"layout\":{\"autotypenumbers\":\"strict\",\"colorway\":[\"#636efa\",\"#EF553B\",\"#00cc96\",\"#ab63fa\",\"#FFA15A\",\"#19d3f3\",\"#FF6692\",\"#B6E880\",\"#FF97FF\",\"#FECB52\"],\"font\":{\"color\":\"#2a3f5f\"},\"hovermode\":\"closest\",\"hoverlabel\":{\"align\":\"left\"},\"paper_bgcolor\":\"white\",\"plot_bgcolor\":\"#E5ECF6\",\"polar\":{\"bgcolor\":\"#E5ECF6\",\"angularaxis\":{\"gridcolor\":\"white\",\"linecolor\":\"white\",\"ticks\":\"\"},\"radialaxis\":{\"gridcolor\":\"white\",\"linecolor\":\"white\",\"ticks\":\"\"}},\"ternary\":{\"bgcolor\":\"#E5ECF6\",\"aaxis\":{\"gridcolor\":\"white\",\"linecolor\":\"white\",\"ticks\":\"\"},\"baxis\":{\"gridcolor\":\"white\",\"linecolor\":\"white\",\"ticks\":\"\"},\"caxis\":{\"gridcolor\":\"white\",\"linecolor\":\"white\",\"ticks\":\"\"}},\"coloraxis\":{\"colorbar\":{\"outlinewidth\":0,\"ticks\":\"\"}},\"colorscale\":{\"sequential\":[[0.0,\"#0d0887\"],[0.1111111111111111,\"#46039f\"],[0.2222222222222222,\"#7201a8\"],[0.3333333333333333,\"#9c179e\"],[0.4444444444444444,\"#bd3786\"],[0.5555555555555556,\"#d8576b\"],[0.6666666666666666,\"#ed7953\"],[0.7777777777777778,\"#fb9f3a\"],[0.8888888888888888,\"#fdca26\"],[1.0,\"#f0f921\"]],\"sequentialminus\":[[0.0,\"#0d0887\"],[0.1111111111111111,\"#46039f\"],[0.2222222222222222,\"#7201a8\"],[0.3333333333333333,\"#9c179e\"],[0.4444444444444444,\"#bd3786\"],[0.5555555555555556,\"#d8576b\"],[0.6666666666666666,\"#ed7953\"],[0.7777777777777778,\"#fb9f3a\"],[0.8888888888888888,\"#fdca26\"],[1.0,\"#f0f921\"]],\"diverging\":[[0,\"#8e0152\"],[0.1,\"#c51b7d\"],[0.2,\"#de77ae\"],[0.3,\"#f1b6da\"],[0.4,\"#fde0ef\"],[0.5,\"#f7f7f7\"],[0.6,\"#e6f5d0\"],[0.7,\"#b8e186\"],[0.8,\"#7fbc41\"],[0.9,\"#4d9221\"],[1,\"#276419\"]]},\"xaxis\":{\"gridcolor\":\"white\",\"linecolor\":\"white\",\"ticks\":\"\",\"title\":{\"standoff\":15},\"zerolinecolor\":\"white\",\"automargin\":true,\"zerolinewidth\":2},\"yaxis\":{\"gridcolor\":\"white\",\"linecolor\":\"white\",\"ticks\":\"\",\"title\":{\"standoff\":15},\"zerolinecolor\":\"white\",\"automargin\":true,\"zerolinewidth\":2},\"scene\":{\"xaxis\":{\"backgroundcolor\":\"#E5ECF6\",\"gridcolor\":\"white\",\"linecolor\":\"white\",\"showbackground\":true,\"ticks\":\"\",\"zerolinecolor\":\"white\",\"gridwidth\":2},\"yaxis\":{\"backgroundcolor\":\"#E5ECF6\",\"gridcolor\":\"white\",\"linecolor\":\"white\",\"showbackground\":true,\"ticks\":\"\",\"zerolinecolor\":\"white\",\"gridwidth\":2},\"zaxis\":{\"backgroundcolor\":\"#E5ECF6\",\"gridcolor\":\"white\",\"linecolor\":\"white\",\"showbackground\":true,\"ticks\":\"\",\"zerolinecolor\":\"white\",\"gridwidth\":2}},\"shapedefaults\":{\"line\":{\"color\":\"#2a3f5f\"}},\"annotationdefaults\":{\"arrowcolor\":\"#2a3f5f\",\"arrowhead\":0,\"arrowwidth\":1},\"geo\":{\"bgcolor\":\"white\",\"landcolor\":\"#E5ECF6\",\"subunitcolor\":\"white\",\"showland\":true,\"showlakes\":true,\"lakecolor\":\"white\"},\"title\":{\"x\":0.05},\"mapbox\":{\"style\":\"light\"}}},\"legend\":{\"tracegroupgap\":0},\"title\":{\"text\":\"001_20220412_FAME3 - Reads\"}},                        {\"displaylogo\": false, \"responsive\": true}                    ).then(function(){\n",
       "                            \n",
       "var gd = document.getElementById('663ee476-04d3-4817-881f-7dc2cdcc35f4');\n",
       "var x = new MutationObserver(function (mutations, observer) {{\n",
       "        var display = window.getComputedStyle(gd).display;\n",
       "        if (!display || display === 'none') {{\n",
       "            console.log([gd, 'removed!']);\n",
       "            Plotly.purge(gd);\n",
       "            observer.disconnect();\n",
       "        }}\n",
       "}});\n",
       "\n",
       "// Listen for the removal of the full notebook cells\n",
       "var notebookContainer = gd.closest('#notebook-container');\n",
       "if (notebookContainer) {{\n",
       "    x.observe(notebookContainer, {childList: true});\n",
       "}}\n",
       "\n",
       "// Listen for the clearing of the current output cell\n",
       "var outputEl = gd.closest('.output');\n",
       "if (outputEl) {{\n",
       "    x.observe(outputEl, {childList: true});\n",
       "}}\n",
       "\n",
       "                        })                };                });            </script>        </div>"
      ]
     },
     "metadata": {},
     "output_type": "display_data"
    }
   ],
   "source": [
    "fig5 = px.pie(\n",
    "    df, \n",
    "    values='reads', names='class', title=f\"{run_name} - Reads\",\n",
    "    color='class',\n",
    "    color_discrete_map={'unclassified':'black',\n",
    "                        'other barcode':'grey',\n",
    "                        'Sample (pass)':'green',\n",
    "                        'Sample (fail)':'orange'}\n",
    ")\n",
    "fig5.update_traces(sort=False) \n",
    "fig5.show(config={'displaylogo':False})"
   ]
  },
  {
   "cell_type": "code",
   "execution_count": 72,
   "id": "a86480cd",
   "metadata": {},
   "outputs": [
    {
     "data": {
      "application/vnd.plotly.v1+json": {
       "config": {
        "displaylogo": false,
        "plotlyServerURL": "https://plot.ly"
       },
       "data": [
        {
         "customdata": [
          [
           "Sample (fail)"
          ],
          [
           "Sample (fail)"
          ],
          [
           "Sample (fail)"
          ],
          [
           "Sample (fail)"
          ],
          [
           "Sample (fail)"
          ],
          [
           "Sample (fail)"
          ],
          [
           "Sample (fail)"
          ],
          [
           "Sample (fail)"
          ],
          [
           "Sample (fail)"
          ],
          [
           "Sample (fail)"
          ],
          [
           "Sample (fail)"
          ],
          [
           "Sample (fail)"
          ],
          [
           "Sample (fail)"
          ],
          [
           "Sample (fail)"
          ],
          [
           "Sample (fail)"
          ],
          [
           "Sample (fail)"
          ],
          [
           "Sample (fail)"
          ],
          [
           "Sample (fail)"
          ],
          [
           "Sample (fail)"
          ],
          [
           "Sample (fail)"
          ],
          [
           "Sample (fail)"
          ],
          [
           "Sample (fail)"
          ],
          [
           "Sample (fail)"
          ],
          [
           "Sample (fail)"
          ],
          [
           "Sample (fail)"
          ],
          [
           "Sample (fail)"
          ],
          [
           "Sample (fail)"
          ],
          [
           "Sample (fail)"
          ],
          [
           "Sample (fail)"
          ],
          [
           "Sample (fail)"
          ],
          [
           "Sample (pass)"
          ],
          [
           "Sample (pass)"
          ],
          [
           "Sample (pass)"
          ],
          [
           "Sample (pass)"
          ],
          [
           "Sample (pass)"
          ],
          [
           "Sample (pass)"
          ],
          [
           "Sample (pass)"
          ],
          [
           "Sample (pass)"
          ],
          [
           "Sample (pass)"
          ],
          [
           "Sample (pass)"
          ],
          [
           "Sample (pass)"
          ],
          [
           "Sample (pass)"
          ],
          [
           "Sample (pass)"
          ],
          [
           "Sample (pass)"
          ],
          [
           "Sample (pass)"
          ],
          [
           "Sample (pass)"
          ],
          [
           "Sample (pass)"
          ],
          [
           "Sample (pass)"
          ],
          [
           "Sample (pass)"
          ],
          [
           "Sample (pass)"
          ],
          [
           "Sample (pass)"
          ],
          [
           "Sample (pass)"
          ],
          [
           "Sample (pass)"
          ],
          [
           "Sample (pass)"
          ],
          [
           "Sample (pass)"
          ],
          [
           "Sample (pass)"
          ],
          [
           "Sample (pass)"
          ],
          [
           "Sample (pass)"
          ],
          [
           "Sample (pass)"
          ],
          [
           "Sample (pass)"
          ],
          [
           "other barcode"
          ],
          [
           "other barcode"
          ],
          [
           "other barcode"
          ],
          [
           "other barcode"
          ],
          [
           "other barcode"
          ],
          [
           "other barcode"
          ],
          [
           "other barcode"
          ],
          [
           "other barcode"
          ],
          [
           "other barcode"
          ],
          [
           "other barcode"
          ],
          [
           "other barcode"
          ],
          [
           "other barcode"
          ],
          [
           "other barcode"
          ],
          [
           "other barcode"
          ],
          [
           "other barcode"
          ],
          [
           "other barcode"
          ],
          [
           "other barcode"
          ],
          [
           "other barcode"
          ],
          [
           "other barcode"
          ],
          [
           "other barcode"
          ],
          [
           "other barcode"
          ],
          [
           "other barcode"
          ],
          [
           "other barcode"
          ],
          [
           "other barcode"
          ],
          [
           "other barcode"
          ],
          [
           "other barcode"
          ],
          [
           "other barcode"
          ],
          [
           "other barcode"
          ],
          [
           "other barcode"
          ],
          [
           "other barcode"
          ],
          [
           "other barcode"
          ],
          [
           "other barcode"
          ],
          [
           "other barcode"
          ],
          [
           "other barcode"
          ],
          [
           "other barcode"
          ],
          [
           "other barcode"
          ],
          [
           "other barcode"
          ],
          [
           "other barcode"
          ],
          [
           "other barcode"
          ],
          [
           "other barcode"
          ],
          [
           "other barcode"
          ],
          [
           "other barcode"
          ],
          [
           "other barcode"
          ],
          [
           "other barcode"
          ],
          [
           "other barcode"
          ],
          [
           "other barcode"
          ],
          [
           "other barcode"
          ],
          [
           "other barcode"
          ],
          [
           "other barcode"
          ],
          [
           "other barcode"
          ],
          [
           "other barcode"
          ],
          [
           "other barcode"
          ],
          [
           "other barcode"
          ],
          [
           "other barcode"
          ],
          [
           "other barcode"
          ],
          [
           "other barcode"
          ],
          [
           "other barcode"
          ],
          [
           "other barcode"
          ],
          [
           "other barcode"
          ],
          [
           "other barcode"
          ],
          [
           "other barcode"
          ],
          [
           "other barcode"
          ],
          [
           "other barcode"
          ],
          [
           "other barcode"
          ],
          [
           "other barcode"
          ],
          [
           "other barcode"
          ],
          [
           "other barcode"
          ],
          [
           "other barcode"
          ],
          [
           "other barcode"
          ],
          [
           "other barcode"
          ],
          [
           "other barcode"
          ],
          [
           "other barcode"
          ],
          [
           "other barcode"
          ],
          [
           "other barcode"
          ],
          [
           "other barcode"
          ],
          [
           "other barcode"
          ],
          [
           "other barcode"
          ],
          [
           "other barcode"
          ],
          [
           "other barcode"
          ],
          [
           "other barcode"
          ],
          [
           "other barcode"
          ],
          [
           "other barcode"
          ],
          [
           "other barcode"
          ],
          [
           "other barcode"
          ],
          [
           "other barcode"
          ],
          [
           "other barcode"
          ],
          [
           "other barcode"
          ],
          [
           "other barcode"
          ],
          [
           "other barcode"
          ],
          [
           "other barcode"
          ],
          [
           "other barcode"
          ],
          [
           "other barcode"
          ],
          [
           "other barcode"
          ],
          [
           "other barcode"
          ],
          [
           "other barcode"
          ],
          [
           "other barcode"
          ],
          [
           "other barcode"
          ],
          [
           "other barcode"
          ],
          [
           "other barcode"
          ],
          [
           "other barcode"
          ],
          [
           "other barcode"
          ],
          [
           "other barcode"
          ],
          [
           "other barcode"
          ],
          [
           "other barcode"
          ],
          [
           "other barcode"
          ],
          [
           "other barcode"
          ],
          [
           "other barcode"
          ],
          [
           "other barcode"
          ],
          [
           "other barcode"
          ],
          [
           "other barcode"
          ],
          [
           "other barcode"
          ],
          [
           "other barcode"
          ],
          [
           "other barcode"
          ],
          [
           "other barcode"
          ],
          [
           "other barcode"
          ],
          [
           "other barcode"
          ],
          [
           "other barcode"
          ],
          [
           "other barcode"
          ],
          [
           "other barcode"
          ],
          [
           "other barcode"
          ],
          [
           "other barcode"
          ],
          [
           "other barcode"
          ],
          [
           "other barcode"
          ],
          [
           "other barcode"
          ],
          [
           "other barcode"
          ],
          [
           "other barcode"
          ],
          [
           "other barcode"
          ],
          [
           "other barcode"
          ],
          [
           "other barcode"
          ],
          [
           "other barcode"
          ],
          [
           "other barcode"
          ],
          [
           "other barcode"
          ],
          [
           "unclassified"
          ],
          [
           "unclassified"
          ]
         ],
         "domain": {
          "x": [
           0,
           1
          ],
          "y": [
           0,
           1
          ]
         },
         "hovertemplate": "class=%{customdata[0]}<br>bases=%{value}<extra></extra>",
         "labels": [
          "Sample (fail)",
          "Sample (fail)",
          "Sample (fail)",
          "Sample (fail)",
          "Sample (fail)",
          "Sample (fail)",
          "Sample (fail)",
          "Sample (fail)",
          "Sample (fail)",
          "Sample (fail)",
          "Sample (fail)",
          "Sample (fail)",
          "Sample (fail)",
          "Sample (fail)",
          "Sample (fail)",
          "Sample (fail)",
          "Sample (fail)",
          "Sample (fail)",
          "Sample (fail)",
          "Sample (fail)",
          "Sample (fail)",
          "Sample (fail)",
          "Sample (fail)",
          "Sample (fail)",
          "Sample (fail)",
          "Sample (fail)",
          "Sample (fail)",
          "Sample (fail)",
          "Sample (fail)",
          "Sample (fail)",
          "Sample (pass)",
          "Sample (pass)",
          "Sample (pass)",
          "Sample (pass)",
          "Sample (pass)",
          "Sample (pass)",
          "Sample (pass)",
          "Sample (pass)",
          "Sample (pass)",
          "Sample (pass)",
          "Sample (pass)",
          "Sample (pass)",
          "Sample (pass)",
          "Sample (pass)",
          "Sample (pass)",
          "Sample (pass)",
          "Sample (pass)",
          "Sample (pass)",
          "Sample (pass)",
          "Sample (pass)",
          "Sample (pass)",
          "Sample (pass)",
          "Sample (pass)",
          "Sample (pass)",
          "Sample (pass)",
          "Sample (pass)",
          "Sample (pass)",
          "Sample (pass)",
          "Sample (pass)",
          "Sample (pass)",
          "other barcode",
          "other barcode",
          "other barcode",
          "other barcode",
          "other barcode",
          "other barcode",
          "other barcode",
          "other barcode",
          "other barcode",
          "other barcode",
          "other barcode",
          "other barcode",
          "other barcode",
          "other barcode",
          "other barcode",
          "other barcode",
          "other barcode",
          "other barcode",
          "other barcode",
          "other barcode",
          "other barcode",
          "other barcode",
          "other barcode",
          "other barcode",
          "other barcode",
          "other barcode",
          "other barcode",
          "other barcode",
          "other barcode",
          "other barcode",
          "other barcode",
          "other barcode",
          "other barcode",
          "other barcode",
          "other barcode",
          "other barcode",
          "other barcode",
          "other barcode",
          "other barcode",
          "other barcode",
          "other barcode",
          "other barcode",
          "other barcode",
          "other barcode",
          "other barcode",
          "other barcode",
          "other barcode",
          "other barcode",
          "other barcode",
          "other barcode",
          "other barcode",
          "other barcode",
          "other barcode",
          "other barcode",
          "other barcode",
          "other barcode",
          "other barcode",
          "other barcode",
          "other barcode",
          "other barcode",
          "other barcode",
          "other barcode",
          "other barcode",
          "other barcode",
          "other barcode",
          "other barcode",
          "other barcode",
          "other barcode",
          "other barcode",
          "other barcode",
          "other barcode",
          "other barcode",
          "other barcode",
          "other barcode",
          "other barcode",
          "other barcode",
          "other barcode",
          "other barcode",
          "other barcode",
          "other barcode",
          "other barcode",
          "other barcode",
          "other barcode",
          "other barcode",
          "other barcode",
          "other barcode",
          "other barcode",
          "other barcode",
          "other barcode",
          "other barcode",
          "other barcode",
          "other barcode",
          "other barcode",
          "other barcode",
          "other barcode",
          "other barcode",
          "other barcode",
          "other barcode",
          "other barcode",
          "other barcode",
          "other barcode",
          "other barcode",
          "other barcode",
          "other barcode",
          "other barcode",
          "other barcode",
          "other barcode",
          "other barcode",
          "other barcode",
          "other barcode",
          "other barcode",
          "other barcode",
          "other barcode",
          "other barcode",
          "other barcode",
          "other barcode",
          "other barcode",
          "other barcode",
          "other barcode",
          "other barcode",
          "other barcode",
          "other barcode",
          "other barcode",
          "other barcode",
          "other barcode",
          "other barcode",
          "other barcode",
          "other barcode",
          "other barcode",
          "other barcode",
          "other barcode",
          "other barcode",
          "unclassified",
          "unclassified"
         ],
         "legendgroup": "",
         "marker": {
          "colors": [
           "orange",
           "orange",
           "orange",
           "orange",
           "orange",
           "orange",
           "orange",
           "orange",
           "orange",
           "orange",
           "orange",
           "orange",
           "orange",
           "orange",
           "orange",
           "orange",
           "orange",
           "orange",
           "orange",
           "orange",
           "orange",
           "orange",
           "orange",
           "orange",
           "orange",
           "orange",
           "orange",
           "orange",
           "orange",
           "orange",
           "green",
           "green",
           "green",
           "green",
           "green",
           "green",
           "green",
           "green",
           "green",
           "green",
           "green",
           "green",
           "green",
           "green",
           "green",
           "green",
           "green",
           "green",
           "green",
           "green",
           "green",
           "green",
           "green",
           "green",
           "green",
           "green",
           "green",
           "green",
           "green",
           "green",
           "grey",
           "grey",
           "grey",
           "grey",
           "grey",
           "grey",
           "grey",
           "grey",
           "grey",
           "grey",
           "grey",
           "grey",
           "grey",
           "grey",
           "grey",
           "grey",
           "grey",
           "grey",
           "grey",
           "grey",
           "grey",
           "grey",
           "grey",
           "grey",
           "grey",
           "grey",
           "grey",
           "grey",
           "grey",
           "grey",
           "grey",
           "grey",
           "grey",
           "grey",
           "grey",
           "grey",
           "grey",
           "grey",
           "grey",
           "grey",
           "grey",
           "grey",
           "grey",
           "grey",
           "grey",
           "grey",
           "grey",
           "grey",
           "grey",
           "grey",
           "grey",
           "grey",
           "grey",
           "grey",
           "grey",
           "grey",
           "grey",
           "grey",
           "grey",
           "grey",
           "grey",
           "grey",
           "grey",
           "grey",
           "grey",
           "grey",
           "grey",
           "grey",
           "grey",
           "grey",
           "grey",
           "grey",
           "grey",
           "grey",
           "grey",
           "grey",
           "grey",
           "grey",
           "grey",
           "grey",
           "grey",
           "grey",
           "grey",
           "grey",
           "grey",
           "grey",
           "grey",
           "grey",
           "grey",
           "grey",
           "grey",
           "grey",
           "grey",
           "grey",
           "grey",
           "grey",
           "grey",
           "grey",
           "grey",
           "grey",
           "grey",
           "grey",
           "grey",
           "grey",
           "grey",
           "grey",
           "grey",
           "grey",
           "grey",
           "grey",
           "grey",
           "grey",
           "grey",
           "grey",
           "grey",
           "grey",
           "grey",
           "grey",
           "grey",
           "grey",
           "grey",
           "grey",
           "grey",
           "grey",
           "grey",
           "grey",
           "grey",
           "grey",
           "grey",
           "grey",
           "grey",
           "grey",
           "black",
           "black"
          ]
         },
         "name": "",
         "showlegend": true,
         "sort": false,
         "type": "pie",
         "values": [
          5606222,
          1665962,
          6469334,
          1279553,
          14580282,
          1796497,
          115770787,
          89911223,
          56228597,
          91335919,
          73544791,
          36299758,
          57191869,
          25898945,
          26663295,
          17928702,
          30712031,
          34865127,
          26436426,
          45417195,
          24660597,
          41864949,
          28298860,
          19315887,
          23577442,
          18508456,
          11696728,
          9373493,
          48863073,
          87663245,
          111269135,
          243333956,
          116590557,
          180242594,
          149945043,
          37924301,
          89115776,
          53025990,
          24732214,
          143621367,
          142475999,
          117700085,
          80660187,
          86991239,
          78262121,
          148715914,
          103761526,
          157762426,
          171101789,
          169140164,
          108794488,
          263220290,
          169370994,
          282962794,
          276427268,
          275381914,
          288279330,
          73253538,
          32691655,
          207646059,
          0,
          7098,
          11748,
          1164,
          30396,
          728,
          20563,
          11827,
          6029,
          31402,
          7984,
          39832,
          11545,
          50491,
          26271,
          11136,
          13489,
          8708,
          54199,
          15176,
          4643,
          19261,
          18078,
          0,
          19432,
          4370,
          5964,
          0,
          2593,
          4353,
          15437,
          12095,
          13403,
          6741,
          8479,
          28360,
          3932,
          24323,
          7101,
          10875,
          2395,
          27675,
          13743,
          11016,
          10923,
          11496,
          40060,
          11456,
          4928,
          66742,
          30132,
          8228,
          4686,
          26952,
          4730,
          2002,
          14325,
          29414,
          4052,
          1531,
          9329,
          25252,
          16872,
          90773,
          10084,
          134362,
          124205,
          115771,
          31122,
          138864,
          77603,
          107765,
          107091,
          127157,
          30781,
          118421,
          98789,
          109267,
          51931,
          45042,
          288200,
          41317,
          45140,
          255013,
          59360,
          62285,
          123207,
          102731,
          148920,
          42957,
          45032,
          201665,
          145719,
          99498,
          176893,
          234362,
          66080,
          40533,
          61857,
          64541,
          67210,
          34451,
          17136,
          113128,
          8095,
          117840,
          47197,
          31449,
          64870,
          45999,
          88697,
          56855,
          79437,
          59449,
          195312,
          86473,
          120898,
          73300,
          93665,
          43029,
          177849,
          54400,
          9131,
          158861,
          31084,
          82779,
          119257,
          98804,
          77728,
          250642,
          67607,
          8841,
          848134490,
          142797652
         ]
        }
       ],
       "layout": {
        "legend": {
         "tracegroupgap": 0
        },
        "template": {
         "data": {
          "bar": [
           {
            "error_x": {
             "color": "#2a3f5f"
            },
            "error_y": {
             "color": "#2a3f5f"
            },
            "marker": {
             "line": {
              "color": "#E5ECF6",
              "width": 0.5
             },
             "pattern": {
              "fillmode": "overlay",
              "size": 10,
              "solidity": 0.2
             }
            },
            "type": "bar"
           }
          ],
          "barpolar": [
           {
            "marker": {
             "line": {
              "color": "#E5ECF6",
              "width": 0.5
             },
             "pattern": {
              "fillmode": "overlay",
              "size": 10,
              "solidity": 0.2
             }
            },
            "type": "barpolar"
           }
          ],
          "carpet": [
           {
            "aaxis": {
             "endlinecolor": "#2a3f5f",
             "gridcolor": "white",
             "linecolor": "white",
             "minorgridcolor": "white",
             "startlinecolor": "#2a3f5f"
            },
            "baxis": {
             "endlinecolor": "#2a3f5f",
             "gridcolor": "white",
             "linecolor": "white",
             "minorgridcolor": "white",
             "startlinecolor": "#2a3f5f"
            },
            "type": "carpet"
           }
          ],
          "choropleth": [
           {
            "colorbar": {
             "outlinewidth": 0,
             "ticks": ""
            },
            "type": "choropleth"
           }
          ],
          "contour": [
           {
            "colorbar": {
             "outlinewidth": 0,
             "ticks": ""
            },
            "colorscale": [
             [
              0,
              "#0d0887"
             ],
             [
              0.1111111111111111,
              "#46039f"
             ],
             [
              0.2222222222222222,
              "#7201a8"
             ],
             [
              0.3333333333333333,
              "#9c179e"
             ],
             [
              0.4444444444444444,
              "#bd3786"
             ],
             [
              0.5555555555555556,
              "#d8576b"
             ],
             [
              0.6666666666666666,
              "#ed7953"
             ],
             [
              0.7777777777777778,
              "#fb9f3a"
             ],
             [
              0.8888888888888888,
              "#fdca26"
             ],
             [
              1,
              "#f0f921"
             ]
            ],
            "type": "contour"
           }
          ],
          "contourcarpet": [
           {
            "colorbar": {
             "outlinewidth": 0,
             "ticks": ""
            },
            "type": "contourcarpet"
           }
          ],
          "heatmap": [
           {
            "colorbar": {
             "outlinewidth": 0,
             "ticks": ""
            },
            "colorscale": [
             [
              0,
              "#0d0887"
             ],
             [
              0.1111111111111111,
              "#46039f"
             ],
             [
              0.2222222222222222,
              "#7201a8"
             ],
             [
              0.3333333333333333,
              "#9c179e"
             ],
             [
              0.4444444444444444,
              "#bd3786"
             ],
             [
              0.5555555555555556,
              "#d8576b"
             ],
             [
              0.6666666666666666,
              "#ed7953"
             ],
             [
              0.7777777777777778,
              "#fb9f3a"
             ],
             [
              0.8888888888888888,
              "#fdca26"
             ],
             [
              1,
              "#f0f921"
             ]
            ],
            "type": "heatmap"
           }
          ],
          "heatmapgl": [
           {
            "colorbar": {
             "outlinewidth": 0,
             "ticks": ""
            },
            "colorscale": [
             [
              0,
              "#0d0887"
             ],
             [
              0.1111111111111111,
              "#46039f"
             ],
             [
              0.2222222222222222,
              "#7201a8"
             ],
             [
              0.3333333333333333,
              "#9c179e"
             ],
             [
              0.4444444444444444,
              "#bd3786"
             ],
             [
              0.5555555555555556,
              "#d8576b"
             ],
             [
              0.6666666666666666,
              "#ed7953"
             ],
             [
              0.7777777777777778,
              "#fb9f3a"
             ],
             [
              0.8888888888888888,
              "#fdca26"
             ],
             [
              1,
              "#f0f921"
             ]
            ],
            "type": "heatmapgl"
           }
          ],
          "histogram": [
           {
            "marker": {
             "pattern": {
              "fillmode": "overlay",
              "size": 10,
              "solidity": 0.2
             }
            },
            "type": "histogram"
           }
          ],
          "histogram2d": [
           {
            "colorbar": {
             "outlinewidth": 0,
             "ticks": ""
            },
            "colorscale": [
             [
              0,
              "#0d0887"
             ],
             [
              0.1111111111111111,
              "#46039f"
             ],
             [
              0.2222222222222222,
              "#7201a8"
             ],
             [
              0.3333333333333333,
              "#9c179e"
             ],
             [
              0.4444444444444444,
              "#bd3786"
             ],
             [
              0.5555555555555556,
              "#d8576b"
             ],
             [
              0.6666666666666666,
              "#ed7953"
             ],
             [
              0.7777777777777778,
              "#fb9f3a"
             ],
             [
              0.8888888888888888,
              "#fdca26"
             ],
             [
              1,
              "#f0f921"
             ]
            ],
            "type": "histogram2d"
           }
          ],
          "histogram2dcontour": [
           {
            "colorbar": {
             "outlinewidth": 0,
             "ticks": ""
            },
            "colorscale": [
             [
              0,
              "#0d0887"
             ],
             [
              0.1111111111111111,
              "#46039f"
             ],
             [
              0.2222222222222222,
              "#7201a8"
             ],
             [
              0.3333333333333333,
              "#9c179e"
             ],
             [
              0.4444444444444444,
              "#bd3786"
             ],
             [
              0.5555555555555556,
              "#d8576b"
             ],
             [
              0.6666666666666666,
              "#ed7953"
             ],
             [
              0.7777777777777778,
              "#fb9f3a"
             ],
             [
              0.8888888888888888,
              "#fdca26"
             ],
             [
              1,
              "#f0f921"
             ]
            ],
            "type": "histogram2dcontour"
           }
          ],
          "mesh3d": [
           {
            "colorbar": {
             "outlinewidth": 0,
             "ticks": ""
            },
            "type": "mesh3d"
           }
          ],
          "parcoords": [
           {
            "line": {
             "colorbar": {
              "outlinewidth": 0,
              "ticks": ""
             }
            },
            "type": "parcoords"
           }
          ],
          "pie": [
           {
            "automargin": true,
            "type": "pie"
           }
          ],
          "scatter": [
           {
            "fillpattern": {
             "fillmode": "overlay",
             "size": 10,
             "solidity": 0.2
            },
            "type": "scatter"
           }
          ],
          "scatter3d": [
           {
            "line": {
             "colorbar": {
              "outlinewidth": 0,
              "ticks": ""
             }
            },
            "marker": {
             "colorbar": {
              "outlinewidth": 0,
              "ticks": ""
             }
            },
            "type": "scatter3d"
           }
          ],
          "scattercarpet": [
           {
            "marker": {
             "colorbar": {
              "outlinewidth": 0,
              "ticks": ""
             }
            },
            "type": "scattercarpet"
           }
          ],
          "scattergeo": [
           {
            "marker": {
             "colorbar": {
              "outlinewidth": 0,
              "ticks": ""
             }
            },
            "type": "scattergeo"
           }
          ],
          "scattergl": [
           {
            "marker": {
             "colorbar": {
              "outlinewidth": 0,
              "ticks": ""
             }
            },
            "type": "scattergl"
           }
          ],
          "scattermapbox": [
           {
            "marker": {
             "colorbar": {
              "outlinewidth": 0,
              "ticks": ""
             }
            },
            "type": "scattermapbox"
           }
          ],
          "scatterpolar": [
           {
            "marker": {
             "colorbar": {
              "outlinewidth": 0,
              "ticks": ""
             }
            },
            "type": "scatterpolar"
           }
          ],
          "scatterpolargl": [
           {
            "marker": {
             "colorbar": {
              "outlinewidth": 0,
              "ticks": ""
             }
            },
            "type": "scatterpolargl"
           }
          ],
          "scatterternary": [
           {
            "marker": {
             "colorbar": {
              "outlinewidth": 0,
              "ticks": ""
             }
            },
            "type": "scatterternary"
           }
          ],
          "surface": [
           {
            "colorbar": {
             "outlinewidth": 0,
             "ticks": ""
            },
            "colorscale": [
             [
              0,
              "#0d0887"
             ],
             [
              0.1111111111111111,
              "#46039f"
             ],
             [
              0.2222222222222222,
              "#7201a8"
             ],
             [
              0.3333333333333333,
              "#9c179e"
             ],
             [
              0.4444444444444444,
              "#bd3786"
             ],
             [
              0.5555555555555556,
              "#d8576b"
             ],
             [
              0.6666666666666666,
              "#ed7953"
             ],
             [
              0.7777777777777778,
              "#fb9f3a"
             ],
             [
              0.8888888888888888,
              "#fdca26"
             ],
             [
              1,
              "#f0f921"
             ]
            ],
            "type": "surface"
           }
          ],
          "table": [
           {
            "cells": {
             "fill": {
              "color": "#EBF0F8"
             },
             "line": {
              "color": "white"
             }
            },
            "header": {
             "fill": {
              "color": "#C8D4E3"
             },
             "line": {
              "color": "white"
             }
            },
            "type": "table"
           }
          ]
         },
         "layout": {
          "annotationdefaults": {
           "arrowcolor": "#2a3f5f",
           "arrowhead": 0,
           "arrowwidth": 1
          },
          "autotypenumbers": "strict",
          "coloraxis": {
           "colorbar": {
            "outlinewidth": 0,
            "ticks": ""
           }
          },
          "colorscale": {
           "diverging": [
            [
             0,
             "#8e0152"
            ],
            [
             0.1,
             "#c51b7d"
            ],
            [
             0.2,
             "#de77ae"
            ],
            [
             0.3,
             "#f1b6da"
            ],
            [
             0.4,
             "#fde0ef"
            ],
            [
             0.5,
             "#f7f7f7"
            ],
            [
             0.6,
             "#e6f5d0"
            ],
            [
             0.7,
             "#b8e186"
            ],
            [
             0.8,
             "#7fbc41"
            ],
            [
             0.9,
             "#4d9221"
            ],
            [
             1,
             "#276419"
            ]
           ],
           "sequential": [
            [
             0,
             "#0d0887"
            ],
            [
             0.1111111111111111,
             "#46039f"
            ],
            [
             0.2222222222222222,
             "#7201a8"
            ],
            [
             0.3333333333333333,
             "#9c179e"
            ],
            [
             0.4444444444444444,
             "#bd3786"
            ],
            [
             0.5555555555555556,
             "#d8576b"
            ],
            [
             0.6666666666666666,
             "#ed7953"
            ],
            [
             0.7777777777777778,
             "#fb9f3a"
            ],
            [
             0.8888888888888888,
             "#fdca26"
            ],
            [
             1,
             "#f0f921"
            ]
           ],
           "sequentialminus": [
            [
             0,
             "#0d0887"
            ],
            [
             0.1111111111111111,
             "#46039f"
            ],
            [
             0.2222222222222222,
             "#7201a8"
            ],
            [
             0.3333333333333333,
             "#9c179e"
            ],
            [
             0.4444444444444444,
             "#bd3786"
            ],
            [
             0.5555555555555556,
             "#d8576b"
            ],
            [
             0.6666666666666666,
             "#ed7953"
            ],
            [
             0.7777777777777778,
             "#fb9f3a"
            ],
            [
             0.8888888888888888,
             "#fdca26"
            ],
            [
             1,
             "#f0f921"
            ]
           ]
          },
          "colorway": [
           "#636efa",
           "#EF553B",
           "#00cc96",
           "#ab63fa",
           "#FFA15A",
           "#19d3f3",
           "#FF6692",
           "#B6E880",
           "#FF97FF",
           "#FECB52"
          ],
          "font": {
           "color": "#2a3f5f"
          },
          "geo": {
           "bgcolor": "white",
           "lakecolor": "white",
           "landcolor": "#E5ECF6",
           "showlakes": true,
           "showland": true,
           "subunitcolor": "white"
          },
          "hoverlabel": {
           "align": "left"
          },
          "hovermode": "closest",
          "mapbox": {
           "style": "light"
          },
          "paper_bgcolor": "white",
          "plot_bgcolor": "#E5ECF6",
          "polar": {
           "angularaxis": {
            "gridcolor": "white",
            "linecolor": "white",
            "ticks": ""
           },
           "bgcolor": "#E5ECF6",
           "radialaxis": {
            "gridcolor": "white",
            "linecolor": "white",
            "ticks": ""
           }
          },
          "scene": {
           "xaxis": {
            "backgroundcolor": "#E5ECF6",
            "gridcolor": "white",
            "gridwidth": 2,
            "linecolor": "white",
            "showbackground": true,
            "ticks": "",
            "zerolinecolor": "white"
           },
           "yaxis": {
            "backgroundcolor": "#E5ECF6",
            "gridcolor": "white",
            "gridwidth": 2,
            "linecolor": "white",
            "showbackground": true,
            "ticks": "",
            "zerolinecolor": "white"
           },
           "zaxis": {
            "backgroundcolor": "#E5ECF6",
            "gridcolor": "white",
            "gridwidth": 2,
            "linecolor": "white",
            "showbackground": true,
            "ticks": "",
            "zerolinecolor": "white"
           }
          },
          "shapedefaults": {
           "line": {
            "color": "#2a3f5f"
           }
          },
          "ternary": {
           "aaxis": {
            "gridcolor": "white",
            "linecolor": "white",
            "ticks": ""
           },
           "baxis": {
            "gridcolor": "white",
            "linecolor": "white",
            "ticks": ""
           },
           "bgcolor": "#E5ECF6",
           "caxis": {
            "gridcolor": "white",
            "linecolor": "white",
            "ticks": ""
           }
          },
          "title": {
           "x": 0.05
          },
          "xaxis": {
           "automargin": true,
           "gridcolor": "white",
           "linecolor": "white",
           "ticks": "",
           "title": {
            "standoff": 15
           },
           "zerolinecolor": "white",
           "zerolinewidth": 2
          },
          "yaxis": {
           "automargin": true,
           "gridcolor": "white",
           "linecolor": "white",
           "ticks": "",
           "title": {
            "standoff": 15
           },
           "zerolinecolor": "white",
           "zerolinewidth": 2
          }
         }
        },
        "title": {
         "text": "001_20220412_FAME3 - Bases"
        }
       }
      },
      "text/html": [
       "<div>                            <div id=\"c097a72c-2af7-48e3-8d6e-bfafc154b33d\" class=\"plotly-graph-div\" style=\"height:525px; width:100%;\"></div>            <script type=\"text/javascript\">                require([\"plotly\"], function(Plotly) {                    window.PLOTLYENV=window.PLOTLYENV || {};                                    if (document.getElementById(\"c097a72c-2af7-48e3-8d6e-bfafc154b33d\")) {                    Plotly.newPlot(                        \"c097a72c-2af7-48e3-8d6e-bfafc154b33d\",                        [{\"customdata\":[[\"Sample (fail)\"],[\"Sample (fail)\"],[\"Sample (fail)\"],[\"Sample (fail)\"],[\"Sample (fail)\"],[\"Sample (fail)\"],[\"Sample (fail)\"],[\"Sample (fail)\"],[\"Sample (fail)\"],[\"Sample (fail)\"],[\"Sample (fail)\"],[\"Sample (fail)\"],[\"Sample (fail)\"],[\"Sample (fail)\"],[\"Sample (fail)\"],[\"Sample (fail)\"],[\"Sample (fail)\"],[\"Sample (fail)\"],[\"Sample (fail)\"],[\"Sample (fail)\"],[\"Sample (fail)\"],[\"Sample (fail)\"],[\"Sample (fail)\"],[\"Sample (fail)\"],[\"Sample (fail)\"],[\"Sample (fail)\"],[\"Sample (fail)\"],[\"Sample (fail)\"],[\"Sample (fail)\"],[\"Sample (fail)\"],[\"Sample (pass)\"],[\"Sample (pass)\"],[\"Sample (pass)\"],[\"Sample (pass)\"],[\"Sample (pass)\"],[\"Sample (pass)\"],[\"Sample (pass)\"],[\"Sample (pass)\"],[\"Sample (pass)\"],[\"Sample (pass)\"],[\"Sample (pass)\"],[\"Sample (pass)\"],[\"Sample (pass)\"],[\"Sample (pass)\"],[\"Sample (pass)\"],[\"Sample (pass)\"],[\"Sample (pass)\"],[\"Sample (pass)\"],[\"Sample (pass)\"],[\"Sample (pass)\"],[\"Sample (pass)\"],[\"Sample (pass)\"],[\"Sample (pass)\"],[\"Sample (pass)\"],[\"Sample (pass)\"],[\"Sample (pass)\"],[\"Sample (pass)\"],[\"Sample (pass)\"],[\"Sample (pass)\"],[\"Sample (pass)\"],[\"other barcode\"],[\"other barcode\"],[\"other barcode\"],[\"other barcode\"],[\"other barcode\"],[\"other barcode\"],[\"other barcode\"],[\"other barcode\"],[\"other barcode\"],[\"other barcode\"],[\"other barcode\"],[\"other barcode\"],[\"other barcode\"],[\"other barcode\"],[\"other barcode\"],[\"other barcode\"],[\"other barcode\"],[\"other barcode\"],[\"other barcode\"],[\"other barcode\"],[\"other barcode\"],[\"other barcode\"],[\"other barcode\"],[\"other barcode\"],[\"other barcode\"],[\"other barcode\"],[\"other barcode\"],[\"other barcode\"],[\"other barcode\"],[\"other barcode\"],[\"other barcode\"],[\"other barcode\"],[\"other barcode\"],[\"other barcode\"],[\"other barcode\"],[\"other barcode\"],[\"other barcode\"],[\"other barcode\"],[\"other barcode\"],[\"other barcode\"],[\"other barcode\"],[\"other barcode\"],[\"other barcode\"],[\"other barcode\"],[\"other barcode\"],[\"other barcode\"],[\"other barcode\"],[\"other barcode\"],[\"other barcode\"],[\"other barcode\"],[\"other barcode\"],[\"other barcode\"],[\"other barcode\"],[\"other barcode\"],[\"other barcode\"],[\"other barcode\"],[\"other barcode\"],[\"other barcode\"],[\"other barcode\"],[\"other barcode\"],[\"other barcode\"],[\"other barcode\"],[\"other barcode\"],[\"other barcode\"],[\"other barcode\"],[\"other barcode\"],[\"other barcode\"],[\"other barcode\"],[\"other barcode\"],[\"other barcode\"],[\"other barcode\"],[\"other barcode\"],[\"other barcode\"],[\"other barcode\"],[\"other barcode\"],[\"other barcode\"],[\"other barcode\"],[\"other barcode\"],[\"other barcode\"],[\"other barcode\"],[\"other barcode\"],[\"other barcode\"],[\"other barcode\"],[\"other barcode\"],[\"other barcode\"],[\"other barcode\"],[\"other barcode\"],[\"other barcode\"],[\"other barcode\"],[\"other barcode\"],[\"other barcode\"],[\"other barcode\"],[\"other barcode\"],[\"other barcode\"],[\"other barcode\"],[\"other barcode\"],[\"other barcode\"],[\"other barcode\"],[\"other barcode\"],[\"other barcode\"],[\"other barcode\"],[\"other barcode\"],[\"other barcode\"],[\"other barcode\"],[\"other barcode\"],[\"other barcode\"],[\"other barcode\"],[\"other barcode\"],[\"other barcode\"],[\"other barcode\"],[\"other barcode\"],[\"other barcode\"],[\"other barcode\"],[\"other barcode\"],[\"other barcode\"],[\"other barcode\"],[\"other barcode\"],[\"other barcode\"],[\"other barcode\"],[\"other barcode\"],[\"other barcode\"],[\"other barcode\"],[\"other barcode\"],[\"other barcode\"],[\"other barcode\"],[\"other barcode\"],[\"other barcode\"],[\"other barcode\"],[\"other barcode\"],[\"other barcode\"],[\"other barcode\"],[\"other barcode\"],[\"unclassified\"],[\"unclassified\"]],\"domain\":{\"x\":[0.0,1.0],\"y\":[0.0,1.0]},\"hovertemplate\":\"class=%{customdata[0]}<br>bases=%{value}<extra></extra>\",\"labels\":[\"Sample (fail)\",\"Sample (fail)\",\"Sample (fail)\",\"Sample (fail)\",\"Sample (fail)\",\"Sample (fail)\",\"Sample (fail)\",\"Sample (fail)\",\"Sample (fail)\",\"Sample (fail)\",\"Sample (fail)\",\"Sample (fail)\",\"Sample (fail)\",\"Sample (fail)\",\"Sample (fail)\",\"Sample (fail)\",\"Sample (fail)\",\"Sample (fail)\",\"Sample (fail)\",\"Sample (fail)\",\"Sample (fail)\",\"Sample (fail)\",\"Sample (fail)\",\"Sample (fail)\",\"Sample (fail)\",\"Sample (fail)\",\"Sample (fail)\",\"Sample (fail)\",\"Sample (fail)\",\"Sample (fail)\",\"Sample (pass)\",\"Sample (pass)\",\"Sample (pass)\",\"Sample (pass)\",\"Sample (pass)\",\"Sample (pass)\",\"Sample (pass)\",\"Sample (pass)\",\"Sample (pass)\",\"Sample (pass)\",\"Sample (pass)\",\"Sample (pass)\",\"Sample (pass)\",\"Sample (pass)\",\"Sample (pass)\",\"Sample (pass)\",\"Sample (pass)\",\"Sample (pass)\",\"Sample (pass)\",\"Sample (pass)\",\"Sample (pass)\",\"Sample (pass)\",\"Sample (pass)\",\"Sample (pass)\",\"Sample (pass)\",\"Sample (pass)\",\"Sample (pass)\",\"Sample (pass)\",\"Sample (pass)\",\"Sample (pass)\",\"other barcode\",\"other barcode\",\"other barcode\",\"other barcode\",\"other barcode\",\"other barcode\",\"other barcode\",\"other barcode\",\"other barcode\",\"other barcode\",\"other barcode\",\"other barcode\",\"other barcode\",\"other barcode\",\"other barcode\",\"other barcode\",\"other barcode\",\"other barcode\",\"other barcode\",\"other barcode\",\"other barcode\",\"other barcode\",\"other barcode\",\"other barcode\",\"other barcode\",\"other barcode\",\"other barcode\",\"other barcode\",\"other barcode\",\"other barcode\",\"other barcode\",\"other barcode\",\"other barcode\",\"other barcode\",\"other barcode\",\"other barcode\",\"other barcode\",\"other barcode\",\"other barcode\",\"other barcode\",\"other barcode\",\"other barcode\",\"other barcode\",\"other barcode\",\"other barcode\",\"other barcode\",\"other barcode\",\"other barcode\",\"other barcode\",\"other barcode\",\"other barcode\",\"other barcode\",\"other barcode\",\"other barcode\",\"other barcode\",\"other barcode\",\"other barcode\",\"other barcode\",\"other barcode\",\"other barcode\",\"other barcode\",\"other barcode\",\"other barcode\",\"other barcode\",\"other barcode\",\"other barcode\",\"other barcode\",\"other barcode\",\"other barcode\",\"other barcode\",\"other barcode\",\"other barcode\",\"other barcode\",\"other barcode\",\"other barcode\",\"other barcode\",\"other barcode\",\"other barcode\",\"other barcode\",\"other barcode\",\"other barcode\",\"other barcode\",\"other barcode\",\"other barcode\",\"other barcode\",\"other barcode\",\"other barcode\",\"other barcode\",\"other barcode\",\"other barcode\",\"other barcode\",\"other barcode\",\"other barcode\",\"other barcode\",\"other barcode\",\"other barcode\",\"other barcode\",\"other barcode\",\"other barcode\",\"other barcode\",\"other barcode\",\"other barcode\",\"other barcode\",\"other barcode\",\"other barcode\",\"other barcode\",\"other barcode\",\"other barcode\",\"other barcode\",\"other barcode\",\"other barcode\",\"other barcode\",\"other barcode\",\"other barcode\",\"other barcode\",\"other barcode\",\"other barcode\",\"other barcode\",\"other barcode\",\"other barcode\",\"other barcode\",\"other barcode\",\"other barcode\",\"other barcode\",\"other barcode\",\"other barcode\",\"other barcode\",\"other barcode\",\"other barcode\",\"other barcode\",\"other barcode\",\"other barcode\",\"unclassified\",\"unclassified\"],\"legendgroup\":\"\",\"marker\":{\"colors\":[\"orange\",\"orange\",\"orange\",\"orange\",\"orange\",\"orange\",\"orange\",\"orange\",\"orange\",\"orange\",\"orange\",\"orange\",\"orange\",\"orange\",\"orange\",\"orange\",\"orange\",\"orange\",\"orange\",\"orange\",\"orange\",\"orange\",\"orange\",\"orange\",\"orange\",\"orange\",\"orange\",\"orange\",\"orange\",\"orange\",\"green\",\"green\",\"green\",\"green\",\"green\",\"green\",\"green\",\"green\",\"green\",\"green\",\"green\",\"green\",\"green\",\"green\",\"green\",\"green\",\"green\",\"green\",\"green\",\"green\",\"green\",\"green\",\"green\",\"green\",\"green\",\"green\",\"green\",\"green\",\"green\",\"green\",\"grey\",\"grey\",\"grey\",\"grey\",\"grey\",\"grey\",\"grey\",\"grey\",\"grey\",\"grey\",\"grey\",\"grey\",\"grey\",\"grey\",\"grey\",\"grey\",\"grey\",\"grey\",\"grey\",\"grey\",\"grey\",\"grey\",\"grey\",\"grey\",\"grey\",\"grey\",\"grey\",\"grey\",\"grey\",\"grey\",\"grey\",\"grey\",\"grey\",\"grey\",\"grey\",\"grey\",\"grey\",\"grey\",\"grey\",\"grey\",\"grey\",\"grey\",\"grey\",\"grey\",\"grey\",\"grey\",\"grey\",\"grey\",\"grey\",\"grey\",\"grey\",\"grey\",\"grey\",\"grey\",\"grey\",\"grey\",\"grey\",\"grey\",\"grey\",\"grey\",\"grey\",\"grey\",\"grey\",\"grey\",\"grey\",\"grey\",\"grey\",\"grey\",\"grey\",\"grey\",\"grey\",\"grey\",\"grey\",\"grey\",\"grey\",\"grey\",\"grey\",\"grey\",\"grey\",\"grey\",\"grey\",\"grey\",\"grey\",\"grey\",\"grey\",\"grey\",\"grey\",\"grey\",\"grey\",\"grey\",\"grey\",\"grey\",\"grey\",\"grey\",\"grey\",\"grey\",\"grey\",\"grey\",\"grey\",\"grey\",\"grey\",\"grey\",\"grey\",\"grey\",\"grey\",\"grey\",\"grey\",\"grey\",\"grey\",\"grey\",\"grey\",\"grey\",\"grey\",\"grey\",\"grey\",\"grey\",\"grey\",\"grey\",\"grey\",\"grey\",\"grey\",\"grey\",\"grey\",\"grey\",\"grey\",\"grey\",\"grey\",\"grey\",\"grey\",\"grey\",\"grey\",\"grey\",\"black\",\"black\"]},\"name\":\"\",\"showlegend\":true,\"values\":[5606222.0,1665962.0,6469334.0,1279553.0,14580282.0,1796497.0,115770787.0,89911223.0,56228597.0,91335919.0,73544791.0,36299758.0,57191869.0,25898945.0,26663295.0,17928702.0,30712031.0,34865127.0,26436426.0,45417195.0,24660597.0,41864949.0,28298860.0,19315887.0,23577442.0,18508456.0,11696728.0,9373493.0,48863073.0,87663245.0,111269135.0,243333956.0,116590557.0,180242594.0,149945043.0,37924301.0,89115776.0,53025990.0,24732214.0,143621367.0,142475999.0,117700085.0,80660187.0,86991239.0,78262121.0,148715914.0,103761526.0,157762426.0,171101789.0,169140164.0,108794488.0,263220290.0,169370994.0,282962794.0,276427268.0,275381914.0,288279330.0,73253538.0,32691655.0,207646059.0,0.0,7098.0,11748.0,1164.0,30396.0,728.0,20563.0,11827.0,6029.0,31402.0,7984.0,39832.0,11545.0,50491.0,26271.0,11136.0,13489.0,8708.0,54199.0,15176.0,4643.0,19261.0,18078.0,0.0,19432.0,4370.0,5964.0,0.0,2593.0,4353.0,15437.0,12095.0,13403.0,6741.0,8479.0,28360.0,3932.0,24323.0,7101.0,10875.0,2395.0,27675.0,13743.0,11016.0,10923.0,11496.0,40060.0,11456.0,4928.0,66742.0,30132.0,8228.0,4686.0,26952.0,4730.0,2002.0,14325.0,29414.0,4052.0,1531.0,9329.0,25252.0,16872.0,90773.0,10084.0,134362.0,124205.0,115771.0,31122.0,138864.0,77603.0,107765.0,107091.0,127157.0,30781.0,118421.0,98789.0,109267.0,51931.0,45042.0,288200.0,41317.0,45140.0,255013.0,59360.0,62285.0,123207.0,102731.0,148920.0,42957.0,45032.0,201665.0,145719.0,99498.0,176893.0,234362.0,66080.0,40533.0,61857.0,64541.0,67210.0,34451.0,17136.0,113128.0,8095.0,117840.0,47197.0,31449.0,64870.0,45999.0,88697.0,56855.0,79437.0,59449.0,195312.0,86473.0,120898.0,73300.0,93665.0,43029.0,177849.0,54400.0,9131.0,158861.0,31084.0,82779.0,119257.0,98804.0,77728.0,250642.0,67607.0,8841.0,848134490.0,142797652.0],\"type\":\"pie\",\"sort\":false}],                        {\"template\":{\"data\":{\"histogram2dcontour\":[{\"type\":\"histogram2dcontour\",\"colorbar\":{\"outlinewidth\":0,\"ticks\":\"\"},\"colorscale\":[[0.0,\"#0d0887\"],[0.1111111111111111,\"#46039f\"],[0.2222222222222222,\"#7201a8\"],[0.3333333333333333,\"#9c179e\"],[0.4444444444444444,\"#bd3786\"],[0.5555555555555556,\"#d8576b\"],[0.6666666666666666,\"#ed7953\"],[0.7777777777777778,\"#fb9f3a\"],[0.8888888888888888,\"#fdca26\"],[1.0,\"#f0f921\"]]}],\"choropleth\":[{\"type\":\"choropleth\",\"colorbar\":{\"outlinewidth\":0,\"ticks\":\"\"}}],\"histogram2d\":[{\"type\":\"histogram2d\",\"colorbar\":{\"outlinewidth\":0,\"ticks\":\"\"},\"colorscale\":[[0.0,\"#0d0887\"],[0.1111111111111111,\"#46039f\"],[0.2222222222222222,\"#7201a8\"],[0.3333333333333333,\"#9c179e\"],[0.4444444444444444,\"#bd3786\"],[0.5555555555555556,\"#d8576b\"],[0.6666666666666666,\"#ed7953\"],[0.7777777777777778,\"#fb9f3a\"],[0.8888888888888888,\"#fdca26\"],[1.0,\"#f0f921\"]]}],\"heatmap\":[{\"type\":\"heatmap\",\"colorbar\":{\"outlinewidth\":0,\"ticks\":\"\"},\"colorscale\":[[0.0,\"#0d0887\"],[0.1111111111111111,\"#46039f\"],[0.2222222222222222,\"#7201a8\"],[0.3333333333333333,\"#9c179e\"],[0.4444444444444444,\"#bd3786\"],[0.5555555555555556,\"#d8576b\"],[0.6666666666666666,\"#ed7953\"],[0.7777777777777778,\"#fb9f3a\"],[0.8888888888888888,\"#fdca26\"],[1.0,\"#f0f921\"]]}],\"heatmapgl\":[{\"type\":\"heatmapgl\",\"colorbar\":{\"outlinewidth\":0,\"ticks\":\"\"},\"colorscale\":[[0.0,\"#0d0887\"],[0.1111111111111111,\"#46039f\"],[0.2222222222222222,\"#7201a8\"],[0.3333333333333333,\"#9c179e\"],[0.4444444444444444,\"#bd3786\"],[0.5555555555555556,\"#d8576b\"],[0.6666666666666666,\"#ed7953\"],[0.7777777777777778,\"#fb9f3a\"],[0.8888888888888888,\"#fdca26\"],[1.0,\"#f0f921\"]]}],\"contourcarpet\":[{\"type\":\"contourcarpet\",\"colorbar\":{\"outlinewidth\":0,\"ticks\":\"\"}}],\"contour\":[{\"type\":\"contour\",\"colorbar\":{\"outlinewidth\":0,\"ticks\":\"\"},\"colorscale\":[[0.0,\"#0d0887\"],[0.1111111111111111,\"#46039f\"],[0.2222222222222222,\"#7201a8\"],[0.3333333333333333,\"#9c179e\"],[0.4444444444444444,\"#bd3786\"],[0.5555555555555556,\"#d8576b\"],[0.6666666666666666,\"#ed7953\"],[0.7777777777777778,\"#fb9f3a\"],[0.8888888888888888,\"#fdca26\"],[1.0,\"#f0f921\"]]}],\"surface\":[{\"type\":\"surface\",\"colorbar\":{\"outlinewidth\":0,\"ticks\":\"\"},\"colorscale\":[[0.0,\"#0d0887\"],[0.1111111111111111,\"#46039f\"],[0.2222222222222222,\"#7201a8\"],[0.3333333333333333,\"#9c179e\"],[0.4444444444444444,\"#bd3786\"],[0.5555555555555556,\"#d8576b\"],[0.6666666666666666,\"#ed7953\"],[0.7777777777777778,\"#fb9f3a\"],[0.8888888888888888,\"#fdca26\"],[1.0,\"#f0f921\"]]}],\"mesh3d\":[{\"type\":\"mesh3d\",\"colorbar\":{\"outlinewidth\":0,\"ticks\":\"\"}}],\"scatter\":[{\"fillpattern\":{\"fillmode\":\"overlay\",\"size\":10,\"solidity\":0.2},\"type\":\"scatter\"}],\"parcoords\":[{\"type\":\"parcoords\",\"line\":{\"colorbar\":{\"outlinewidth\":0,\"ticks\":\"\"}}}],\"scatterpolargl\":[{\"type\":\"scatterpolargl\",\"marker\":{\"colorbar\":{\"outlinewidth\":0,\"ticks\":\"\"}}}],\"bar\":[{\"error_x\":{\"color\":\"#2a3f5f\"},\"error_y\":{\"color\":\"#2a3f5f\"},\"marker\":{\"line\":{\"color\":\"#E5ECF6\",\"width\":0.5},\"pattern\":{\"fillmode\":\"overlay\",\"size\":10,\"solidity\":0.2}},\"type\":\"bar\"}],\"scattergeo\":[{\"type\":\"scattergeo\",\"marker\":{\"colorbar\":{\"outlinewidth\":0,\"ticks\":\"\"}}}],\"scatterpolar\":[{\"type\":\"scatterpolar\",\"marker\":{\"colorbar\":{\"outlinewidth\":0,\"ticks\":\"\"}}}],\"histogram\":[{\"marker\":{\"pattern\":{\"fillmode\":\"overlay\",\"size\":10,\"solidity\":0.2}},\"type\":\"histogram\"}],\"scattergl\":[{\"type\":\"scattergl\",\"marker\":{\"colorbar\":{\"outlinewidth\":0,\"ticks\":\"\"}}}],\"scatter3d\":[{\"type\":\"scatter3d\",\"line\":{\"colorbar\":{\"outlinewidth\":0,\"ticks\":\"\"}},\"marker\":{\"colorbar\":{\"outlinewidth\":0,\"ticks\":\"\"}}}],\"scattermapbox\":[{\"type\":\"scattermapbox\",\"marker\":{\"colorbar\":{\"outlinewidth\":0,\"ticks\":\"\"}}}],\"scatterternary\":[{\"type\":\"scatterternary\",\"marker\":{\"colorbar\":{\"outlinewidth\":0,\"ticks\":\"\"}}}],\"scattercarpet\":[{\"type\":\"scattercarpet\",\"marker\":{\"colorbar\":{\"outlinewidth\":0,\"ticks\":\"\"}}}],\"carpet\":[{\"aaxis\":{\"endlinecolor\":\"#2a3f5f\",\"gridcolor\":\"white\",\"linecolor\":\"white\",\"minorgridcolor\":\"white\",\"startlinecolor\":\"#2a3f5f\"},\"baxis\":{\"endlinecolor\":\"#2a3f5f\",\"gridcolor\":\"white\",\"linecolor\":\"white\",\"minorgridcolor\":\"white\",\"startlinecolor\":\"#2a3f5f\"},\"type\":\"carpet\"}],\"table\":[{\"cells\":{\"fill\":{\"color\":\"#EBF0F8\"},\"line\":{\"color\":\"white\"}},\"header\":{\"fill\":{\"color\":\"#C8D4E3\"},\"line\":{\"color\":\"white\"}},\"type\":\"table\"}],\"barpolar\":[{\"marker\":{\"line\":{\"color\":\"#E5ECF6\",\"width\":0.5},\"pattern\":{\"fillmode\":\"overlay\",\"size\":10,\"solidity\":0.2}},\"type\":\"barpolar\"}],\"pie\":[{\"automargin\":true,\"type\":\"pie\"}]},\"layout\":{\"autotypenumbers\":\"strict\",\"colorway\":[\"#636efa\",\"#EF553B\",\"#00cc96\",\"#ab63fa\",\"#FFA15A\",\"#19d3f3\",\"#FF6692\",\"#B6E880\",\"#FF97FF\",\"#FECB52\"],\"font\":{\"color\":\"#2a3f5f\"},\"hovermode\":\"closest\",\"hoverlabel\":{\"align\":\"left\"},\"paper_bgcolor\":\"white\",\"plot_bgcolor\":\"#E5ECF6\",\"polar\":{\"bgcolor\":\"#E5ECF6\",\"angularaxis\":{\"gridcolor\":\"white\",\"linecolor\":\"white\",\"ticks\":\"\"},\"radialaxis\":{\"gridcolor\":\"white\",\"linecolor\":\"white\",\"ticks\":\"\"}},\"ternary\":{\"bgcolor\":\"#E5ECF6\",\"aaxis\":{\"gridcolor\":\"white\",\"linecolor\":\"white\",\"ticks\":\"\"},\"baxis\":{\"gridcolor\":\"white\",\"linecolor\":\"white\",\"ticks\":\"\"},\"caxis\":{\"gridcolor\":\"white\",\"linecolor\":\"white\",\"ticks\":\"\"}},\"coloraxis\":{\"colorbar\":{\"outlinewidth\":0,\"ticks\":\"\"}},\"colorscale\":{\"sequential\":[[0.0,\"#0d0887\"],[0.1111111111111111,\"#46039f\"],[0.2222222222222222,\"#7201a8\"],[0.3333333333333333,\"#9c179e\"],[0.4444444444444444,\"#bd3786\"],[0.5555555555555556,\"#d8576b\"],[0.6666666666666666,\"#ed7953\"],[0.7777777777777778,\"#fb9f3a\"],[0.8888888888888888,\"#fdca26\"],[1.0,\"#f0f921\"]],\"sequentialminus\":[[0.0,\"#0d0887\"],[0.1111111111111111,\"#46039f\"],[0.2222222222222222,\"#7201a8\"],[0.3333333333333333,\"#9c179e\"],[0.4444444444444444,\"#bd3786\"],[0.5555555555555556,\"#d8576b\"],[0.6666666666666666,\"#ed7953\"],[0.7777777777777778,\"#fb9f3a\"],[0.8888888888888888,\"#fdca26\"],[1.0,\"#f0f921\"]],\"diverging\":[[0,\"#8e0152\"],[0.1,\"#c51b7d\"],[0.2,\"#de77ae\"],[0.3,\"#f1b6da\"],[0.4,\"#fde0ef\"],[0.5,\"#f7f7f7\"],[0.6,\"#e6f5d0\"],[0.7,\"#b8e186\"],[0.8,\"#7fbc41\"],[0.9,\"#4d9221\"],[1,\"#276419\"]]},\"xaxis\":{\"gridcolor\":\"white\",\"linecolor\":\"white\",\"ticks\":\"\",\"title\":{\"standoff\":15},\"zerolinecolor\":\"white\",\"automargin\":true,\"zerolinewidth\":2},\"yaxis\":{\"gridcolor\":\"white\",\"linecolor\":\"white\",\"ticks\":\"\",\"title\":{\"standoff\":15},\"zerolinecolor\":\"white\",\"automargin\":true,\"zerolinewidth\":2},\"scene\":{\"xaxis\":{\"backgroundcolor\":\"#E5ECF6\",\"gridcolor\":\"white\",\"linecolor\":\"white\",\"showbackground\":true,\"ticks\":\"\",\"zerolinecolor\":\"white\",\"gridwidth\":2},\"yaxis\":{\"backgroundcolor\":\"#E5ECF6\",\"gridcolor\":\"white\",\"linecolor\":\"white\",\"showbackground\":true,\"ticks\":\"\",\"zerolinecolor\":\"white\",\"gridwidth\":2},\"zaxis\":{\"backgroundcolor\":\"#E5ECF6\",\"gridcolor\":\"white\",\"linecolor\":\"white\",\"showbackground\":true,\"ticks\":\"\",\"zerolinecolor\":\"white\",\"gridwidth\":2}},\"shapedefaults\":{\"line\":{\"color\":\"#2a3f5f\"}},\"annotationdefaults\":{\"arrowcolor\":\"#2a3f5f\",\"arrowhead\":0,\"arrowwidth\":1},\"geo\":{\"bgcolor\":\"white\",\"landcolor\":\"#E5ECF6\",\"subunitcolor\":\"white\",\"showland\":true,\"showlakes\":true,\"lakecolor\":\"white\"},\"title\":{\"x\":0.05},\"mapbox\":{\"style\":\"light\"}}},\"legend\":{\"tracegroupgap\":0},\"title\":{\"text\":\"001_20220412_FAME3 - Bases\"}},                        {\"displaylogo\": false, \"responsive\": true}                    ).then(function(){\n",
       "                            \n",
       "var gd = document.getElementById('c097a72c-2af7-48e3-8d6e-bfafc154b33d');\n",
       "var x = new MutationObserver(function (mutations, observer) {{\n",
       "        var display = window.getComputedStyle(gd).display;\n",
       "        if (!display || display === 'none') {{\n",
       "            console.log([gd, 'removed!']);\n",
       "            Plotly.purge(gd);\n",
       "            observer.disconnect();\n",
       "        }}\n",
       "}});\n",
       "\n",
       "// Listen for the removal of the full notebook cells\n",
       "var notebookContainer = gd.closest('#notebook-container');\n",
       "if (notebookContainer) {{\n",
       "    x.observe(notebookContainer, {childList: true});\n",
       "}}\n",
       "\n",
       "// Listen for the clearing of the current output cell\n",
       "var outputEl = gd.closest('.output');\n",
       "if (outputEl) {{\n",
       "    x.observe(outputEl, {childList: true});\n",
       "}}\n",
       "\n",
       "                        })                };                });            </script>        </div>"
      ]
     },
     "metadata": {},
     "output_type": "display_data"
    }
   ],
   "source": [
    "fig6 = px.pie(\n",
    "    df, \n",
    "    values='bases', names='class', title=f\"{run_name} - Bases\",\n",
    "    color='class',\n",
    "    color_discrete_map={'unclassified':'black',\n",
    "                        'other barcode':'grey',\n",
    "                        'Sample (pass)':'green',\n",
    "                        'Sample (fail)':'orange'}\n",
    ")\n",
    "fig6.update_traces(sort=False) \n",
    "fig6.show(config={'displaylogo':False})"
   ]
  },
  {
   "cell_type": "markdown",
   "id": "dc136ec7",
   "metadata": {},
   "source": [
    "## Save to on html"
   ]
  },
  {
   "cell_type": "code",
   "execution_count": 75,
   "id": "ee72f7cc",
   "metadata": {},
   "outputs": [],
   "source": [
    "with open(str(outfile), 'w') as f:\n",
    "    f.write(fig5.to_html(full_html=False, include_plotlyjs='cdn', config={'displaylogo':False}))\n",
    "    f.write(fig1.to_html(full_html=False, include_plotlyjs='cdn', config={'displaylogo':False}))\n",
    "    f.write(fig3.to_html(full_html=False, include_plotlyjs='cdn', config={'displaylogo':False}))\n",
    "    f.write(fig6.to_html(full_html=False, include_plotlyjs='cdn', config={'displaylogo':False}))\n",
    "    f.write(fig2.to_html(full_html=False, include_plotlyjs='cdn', config={'displaylogo':False}))\n",
    "    f.write(fig4.to_html(full_html=False, include_plotlyjs='cdn', config={'displaylogo':False}))"
   ]
  },
  {
   "cell_type": "code",
   "execution_count": 74,
   "id": "8ec4ac5c",
   "metadata": {},
   "outputs": [
    {
     "data": {
      "text/plain": [
       "'001_20220412_FAME3.fastq_stats.html'"
      ]
     },
     "execution_count": 74,
     "metadata": {},
     "output_type": "execute_result"
    }
   ],
   "source": [
    "outfile"
   ]
  },
  {
   "cell_type": "code",
   "execution_count": null,
   "id": "d9953305",
   "metadata": {},
   "outputs": [],
   "source": []
  }
 ],
 "metadata": {
  "kernelspec": {
   "display_name": "Python 3 (ipykernel)",
   "language": "python",
   "name": "python3"
  },
  "language_info": {
   "codemirror_mode": {
    "name": "ipython",
    "version": 3
   },
   "file_extension": ".py",
   "mimetype": "text/x-python",
   "name": "python",
   "nbconvert_exporter": "python",
   "pygments_lexer": "ipython3",
   "version": "3.11.3"
  }
 },
 "nbformat": 4,
 "nbformat_minor": 5
}
